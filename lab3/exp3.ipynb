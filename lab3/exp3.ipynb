{
 "cells": [
  {
   "cell_type": "markdown",
   "metadata": {},
   "source": [
    "实验三 Linux环境项目管理工具使用\n",
    "======="
   ]
  },
  {
   "cell_type": "markdown",
   "metadata": {},
   "source": [
    "# 1. 实验类型\n",
    "\n",
    "验证型，4学时，必做实验\n",
    "\n",
    "\n",
    "# 2.  实验目的\n",
    "\n",
    "掌握源代码版本控制工具git的基本使用，理解源代码版本控制的原理。\n",
    "\n",
    "# 3. 题目描述\n",
    "\n",
    "通过一个简单的测试项目的源代码版本控制，实践git的使用，掌握源代码版本控制的意义。\n",
    "\n",
    "# 4. 实验要求\n",
    "\n",
    "*基本层次：能使用git工具完成从服务器上将源代码导出，将一个简单的测试项目的代码导出，并完成代码的修改和提交；\n",
    "\n",
    "*提高层次：使用git工具完成修改后的测试项目的升级，解决冲突问题。"
   ]
  },
  {
   "cell_type": "markdown",
   "metadata": {},
   "source": [
    "# 5. 相关知识\n",
    "\n",
    "Linux环境C程序开发的工具有：\n",
    "\n",
    "* 编辑器（vi, emacs等）\n",
    "* 编译程序（gcc, make等）\n",
    "* 调试程序（gdb等）\n",
    "* 版本控制程序（git, svn等）\n",
    "* 帮助文件生成（groff等）\n",
    "* 软件打包工具（tar, rpm等）\n",
    "\n",
    "等等，本实验以版本控制程序为例子，对开源软件开发方法进行介绍。\n",
    "\n",
    "源代码版本控制软件是实现软件配置管理（Software Configuration Management, SCM）的重要工具。软件配置管理的主要目的是实现了团队协作、过程管理、并以透明的方式管理软件产品的开发，以实现提高开发速度、追踪开发过程、提高开发质量的目标。\n",
    "\n",
    "版本控制软件可以实现软件的多个版本的可跟踪、可管理性。图3-1是一个简单的软件项目的开发过程的版本模型。图中，方框表示软件项目的不同版本，软件项目的一个版本包含了项目的所有源代码和其他文件；数字表示版本号码。Branch（分支）是开发者所开发的软件代码，通常branch是软件项目中一些具体的功能，比如branch 2－3可能是一个管理软件的用户登录模块，branch 7－8可能是用户帐号管理模块；Trunk（主干）包含了所有branches的最早的版本，是每个branche的开始；Tag（标签）是主干中实现了预期阶段功能（称为里程碑（milestone））的版本；Merge（合并）是开发者将branch版本和trunk版本相融合，是将branch版本的功能添加到trunk版本中的过程；Branch的开发可能结束，例如版本16。Trunk上的版本合并了branches开发的功能，是一些具有完整功能的软件版本，比如版本4合并了用户登录模块，版本10又合并了用户帐号管理模块，这样版本10就具有用户登录模块和用户帐号模块，版本3不具有用户帐号管理模块，版本8不具有用户登录模块。当然，开发者还可以在branch2－3上工作，继续改进登录模块，再合并到trunk中版本10之后的版本中，从而改进整个软件项目，而登录模块的开发也不受其他模块的影响。\n",
    "\n",
    "![一个简单的软件开发版本模型](images/exp3-1.png)\n",
    "<center>图3-1 一个简单的软件开发版本模型</center>"
   ]
  },
  {
   "cell_type": "markdown",
   "metadata": {},
   "source": [
    "现代软件开发一般是多人的、分布式的开发形式，例如：用户A和用户B可能同时对同一软件项目test中的文件main.c进行了修改，在用户A、B将main.c的修改保存到中心版本库时，需要解决同步的问题。大多数的版本控制软件是采用的是“拷贝-修改-合并”模型(本部分介绍请参考文献[13] 中“SVN手册”链接)来解决同步问题，在这种模型里，每一个客户连接项目版本库建立一个个人工作拷贝，也就是版本库中文件和目录的本地映射。用户并行工作，修改各自的工作拷贝，最终，各个私有的拷贝合并在一起，成为最终的版本，这种系统通常可以辅助合并操作，但是最终要靠人工去确定正误。\n",
    "\n",
    "图3-2和图3-3是一个例子（摘自参考文献[13] 中“SVN手册”链接），展示了用户Harry和Sally对代码库（Repository）中文件A的“拷贝－修改－合并”过程：图3-2中Harry和Sally分别拷贝A，生成各自的工作拷贝；然后Harry和Sally分别对A做了修改，修改后对应文件为A’和A”，Sally将A”传送到代码库中，当Harry将自己的修改A’上传时被提示“过时”错误。\n",
    "\n",
    "![“拷贝－修改－合并”模型](images/exp3-2.png)\n",
    "<center>图3-2 “拷贝－修改－合并”模型</center>\n",
    "\n",
    "接下来，如图3-3所示，Harry比较代码库中A的新版本A”与自己修改版本的差异，手工修改差异生成文件A\\*，这个过程叫“合并”，此后，Harry可以将合并后的A\\*上传到代码库中。Sally以后就可以取出最新的A\\*文件了。这个过程最核心的部分是人工的“合并”过程，合并必须通过Harry和Sally的交流来确定。\n",
    "\n",
    "![“拷贝－修改－合并”模型（续）](images/exp3-3.png)\n",
    "<center>图3-3 “拷贝－修改－合并”模型（续）</center>"
   ]
  },
  {
   "cell_type": "markdown",
   "metadata": {},
   "source": [
    "Git是一个开源的分布式版本控制软件，是由Linux之父Linus Torvalds为Linux内核维护工作在2005年开发的源代码版本控制软件。自诞生以来，Git 就以其开源、简单、快捷、分布式、高效等特点，应付了类似 Linux 内核源代码等各种复杂的项目开发需求。如今，Git 已经非常成熟，被广泛接受与使用，越来越多的项目都迁移到 Git 仓库中进行管理。\n",
    "\n",
    "Git的设计核心是分布式控制管理，目的是为了摆脱对中心仓库的依赖，以支持离线工作。例如（该例来源于IBM developerWorks的[“开源分布式版本控制工具 —— Git 之旅”](https://www.ibm.com/developerworks/cn/opensource/os-cn-tourofgit/)）：一个由Alice、Bob、Clair、David 四名成员组成的项目组。其中，除了中心仓库 origin（Git 默认远程仓库名称）之外，每一名成员各自负责一个完整的本地仓库（或者称作本地工作拷贝）。从分布式的观点来看，David 可看成是 Alice 的远程仓库，反过来也是一样。其分布式工作如图3-4所示。\n",
    "\n",
    "![git分布式工作示意](images/exp3-4.png)\n",
    "<center>图3-4 Git的分布式工作示意</center>\n",
    "\n",
    "本次实验中，为了验证两个Git客户端通过远程中心代码库进行版本控制的过程，将建立本地访问方式的远程中心代码库，这个与通过网络方式访问远程中心代码库从操作上看几乎没有区别。"
   ]
  },
  {
   "cell_type": "markdown",
   "metadata": {},
   "source": [
    "# 6. 实验设备\n",
    "\n",
    "实验者需要使用各自PC机上Windows操作系统的putty程序通过网络连接到Linux服务器，启动交互式实验指导书（浏览器方式），通过在实验指导书中增加内容（命令和文字），或访问[这里](/terminals/1)打开一个命令行窗口（** 注意：进入窗口后请执行bash命令，方便使用bash的历史命令、命令补全等功能。**），完成实验指导书中的“实验任务”部分。Linux服务器地址由指导教师给出。"
   ]
  },
  {
   "cell_type": "markdown",
   "metadata": {},
   "source": [
    "# 7. 实验指导\n",
    "\n",
    "Git的功能主要由git命令实现，其命令行格式为：\n",
    "\n",
    "`git <subcommand> [options] [args]`\n",
    "\n",
    "其中subcommand为子命令，主要包括：\n",
    "\n",
    "* help\n",
    "* add\n",
    "* commit\n",
    "* push\n",
    "* pull\n",
    "* diff\n",
    "* fetch\n",
    "* checkout\n",
    "* merge\n",
    "* rebase\n",
    "* info\n",
    "* log\n",
    "* status\n",
    "\n",
    "等。\n",
    "\n",
    "例如，help子命令用于获取帮助信息："
   ]
  },
  {
   "cell_type": "markdown",
   "metadata": {
    "collapsed": false
   },
   "source": [
    "`git help add`\n",
    "\n",
    "请访问[这里](/terminals/1)打开命令行窗口使用上述命令，该命令打印出了add子命令的帮助信息。\n",
    "\n",
    "如果出现如下错误：\n",
    "warning: failed to exec 'man': No such file or directory                                                                          \n",
    "fatal: no man viewer handled the request\n",
    "\n",
    "则表示man包没有安装，使用apt-get install man命令进行安装就可以了。"
   ]
  },
  {
   "cell_type": "markdown",
   "metadata": {},
   "source": [
    "Git采用了本地工作目录、暂存、本地代码库和远程代码库实现“拷贝－修改－合并”模型，其存储过程如图3-5所示：\n",
    "\n",
    "![git存储过程](images/exp3-5-1.jpg)\n",
    "<center>图3-5 Git的存储过程</center>\n",
    "\n",
    "图中，箭头符号中的文字为子命令，表示git所进行的操作。"
   ]
  },
  {
   "cell_type": "markdown",
   "metadata": {},
   "source": [
    "下面，举一个例子来说明Git本地代码库的存储过程。\n",
    "\n",
    "首先，新建一个空的项目。"
   ]
  },
  {
   "cell_type": "code",
   "execution_count": 1,
   "metadata": {
    "collapsed": false
   },
   "outputs": [
    {
     "name": "stdout",
     "output_type": "stream",
     "text": []
    }
   ],
   "source": [
    "cd /notebooks/workspace"
   ]
  },
  {
   "cell_type": "code",
   "execution_count": 2,
   "metadata": {
    "collapsed": false
   },
   "outputs": [
    {
     "name": "stdout",
     "output_type": "stream",
     "text": [
      "total 8\r\n",
      "-rw-rw-r-- 1 1002 1002 2471 Oct 21 00:55 sources.list\r\n",
      "-rw-rw-r-- 1 1002 1002 1002 Oct 21 00:55 sources.list.tsinghua\r\n"
     ]
    }
   ],
   "source": [
    "ls -l"
   ]
  },
  {
   "cell_type": "code",
   "execution_count": 3,
   "metadata": {
    "collapsed": false
   },
   "outputs": [
    {
     "name": "stdout",
     "output_type": "stream",
     "text": []
    }
   ],
   "source": [
    "mkdir proj"
   ]
  },
  {
   "cell_type": "code",
   "execution_count": 4,
   "metadata": {
    "collapsed": false
   },
   "outputs": [
    {
     "name": "stdout",
     "output_type": "stream",
     "text": [
      "total 12\r\n",
      "drwxr-xr-x 2 root root 4096 Oct 21 01:45 \u001b[0m\u001b[01;34mproj\u001b[0m\r\n",
      "-rw-rw-r-- 1 1002 1002 2471 Oct 21 00:55 sources.list\r\n",
      "-rw-rw-r-- 1 1002 1002 1002 Oct 21 00:55 sources.list.tsinghua\r\n"
     ]
    }
   ],
   "source": [
    "ls -l"
   ]
  },
  {
   "cell_type": "code",
   "execution_count": 5,
   "metadata": {
    "collapsed": false
   },
   "outputs": [
    {
     "name": "stdout",
     "output_type": "stream",
     "text": []
    }
   ],
   "source": [
    "cd proj"
   ]
  },
  {
   "cell_type": "code",
   "execution_count": 6,
   "metadata": {
    "collapsed": false
   },
   "outputs": [
    {
     "name": "stdout",
     "output_type": "stream",
     "text": [
      "Initialized empty Git repository in /notebooks/workspace/proj/.git/\r\n"
     ]
    }
   ],
   "source": [
    "git init"
   ]
  },
  {
   "cell_type": "markdown",
   "metadata": {},
   "source": [
    "git init是创建代码库的命令，命令行形式为：\n",
    "\n",
    "`git init [-q | --quiet] [--bare] [--template=<template_directory>][--separate-git-dir <git dir>][--shared[=<permissions>]] [directory]`\n",
    "\n",
    "参数directory表示创建代码库的同时创建目录，即省略创建目录的操作。上述过程创建代码库的操作中（第6步），若执行\"git init 目录\"命令，则不需要创建目录的操作（第3-5步）。\n",
    "\n",
    "选项--bare用于创建远程代码库，不使用这个选项表示创建本地代码库。\n",
    "\n",
    "可以通过`git help init`来查看子命令的帮助信息，\n",
    "\n",
    "以上命令创建了一个本地代码库，位于/notebooks/workspace/proj/.git，与本地工作目录在一起。\n",
    "\n",
    "**注意：以下对代码库的操作均需在本地工作目录中进行，即需要改变工作目录到本地代码库所在的目录中。**"
   ]
  },
  {
   "cell_type": "code",
   "execution_count": 7,
   "metadata": {
    "collapsed": false
   },
   "outputs": [
    {
     "name": "stdout",
     "output_type": "stream",
     "text": [
      "total 12\r\n",
      "drwxr-xr-x 3 root root 4096 Oct 21 01:45 \u001b[0m\u001b[01;34m.\u001b[0m\r\n",
      "drwxrwxr-x 3 1002 1002 4096 Oct 21 01:45 \u001b[01;34m..\u001b[0m\r\n",
      "drwxr-xr-x 7 root root 4096 Oct 21 01:45 \u001b[01;34m.git\u001b[0m\r\n"
     ]
    }
   ],
   "source": [
    "ls -al"
   ]
  },
  {
   "cell_type": "markdown",
   "metadata": {},
   "source": [
    "接下来，创建一个文件readme.txt，内容为“hello, Git!”"
   ]
  },
  {
   "cell_type": "code",
   "execution_count": 8,
   "metadata": {
    "collapsed": false
   },
   "outputs": [
    {
     "name": "stdout",
     "output_type": "stream",
     "text": []
    }
   ],
   "source": [
    "echo \"hello,Git!\" > readme.txt"
   ]
  },
  {
   "cell_type": "code",
   "execution_count": 9,
   "metadata": {
    "collapsed": false
   },
   "outputs": [
    {
     "name": "stdout",
     "output_type": "stream",
     "text": [
      "total 16\r\n",
      "drwxr-xr-x 3 root root 4096 Oct 21 01:53 \u001b[0m\u001b[01;34m.\u001b[0m\r\n",
      "drwxrwxr-x 3 1002 1002 4096 Oct 21 01:45 \u001b[01;34m..\u001b[0m\r\n",
      "drwxr-xr-x 7 root root 4096 Oct 21 01:45 \u001b[01;34m.git\u001b[0m\r\n",
      "-rw-r--r-- 1 root root   11 Oct 21 01:53 readme.txt\r\n"
     ]
    }
   ],
   "source": [
    "ls -al"
   ]
  },
  {
   "cell_type": "markdown",
   "metadata": {},
   "source": [
    "查看一下工作目录的状态，使用git status命令。"
   ]
  },
  {
   "cell_type": "code",
   "execution_count": 10,
   "metadata": {
    "collapsed": false
   },
   "outputs": [
    {
     "name": "stdout",
     "output_type": "stream",
     "text": [
      "On branch master\r\n",
      "\r\n",
      "Initial commit\r\n",
      "\r\n",
      "Untracked files:\r\n",
      "  (use \"git add <file>...\" to include in what will be committed)\r\n",
      "\r\n",
      "\treadme.txt\r\n",
      "\r\n",
      "nothing added to commit but untracked files present (use \"git add\" to track)\r\n"
     ]
    }
   ],
   "source": [
    "git status"
   ]
  },
  {
   "cell_type": "markdown",
   "metadata": {},
   "source": [
    "输出结果显示，readme.txt处于未跟踪状态（untracked files）。\n",
    "\n",
    "将readme.txt提交到远程代码库，需要进行三步操作：\n",
    "\n",
    "* git add\n",
    "\n",
    "用于添加文件到索引中，命令行形式为：\n",
    "\n",
    "`\n",
    "git add 文件....\n",
    "`\n",
    "\n",
    "参数\"文件....\"表示增加的文件可以是多个，用空格分割。\n",
    "\n",
    "* git commit\n",
    "\n",
    "用于提交到本地代码库中，命令行形式为：\n",
    "\n",
    "`\n",
    "git commit -m <日志信息> [文件....]\n",
    "`\n",
    "\n",
    "\"-m <日志信息>\"选项用于为这次提交设置一段描述文字（日志），便于根据日志区别多次提交记录。可以通过git log查看提交日志。\n",
    "\n",
    "* git push\n",
    "\n",
    "用于将本地代码库提交远程代码库中（远程代码库需要事先建立，方法见后面的7.0的例子，这里的例子中没有提交到远程代码库），命令行形式为：\n",
    "\n",
    "`\n",
    "git push [选项] [远程代码库名称] [分支名称]\n",
    "`\n",
    "\n",
    "远程代码库名称是远程代码库具体地址的一个名称，方便使用，可以通过\"git remote -v\"命令查看已有的远程代码库名称和对应的地址。\n",
    "\n",
    "分支名称是在基于分支的开发中建立的，默认情况下存在一个名称为master的分支（后面的描述中称作主干）。\n",
    "\n",
    "这里，使用git add命令将文件加入暂存区。"
   ]
  },
  {
   "cell_type": "code",
   "execution_count": 11,
   "metadata": {
    "collapsed": false
   },
   "outputs": [
    {
     "name": "stdout",
     "output_type": "stream",
     "text": []
    }
   ],
   "source": [
    "git add readme.txt"
   ]
  },
  {
   "cell_type": "markdown",
   "metadata": {},
   "source": [
    "再次查看状态："
   ]
  },
  {
   "cell_type": "code",
   "execution_count": 12,
   "metadata": {
    "collapsed": false
   },
   "outputs": [
    {
     "name": "stdout",
     "output_type": "stream",
     "text": [
      "On branch master\r\n",
      "\r\n",
      "Initial commit\r\n",
      "\r\n",
      "Changes to be committed:\r\n",
      "  (use \"git rm --cached <file>...\" to unstage)\r\n",
      "\r\n",
      "\tnew file:   readme.txt\r\n",
      "\r\n"
     ]
    }
   ],
   "source": [
    "git status"
   ]
  },
  {
   "cell_type": "markdown",
   "metadata": {},
   "source": [
    "结果显示，readme.txt的状态为已暂存可以被提交(changes to be committed)，下一步，需要使用git commit将文件提交到本地代码库。"
   ]
  },
  {
   "cell_type": "code",
   "execution_count": 13,
   "metadata": {
    "collapsed": false
   },
   "outputs": [
    {
     "name": "stdout",
     "output_type": "stream",
     "text": [
      "\r\n",
      "*** Please tell me who you are.\r\n",
      "\r\n",
      "Run\r\n",
      "\r\n",
      "  git config --global user.email \"you@example.com\"\r\n",
      "  git config --global user.name \"Your Name\"\r\n",
      "\r\n",
      "to set your account's default identity.\r\n",
      "Omit --global to set the identity only in this repository.\r\n",
      "\r\n",
      "fatal: unable to auto-detect email address (got 'root@c9aec9f34a47.(none)')\r\n"
     ]
    }
   ],
   "source": [
    "git commit -m \"add readme\""
   ]
  },
  {
   "cell_type": "markdown",
   "metadata": {},
   "source": [
    "命令执行错误，提示需要设置用户姓名和邮件地址（用户姓名和邮件地址用于版本的提交者,通过git log名称查看的提交日志中包括该信息），按照提示运行下面两条命令："
   ]
  },
  {
   "cell_type": "code",
   "execution_count": 14,
   "metadata": {
    "collapsed": false
   },
   "outputs": [
    {
     "name": "stdout",
     "output_type": "stream",
     "text": []
    }
   ],
   "source": [
    "git config --global user.email \"test@example.com\""
   ]
  },
  {
   "cell_type": "code",
   "execution_count": 15,
   "metadata": {
    "collapsed": false
   },
   "outputs": [
    {
     "name": "stdout",
     "output_type": "stream",
     "text": []
    }
   ],
   "source": [
    "git config --global user.name \"5120140000\""
   ]
  },
  {
   "cell_type": "code",
   "execution_count": 16,
   "metadata": {
    "collapsed": false
   },
   "outputs": [
    {
     "name": "stdout",
     "output_type": "stream",
     "text": [
      "[master (root-commit) 8770539] add readme\r\n",
      " 1 file changed, 1 insertion(+)\r\n",
      " create mode 100644 readme.txt\r\n"
     ]
    }
   ],
   "source": [
    "git commit -m \"add readme\""
   ]
  },
  {
   "cell_type": "markdown",
   "metadata": {},
   "source": [
    "显示执行成功，提交了1个文件。\n",
    "\n",
    "现在，在readme.txt文件上做一些变化。"
   ]
  },
  {
   "cell_type": "code",
   "execution_count": 17,
   "metadata": {
    "collapsed": false
   },
   "outputs": [
    {
     "name": "stdout",
     "output_type": "stream",
     "text": []
    }
   ],
   "source": [
    "echo \"hello, again!\" >> readme.txt"
   ]
  },
  {
   "cell_type": "markdown",
   "metadata": {},
   "source": [
    "查看变化："
   ]
  },
  {
   "cell_type": "code",
   "execution_count": 18,
   "metadata": {
    "collapsed": false
   },
   "outputs": [
    {
     "name": "stdout",
     "output_type": "stream",
     "text": [
      "On branch master\r\n",
      "Changes not staged for commit:\r\n",
      "  (use \"git add <file>...\" to update what will be committed)\r\n",
      "  (use \"git checkout -- <file>...\" to discard changes in working directory)\r\n",
      "\r\n",
      "\tmodified:   readme.txt\r\n",
      "\r\n",
      "no changes added to commit (use \"git add\" and/or \"git commit -a\")\r\n"
     ]
    }
   ],
   "source": [
    "git status"
   ]
  },
  {
   "cell_type": "markdown",
   "metadata": {},
   "source": [
    "结果表明：readme.txt文件发生了变化，但是还没有放入暂存区（Changes not staged），如果需要提交，可以使用git add命令，然后使用git commit命令；如果需要覆盖本地工作目录中的内容（回滚），使用git checkout命令。\n",
    "\n",
    "使用git diff命令查看一下本地工作目录和暂存区之间的文件变化："
   ]
  },
  {
   "cell_type": "code",
   "execution_count": 19,
   "metadata": {
    "collapsed": false
   },
   "outputs": [
    {
     "name": "stdout",
     "output_type": "stream",
     "text": [
      "\u0007\r",
      "\r",
      "diff --git a/readme.txt b/readme.txt\u001b[m\r\n",
      "index a76b829..3f50efc 100644\u001b[m\r\n",
      "--- a/readme.txt\u001b[m\r\n",
      "+++ b/readme.txt\u001b[m\r\n",
      "@@ -1 +1,2 @@\u001b[m\r\n",
      " hello,Git!\u001b[m\r\n",
      "+hello, again!\u001b[m\r\n",
      "\r",
      "\r\n"
     ]
    }
   ],
   "source": [
    "git diff readme.txt"
   ]
  },
  {
   "cell_type": "markdown",
   "metadata": {},
   "source": [
    "注意：上述命令需要以分页方式显示结果（需要在执行界面中进行操作，中断执行过程）。\n",
    "\n",
    "结果可见：工作目录中的文件增加了一行。\n",
    "\n",
    "把修改放入暂存："
   ]
  },
  {
   "cell_type": "code",
   "execution_count": 20,
   "metadata": {
    "collapsed": false
   },
   "outputs": [
    {
     "name": "stdout",
     "output_type": "stream",
     "text": []
    }
   ],
   "source": [
    "git add readme.txt"
   ]
  },
  {
   "cell_type": "markdown",
   "metadata": {},
   "source": [
    "再次修改文件："
   ]
  },
  {
   "cell_type": "code",
   "execution_count": 21,
   "metadata": {
    "collapsed": false
   },
   "outputs": [
    {
     "name": "stdout",
     "output_type": "stream",
     "text": []
    }
   ],
   "source": [
    "echo \"hello, the 3rd time!\" >> readme.txt"
   ]
  },
  {
   "cell_type": "markdown",
   "metadata": {},
   "source": [
    "查看文件变化："
   ]
  },
  {
   "cell_type": "code",
   "execution_count": 22,
   "metadata": {
    "collapsed": false
   },
   "outputs": [
    {
     "name": "stdout",
     "output_type": "stream",
     "text": [
      "\u0007\r",
      "\r",
      "diff --git a/readme.txt b/readme.txt\u001b[m\r\n",
      "index 3f50efc..47c5bc5 100644\u001b[m\r\n",
      "--- a/readme.txt\u001b[m\r\n",
      "+++ b/readme.txt\u001b[m\r\n",
      "@@ -1,2 +1,3 @@\u001b[m\r\n",
      " hello,Git!\u001b[m\r\n",
      " hello, again!\u001b[m\r\n",
      "+hello, the 3rd time!\u001b[m\r\n",
      "\r",
      "\r\n"
     ]
    }
   ],
   "source": [
    "git diff"
   ]
  },
  {
   "cell_type": "markdown",
   "metadata": {},
   "source": [
    "结果可见：相比暂存中的文件（增加“hello，again!”行后提交的文件），增加了“hello, the 3rd time!”一行。\n",
    "\n",
    "如果跟本地代码库中相比呢？"
   ]
  },
  {
   "cell_type": "code",
   "execution_count": 23,
   "metadata": {
    "collapsed": false
   },
   "outputs": [
    {
     "name": "stdout",
     "output_type": "stream",
     "text": [
      "\u0007\r",
      "\r",
      "diff --git a/readme.txt b/readme.txt\u001b[m\r\n",
      "index a76b829..47c5bc5 100644\u001b[m\r\n",
      "--- a/readme.txt\u001b[m\r\n",
      "+++ b/readme.txt\u001b[m\r\n",
      "@@ -1 +1,3 @@\u001b[m\r\n",
      " hello,Git!\u001b[m\r\n",
      "+hello, again!\u001b[m\r\n",
      "+hello, the 3rd time!\u001b[m\r\n",
      "\r",
      "\r\n"
     ]
    }
   ],
   "source": [
    "git diff HEAD"
   ]
  },
  {
   "cell_type": "markdown",
   "metadata": {},
   "source": [
    "结果可见：相比本地代码库中的文件（HEAD表示本地代码库的最新版本），本地工作目录中的文件增加了“hello, again!”和“hello, the 3rd time!”两行。\n",
    "\n",
    "下面，将文件回滚/恢复到暂存区中的内容："
   ]
  },
  {
   "cell_type": "code",
   "execution_count": 24,
   "metadata": {
    "collapsed": false
   },
   "outputs": [
    {
     "name": "stdout",
     "output_type": "stream",
     "text": []
    }
   ],
   "source": [
    "git checkout -- readme.txt"
   ]
  },
  {
   "cell_type": "markdown",
   "metadata": {},
   "source": [
    "命令中的\"--\"用于指明readme.txt是一个文件名称。"
   ]
  },
  {
   "cell_type": "code",
   "execution_count": 25,
   "metadata": {
    "collapsed": false
   },
   "outputs": [
    {
     "name": "stdout",
     "output_type": "stream",
     "text": [
      "hello,Git!\r\n",
      "hello, again!\r\n"
     ]
    }
   ],
   "source": [
    "cat readme.txt"
   ]
  },
  {
   "cell_type": "code",
   "execution_count": 26,
   "metadata": {
    "collapsed": false
   },
   "outputs": [
    {
     "name": "stdout",
     "output_type": "stream",
     "text": [
      "On branch master\r\n",
      "Changes to be committed:\r\n",
      "  (use \"git reset HEAD <file>...\" to unstage)\r\n",
      "\r\n",
      "\tmodified:   readme.txt\r\n",
      "\r\n"
     ]
    }
   ],
   "source": [
    "git status"
   ]
  },
  {
   "cell_type": "markdown",
   "metadata": {},
   "source": [
    "结果可见：暂存区中的文件未提交到本地代码库。\n",
    "\n",
    "暂存区中的文件回滚到本地代码库中的内容（刚才已暂存的文件被覆盖）："
   ]
  },
  {
   "cell_type": "code",
   "execution_count": 27,
   "metadata": {
    "collapsed": false
   },
   "outputs": [
    {
     "name": "stdout",
     "output_type": "stream",
     "text": [
      "Unstaged changes after reset:\r\n",
      "M\treadme.txt\r\n"
     ]
    }
   ],
   "source": [
    "git reset HEAD"
   ]
  },
  {
   "cell_type": "markdown",
   "metadata": {},
   "source": [
    "结果可见，暂存区不再为提交了的本地工作目录中的文件，即本地工作目录中的修改未暂存。\n",
    "\n",
    "提交本地工作目录的变化到代码库。"
   ]
  },
  {
   "cell_type": "code",
   "execution_count": 28,
   "metadata": {
    "collapsed": false
   },
   "outputs": [
    {
     "name": "stdout",
     "output_type": "stream",
     "text": []
    }
   ],
   "source": [
    "git add readme.txt"
   ]
  },
  {
   "cell_type": "code",
   "execution_count": 29,
   "metadata": {
    "collapsed": false
   },
   "outputs": [
    {
     "name": "stdout",
     "output_type": "stream",
     "text": [
      "[master 647dd6e] hello, again\r\n",
      " 1 file changed, 1 insertion(+)\r\n"
     ]
    }
   ],
   "source": [
    "git commit -m \"hello, again\""
   ]
  },
  {
   "cell_type": "markdown",
   "metadata": {},
   "source": [
    "结果表明，提交到本地代码库成功。\n",
    "\n",
    "最后，需要将本地代码库提交到远程代码库中，执行git push命令（需要事先创建远程代码库（方法见7.0），并且使用git remote命令在本地工作目录中保存该远程代码库的地址，7.1的例子中是通过git clone命令来完成保存）。"
   ]
  },
  {
   "cell_type": "markdown",
   "metadata": {},
   "source": [
    "### 7.0、实验准备"
   ]
  },
  {
   "cell_type": "markdown",
   "metadata": {},
   "source": [
    "本次实验以一个假想的应用为例子介绍git的使用：\n",
    "\n",
    "假设有两个作家（分别为A和B）合作完成一篇文章README，这篇文章有两章：Chapter1和Chapter2，两个作家分别各自修改文章README，修改进度无法一致，并且，两个作家需要能够访问到该文章的各个历史版本。\n",
    "\n",
    "README文件最后的内容为：\n",
    "\n",
    "`\n",
    "Chapter1\n",
    "First\n",
    "Second\n",
    "Chapter2\n",
    "First\n",
    "`\n",
    "\n",
    "为了模拟真实环境中的远程代码库，需要使用git init子命令生成（真实项目中一般由项目管理员建立，实验室里通过gitlab系统实现，见下次实验内容，可访问[这里](http://10.11.5.38:8081)）。"
   ]
  },
  {
   "cell_type": "code",
   "execution_count": 31,
   "metadata": {
    "collapsed": false
   },
   "outputs": [
    {
     "name": "stdout",
     "output_type": "stream",
     "text": []
    }
   ],
   "source": [
    "cd /notebooks/workspace/"
   ]
  },
  {
   "cell_type": "code",
   "execution_count": 32,
   "metadata": {
    "collapsed": false
   },
   "outputs": [
    {
     "name": "stdout",
     "output_type": "stream",
     "text": [
      "Initialized empty Git repository in /notebooks/workspace/rep.git/\r\n"
     ]
    }
   ],
   "source": [
    "git init --bare rep.git"
   ]
  },
  {
   "cell_type": "markdown",
   "metadata": {},
   "source": [
    "上述命令创建了一个远程代码库，位于/notebooks/workspace/rep.git。\n",
    "\n",
    "** 注意：区别于建立本地代码库，建立模拟远程代码库需要使用--bare选项 **"
   ]
  },
  {
   "cell_type": "code",
   "execution_count": 33,
   "metadata": {
    "collapsed": false
   },
   "outputs": [
    {
     "name": "stdout",
     "output_type": "stream",
     "text": [
      "total 40\r\n",
      "drwxr-xr-x 7 root root 4096 Oct  8 06:44 \u001b[0m\u001b[01;34m.\u001b[0m\r\n",
      "drwxrwxr-x 4 1000 1000 4096 Oct  8 06:44 \u001b[01;34m..\u001b[0m\r\n",
      "-rw-r--r-- 1 root root   23 Oct  8 06:44 HEAD\r\n",
      "drwxr-xr-x 2 root root 4096 Oct  8 06:44 \u001b[01;34mbranches\u001b[0m\r\n",
      "-rw-r--r-- 1 root root   66 Oct  8 06:44 config\r\n",
      "-rw-r--r-- 1 root root   73 Oct  8 06:44 description\r\n",
      "drwxr-xr-x 2 root root 4096 Oct  8 06:44 \u001b[01;34mhooks\u001b[0m\r\n",
      "drwxr-xr-x 2 root root 4096 Oct  8 06:44 \u001b[01;34minfo\u001b[0m\r\n",
      "drwxr-xr-x 4 root root 4096 Oct  8 06:44 \u001b[01;34mobjects\u001b[0m\r\n",
      "drwxr-xr-x 4 root root 4096 Oct  8 06:44 \u001b[01;34mrefs\u001b[0m\r\n"
     ]
    }
   ],
   "source": [
    "ls -al rep.git"
   ]
  },
  {
   "cell_type": "markdown",
   "metadata": {},
   "source": [
    "可以看到，代码库中包含的文件并不是需要进行版本控制的文件本身（此时代码库中并没有需要控制的文档）。从这里也能看出代码库和工作目录的区别。"
   ]
  },
  {
   "cell_type": "markdown",
   "metadata": {},
   "source": [
    "为了模拟作家A和B分别对文章README进行修改，生成A、B两个工作目录，假设在A目录中的操作用于模拟作家A在一台计算机上对代码库进行操作，同样的，在B目录中的操作用于模拟作家B在一台计算机上对代码库进行操作，两位作家间不能统一提交修改的顺序。"
   ]
  },
  {
   "cell_type": "markdown",
   "metadata": {},
   "source": [
    "两个作家在git的控制下，对README的修改可以有两种方式：\n",
    "\n",
    "第一种方式采用主干进行文章的版本控制，第二种方式采用分支进行文章的版本控制。\n",
    "\n",
    "### 7.1、采用主干方式的版本控制\n",
    "\n",
    "这种方式的版本控制过程中仅包含一个主干（git默认的主干叫master），如图3-6所示：\n",
    "\n",
    "![作家合作修改README的流程（主干方式）](images/exp3-6-1.jpg)\n",
    "<center>图3-6 作家合作修改README的流程（主干方式）</center>\n",
    "\n",
    "根据图3-6中的流程，两位作家利用git所进行的操作步骤主要包括：\n",
    "\n",
    "#### (1) 两位作家分别创建工作目录\n",
    "\n",
    "作家A和B需要“拷贝”远程代码库以创建自己的本地工作拷贝，其中包括本地代码库、索引文件（即暂存文件）和工作目录，注意，本地代码库和索引文件在目录中是隐藏的（位于目录的.git文件夹下），本地工作拷贝仅仅可以看到工作目录中的内容，后文中，我们不加区别地称该目录为工作目录。\n",
    "\n",
    "创建工作目录的命令行为：\n",
    "\n",
    "`\n",
    "git clone [选项] ADDRESS [本地工作目录]\n",
    "`\n",
    "\n",
    "ADDRESS是远程代码库的路径，本地工作目录如果没有指明，则参考ADDRESS中指出的路径（去掉.git后缀）。\n",
    "\n",
    "ADDRESS由”协议://主机/目录”构成，如果采用网络连接代码库，则协议部分为http或svn，如：“http://10.11.5.38:8081/linux2016/lab3.git” ，如果采用本地模拟的远程代码库（如本例），则协议部分为file，如：“file:///notebooks/workspace/rep.git” 。\n",
    "\n",
    "git clone命令实际上根据远程代码库，创建了本地拷贝中的本地代码库、缓存目录以及本地工作目录（本地代码库和缓存目录都在本地工作目录中，且默认不可见，后面不加区别的称呼本地代码库、本地拷贝和本地工作目录），并记录了远程代码库地址的名称为origin，便于使用git push命令提交本地代码库时使用。\n",
    "\n",
    "作家A创建工作目录，使用如下命令："
   ]
  },
  {
   "cell_type": "code",
   "execution_count": 34,
   "metadata": {
    "collapsed": false
   },
   "outputs": [
    {
     "name": "stdout",
     "output_type": "stream",
     "text": [
      "Cloning into 'A'...\r\n",
      "warning: You appear to have cloned an empty repository.\r\n",
      "Checking connectivity... done.\r\n"
     ]
    }
   ],
   "source": [
    "git clone file:///notebooks/workspace/rep.git A"
   ]
  },
  {
   "cell_type": "code",
   "execution_count": 35,
   "metadata": {
    "collapsed": false
   },
   "outputs": [
    {
     "name": "stdout",
     "output_type": "stream",
     "text": [
      "total 20\r\n",
      "drwxr-xr-x 3 root root 4096 Oct  8 06:47 \u001b[0m\u001b[01;34mA\u001b[0m\r\n",
      "drwxr-xr-x 3 root root 4096 Oct  8 06:42 \u001b[01;34mproj\u001b[0m\r\n",
      "drwxr-xr-x 7 root root 4096 Oct  8 06:44 \u001b[01;34mrep.git\u001b[0m\r\n",
      "-rw-rw-r-- 1 1000 1000 2471 Oct  8 01:30 sources.list\r\n",
      "-rw-rw-r-- 1 1000 1000 1002 Oct  8 01:30 sources.list.tsinghua\r\n"
     ]
    }
   ],
   "source": [
    "ls -l"
   ]
  },
  {
   "cell_type": "markdown",
   "metadata": {},
   "source": [
    "作家B创建工作目录，使用如下命令："
   ]
  },
  {
   "cell_type": "code",
   "execution_count": 36,
   "metadata": {
    "collapsed": false
   },
   "outputs": [
    {
     "name": "stdout",
     "output_type": "stream",
     "text": [
      "Cloning into 'B'...\r\n",
      "warning: You appear to have cloned an empty repository.\r\n",
      "Checking connectivity... done.\r\n"
     ]
    }
   ],
   "source": [
    "git clone file:///notebooks/workspace/rep.git B"
   ]
  },
  {
   "cell_type": "code",
   "execution_count": 37,
   "metadata": {
    "collapsed": false
   },
   "outputs": [
    {
     "name": "stdout",
     "output_type": "stream",
     "text": [
      "total 24\r\n",
      "drwxr-xr-x 3 root root 4096 Oct  8 06:47 \u001b[0m\u001b[01;34mA\u001b[0m\r\n",
      "drwxr-xr-x 3 root root 4096 Oct  8 06:47 \u001b[01;34mB\u001b[0m\r\n",
      "drwxr-xr-x 3 root root 4096 Oct  8 06:42 \u001b[01;34mproj\u001b[0m\r\n",
      "drwxr-xr-x 7 root root 4096 Oct  8 06:44 \u001b[01;34mrep.git\u001b[0m\r\n",
      "-rw-rw-r-- 1 1000 1000 2471 Oct  8 01:30 sources.list\r\n",
      "-rw-rw-r-- 1 1000 1000 1002 Oct  8 01:30 sources.list.tsinghua\r\n"
     ]
    }
   ],
   "source": [
    "ls -l"
   ]
  },
  {
   "cell_type": "markdown",
   "metadata": {},
   "source": [
    "#### (2) 作家A生成初始文章README"
   ]
  },
  {
   "cell_type": "code",
   "execution_count": 38,
   "metadata": {
    "collapsed": false
   },
   "outputs": [
    {
     "name": "stdout",
     "output_type": "stream",
     "text": []
    }
   ],
   "source": [
    "cd A"
   ]
  },
  {
   "cell_type": "markdown",
   "metadata": {},
   "source": [
    "模拟作家A进行操作，新增加README文件，内容为：\n",
    "\n",
    "`\n",
    "Chapter1\n",
    "Chapter2\n",
    "`\n",
    "\n",
    "请访问[这里](/terminals/1)打开一个命令行窗口，使用文本编辑器命令vi生成上述文件（/notebooks/workspace/A/README）。\n",
    "\n",
    "** 注意：进入窗口后请执行bash命令，方便访问历史命令、命令补全等功能。**\n",
    "\n",
    "git status命令可以查看工作目录中的文件状态，可以是修改过的、新创建的、已经暂存但未提交的等。"
   ]
  },
  {
   "cell_type": "code",
   "execution_count": 39,
   "metadata": {
    "collapsed": false
   },
   "outputs": [
    {
     "name": "stdout",
     "output_type": "stream",
     "text": [
      "On branch master\r\n",
      "\r\n",
      "Initial commit\r\n",
      "\r\n",
      "nothing to commit (create/copy files and use \"git add\" to track)\r\n"
     ]
    }
   ],
   "source": [
    "git status"
   ]
  },
  {
   "cell_type": "code",
   "execution_count": 40,
   "metadata": {
    "collapsed": false
   },
   "outputs": [
    {
     "name": "stdout",
     "output_type": "stream",
     "text": [
      "Chapter1\r\n",
      "Chapter2\r\n"
     ]
    }
   ],
   "source": [
    "cat README"
   ]
  },
  {
   "cell_type": "markdown",
   "metadata": {},
   "source": [
    "作家A增加README到工作目录的管理中，执行命令："
   ]
  },
  {
   "cell_type": "code",
   "execution_count": 41,
   "metadata": {
    "collapsed": false
   },
   "outputs": [
    {
     "name": "stdout",
     "output_type": "stream",
     "text": []
    }
   ],
   "source": [
    "git add README"
   ]
  },
  {
   "cell_type": "code",
   "execution_count": 42,
   "metadata": {
    "collapsed": false
   },
   "outputs": [
    {
     "name": "stdout",
     "output_type": "stream",
     "text": [
      "[master (root-commit) 2aead62] Initiate README\r\n",
      " 1 file changed, 2 insertions(+)\r\n",
      " create mode 100644 README\r\n"
     ]
    }
   ],
   "source": [
    "git commit -m \"Initiate README\""
   ]
  },
  {
   "cell_type": "markdown",
   "metadata": {},
   "source": [
    "接下来，将本地代码库提交到远程代码库上："
   ]
  },
  {
   "cell_type": "code",
   "execution_count": 43,
   "metadata": {
    "collapsed": false
   },
   "outputs": [
    {
     "name": "stdout",
     "output_type": "stream",
     "text": [
      "Counting objects: 3, done.\r\n",
      "Writing objects:  33% (1/3)   \r",
      "Writing objects:  66% (2/3)   \r",
      "Writing objects: 100% (3/3)   \r",
      "Writing objects: 100% (3/3), 227 bytes | 0 bytes/s, done.\r\n",
      "Total 3 (delta 0), reused 0 (delta 0)\r\n",
      "To file:///notebooks/workspace/rep.git\r\n",
      " * [new branch]      master -> master\r\n"
     ]
    }
   ],
   "source": [
    "git push origin master"
   ]
  },
  {
   "cell_type": "markdown",
   "metadata": {},
   "source": [
    "git push命令用于将本地代码库提交到origin所指示的远程代码库中，其命令行形式为：\n",
    "\n",
    "`\n",
    "git push [远程代码库名称] [本地分支名]:[远程分支名]\n",
    "`\n",
    "\n",
    "上述命令的执行中，远程代码库的分支名称为master，远程代码库名称为origin（因为前面执行git clone命令时已经默认保存了远程代码库的地址，该地址的名称为origin），可以通过git remote命令查看所有远程代码库的名称和对应的地址。如："
   ]
  },
  {
   "cell_type": "code",
   "execution_count": 44,
   "metadata": {
    "collapsed": false
   },
   "outputs": [
    {
     "name": "stdout",
     "output_type": "stream",
     "text": [
      "origin\tfile:///notebooks/workspace/rep.git (fetch)\r\n",
      "origin\tfile:///notebooks/workspace/rep.git (push)\r\n"
     ]
    }
   ],
   "source": [
    "git remote -v"
   ]
  },
  {
   "cell_type": "markdown",
   "metadata": {},
   "source": [
    "#### (3) 作家B取得README的版本1"
   ]
  },
  {
   "cell_type": "code",
   "execution_count": 45,
   "metadata": {
    "collapsed": false
   },
   "outputs": [
    {
     "name": "stdout",
     "output_type": "stream",
     "text": []
    }
   ],
   "source": [
    "cd ../B"
   ]
  },
  {
   "cell_type": "markdown",
   "metadata": {},
   "source": [
    "模拟作家B进行操作。\n",
    "\n",
    "从代码库上获取更新到工作目录，使用git pull操作，命令行为：\n",
    "\n",
    "`\n",
    "git pull <远程主机名> <远程分支名>:<本地分支名>\n",
    "`\n",
    "\n",
    "如果省略本地分支名，则意味着与远程分支名相同。\n",
    "\n",
    "\n",
    "作家B获取README文件的变化，使用git pull命令：\n"
   ]
  },
  {
   "cell_type": "code",
   "execution_count": 46,
   "metadata": {
    "collapsed": false
   },
   "outputs": [
    {
     "name": "stdout",
     "output_type": "stream",
     "text": [
      "remote: Counting objects: 3, done.        \r\n",
      "remote: Total 3 (delta 0), reused 0 (delta 0)        \r\n",
      "Unpacking objects:  33% (1/3)   \r",
      "Unpacking objects:  66% (2/3)   \r",
      "Unpacking objects: 100% (3/3)   \r",
      "Unpacking objects: 100% (3/3), done.\r\n",
      "From file:///notebooks/workspace/rep\r\n",
      " * branch            master     -> FETCH_HEAD\r\n",
      " * [new branch]      master     -> origin/master\r\n"
     ]
    }
   ],
   "source": [
    "git pull origin master"
   ]
  },
  {
   "cell_type": "markdown",
   "metadata": {},
   "source": [
    "结果显示从远程代码库`file:///notebooks/workspace/rep`更新本地代码库成功。"
   ]
  },
  {
   "cell_type": "code",
   "execution_count": 47,
   "metadata": {
    "collapsed": false
   },
   "outputs": [
    {
     "name": "stdout",
     "output_type": "stream",
     "text": [
      "total 4\r\n",
      "-rw-r--r-- 1 root root 18 Oct  8 07:16 README\r\n"
     ]
    }
   ],
   "source": [
    "ls -l"
   ]
  },
  {
   "cell_type": "code",
   "execution_count": 48,
   "metadata": {
    "collapsed": false
   },
   "outputs": [
    {
     "name": "stdout",
     "output_type": "stream",
     "text": [
      "Chapter1\r\n",
      "Chapter2\r\n"
     ]
    }
   ],
   "source": [
    "cat README"
   ]
  },
  {
   "cell_type": "markdown",
   "metadata": {},
   "source": [
    "结果显示，工作目录文件获取成功。"
   ]
  },
  {
   "cell_type": "markdown",
   "metadata": {},
   "source": [
    "#### (4) 作家A修改README文档，形成版本2"
   ]
  },
  {
   "cell_type": "code",
   "execution_count": 49,
   "metadata": {
    "collapsed": false
   },
   "outputs": [
    {
     "name": "stdout",
     "output_type": "stream",
     "text": []
    }
   ],
   "source": [
    "cd ../A"
   ]
  },
  {
   "cell_type": "markdown",
   "metadata": {},
   "source": [
    "模拟作家A进行操作。修改REAME文件为：\n",
    "\n",
    "`\n",
    "Chapter1\n",
    "First\n",
    "Chapter2\n",
    "`\n",
    "\n",
    "请访问[这里](/terminals/1)打开一个命令行窗口，使用文本编辑器命令vi修改上述文件（/notebooks/workspace/A/README）。"
   ]
  },
  {
   "cell_type": "code",
   "execution_count": 50,
   "metadata": {
    "collapsed": false
   },
   "outputs": [
    {
     "name": "stdout",
     "output_type": "stream",
     "text": [
      "Chapter1\r\n",
      "First\r\n",
      "Chapter2\r\n"
     ]
    }
   ],
   "source": [
    "cat README"
   ]
  },
  {
   "cell_type": "code",
   "execution_count": 51,
   "metadata": {
    "collapsed": false
   },
   "outputs": [
    {
     "name": "stdout",
     "output_type": "stream",
     "text": []
    }
   ],
   "source": [
    "git add README"
   ]
  },
  {
   "cell_type": "code",
   "execution_count": 52,
   "metadata": {
    "collapsed": false
   },
   "outputs": [
    {
     "name": "stdout",
     "output_type": "stream",
     "text": [
      "[master 851e614] Add First in Chapter1 by A\r\n",
      " 1 file changed, 1 insertion(+)\r\n"
     ]
    }
   ],
   "source": [
    "git commit -m \"Add First in Chapter1 by A\""
   ]
  },
  {
   "cell_type": "code",
   "execution_count": 53,
   "metadata": {
    "collapsed": false
   },
   "outputs": [
    {
     "name": "stdout",
     "output_type": "stream",
     "text": [
      "Counting objects: 5, done.\r\n",
      "Writing objects:  33% (1/3)   \r",
      "Writing objects:  66% (2/3)   \r",
      "Writing objects: 100% (3/3)   \r",
      "Writing objects: 100% (3/3), 266 bytes | 0 bytes/s, done.\r\n",
      "Total 3 (delta 0), reused 0 (delta 0)\r\n",
      "To file:///notebooks/workspace/rep.git\r\n",
      "   2aead62..851e614  master -> master\r\n"
     ]
    }
   ],
   "source": [
    "git push origin master"
   ]
  },
  {
   "cell_type": "markdown",
   "metadata": {},
   "source": [
    "将README的更新提交到远程中心代码库。\n",
    "\n",
    "#### (5) 作家B得到远程中心代码库上的新版本，在其上进行修改"
   ]
  },
  {
   "cell_type": "code",
   "execution_count": 54,
   "metadata": {
    "collapsed": false
   },
   "outputs": [
    {
     "name": "stdout",
     "output_type": "stream",
     "text": []
    }
   ],
   "source": [
    "cd ../B"
   ]
  },
  {
   "cell_type": "markdown",
   "metadata": {},
   "source": [
    "模拟作家B进行操作。"
   ]
  },
  {
   "cell_type": "code",
   "execution_count": 55,
   "metadata": {
    "collapsed": false
   },
   "outputs": [
    {
     "name": "stdout",
     "output_type": "stream",
     "text": [
      "remote: Counting objects: 5, done.        \r\n",
      "remote: Total 3 (delta 0), reused 0 (delta 0)        \r\n",
      "Unpacking objects:  33% (1/3)   \r",
      "Unpacking objects:  66% (2/3)   \r",
      "Unpacking objects: 100% (3/3)   \r",
      "Unpacking objects: 100% (3/3), done.\r\n",
      "From file:///notebooks/workspace/rep\r\n",
      " * branch            master     -> FETCH_HEAD\r\n",
      "   2aead62..851e614  master     -> origin/master\r\n",
      "Updating 2aead62..851e614\r\n",
      "Fast-forward\r\n",
      " README | 1 +\r\n",
      " 1 file changed, 1 insertion(+)\r\n"
     ]
    }
   ],
   "source": [
    "git pull origin master"
   ]
  },
  {
   "cell_type": "markdown",
   "metadata": {},
   "source": [
    "作家B进行更新操作（\"Fast-forward\"表示工作目录中的README文件被更新了）。"
   ]
  },
  {
   "cell_type": "code",
   "execution_count": 56,
   "metadata": {
    "collapsed": false
   },
   "outputs": [
    {
     "name": "stdout",
     "output_type": "stream",
     "text": [
      "Chapter1\r\n",
      "First\r\n",
      "Chapter2\r\n"
     ]
    }
   ],
   "source": [
    "cat README"
   ]
  },
  {
   "cell_type": "markdown",
   "metadata": {},
   "source": [
    "作家B修改文章为：\n",
    "\n",
    "`\n",
    "Chapter1\n",
    "1st\n",
    "Chapter2\n",
    "First\n",
    "`\n",
    "\n",
    "请访问[这里](/terminals/1)打开一个命令行窗口，使用文本编辑器命令vi修改上述文件（/notebooks/workspace/B/README）。"
   ]
  },
  {
   "cell_type": "code",
   "execution_count": 57,
   "metadata": {
    "collapsed": false
   },
   "outputs": [
    {
     "name": "stdout",
     "output_type": "stream",
     "text": [
      "Chapter1\r\n",
      "1st\r\n",
      "Chapter2\r\n",
      "First\r\n"
     ]
    }
   ],
   "source": [
    "cat README"
   ]
  },
  {
   "cell_type": "markdown",
   "metadata": {},
   "source": [
    "#### (6) 与此同时，作家A修改文章"
   ]
  },
  {
   "cell_type": "code",
   "execution_count": 58,
   "metadata": {
    "collapsed": false
   },
   "outputs": [
    {
     "name": "stdout",
     "output_type": "stream",
     "text": []
    }
   ],
   "source": [
    "cd ../A"
   ]
  },
  {
   "cell_type": "markdown",
   "metadata": {},
   "source": [
    "模拟作家A的操作。作家A修改README文件为：\n",
    "\n",
    "`\n",
    "Chapter1\n",
    "First\n",
    "Second\n",
    "Chapter2\n",
    "`"
   ]
  },
  {
   "cell_type": "code",
   "execution_count": 59,
   "metadata": {
    "collapsed": false
   },
   "outputs": [
    {
     "name": "stdout",
     "output_type": "stream",
     "text": [
      "Chapter1\r\n",
      "First\r\n",
      "Second\r\n",
      "Chapter2\r\n"
     ]
    }
   ],
   "source": [
    "cat README"
   ]
  },
  {
   "cell_type": "code",
   "execution_count": 60,
   "metadata": {
    "collapsed": false
   },
   "outputs": [
    {
     "name": "stdout",
     "output_type": "stream",
     "text": []
    }
   ],
   "source": [
    "git add README"
   ]
  },
  {
   "cell_type": "code",
   "execution_count": 61,
   "metadata": {
    "collapsed": false
   },
   "outputs": [
    {
     "name": "stdout",
     "output_type": "stream",
     "text": [
      "[master 0c1c56e] Add Chapter1 by A\r\n",
      " 1 file changed, 1 insertion(+)\r\n"
     ]
    }
   ],
   "source": [
    "git commit -m \"Add Chapter1 by A\""
   ]
  },
  {
   "cell_type": "code",
   "execution_count": 62,
   "metadata": {
    "collapsed": false
   },
   "outputs": [
    {
     "name": "stdout",
     "output_type": "stream",
     "text": [
      "Counting objects: 5, done.\r\n",
      "Writing objects:  33% (1/3)   \r",
      "Writing objects:  66% (2/3)   \r",
      "Writing objects: 100% (3/3)   \r",
      "Writing objects: 100% (3/3), 267 bytes | 0 bytes/s, done.\r\n",
      "Total 3 (delta 0), reused 0 (delta 0)\r\n",
      "To file:///notebooks/workspace/rep.git\r\n",
      "   851e614..0c1c56e  master -> master\r\n"
     ]
    }
   ],
   "source": [
    "git push origin master"
   ]
  },
  {
   "cell_type": "markdown",
   "metadata": {},
   "source": [
    "作家A提交修改到远程中心代码库。\n",
    "\n",
    "#### (7) 作家A提交后，作家B提交(5)中所做的修改"
   ]
  },
  {
   "cell_type": "code",
   "execution_count": 63,
   "metadata": {
    "collapsed": false
   },
   "outputs": [
    {
     "name": "stdout",
     "output_type": "stream",
     "text": []
    }
   ],
   "source": [
    "cd ../B"
   ]
  },
  {
   "cell_type": "code",
   "execution_count": 64,
   "metadata": {
    "collapsed": false
   },
   "outputs": [
    {
     "name": "stdout",
     "output_type": "stream",
     "text": []
    }
   ],
   "source": [
    "git add README"
   ]
  },
  {
   "cell_type": "code",
   "execution_count": 65,
   "metadata": {
    "collapsed": false
   },
   "outputs": [
    {
     "name": "stdout",
     "output_type": "stream",
     "text": [
      "[master ce92fc0] Modify Chapter1 by B\r\n",
      " 1 file changed, 2 insertions(+), 1 deletion(-)\r\n"
     ]
    }
   ],
   "source": [
    "git commit -m \"Modify Chapter1 by B\" "
   ]
  },
  {
   "cell_type": "code",
   "execution_count": 66,
   "metadata": {
    "collapsed": false
   },
   "outputs": [
    {
     "name": "stdout",
     "output_type": "stream",
     "text": [
      "To file:///notebooks/workspace/rep.git\r\n",
      " ! [rejected]        master -> master (fetch first)\r\n",
      "error: failed to push some refs to 'file:///notebooks/workspace/rep.git'\r\n",
      "hint: Updates were rejected because the remote contains work that you do\r\n",
      "hint: not have locally. This is usually caused by another repository pushing\r\n",
      "hint: to the same ref. You may want to first integrate the remote changes\r\n",
      "hint: (e.g., 'git pull ...') before pushing again.\r\n",
      "hint: See the 'Note about fast-forwards' in 'git push --help' for details.\r\n"
     ]
    }
   ],
   "source": [
    "git push origin master"
   ]
  },
  {
   "cell_type": "markdown",
   "metadata": {},
   "source": [
    "提示远程库有更新，需要先执行git pull操作，再执行git push操作。\n",
    "\n",
    "接下来执行："
   ]
  },
  {
   "cell_type": "code",
   "execution_count": 67,
   "metadata": {
    "collapsed": false
   },
   "outputs": [
    {
     "name": "stdout",
     "output_type": "stream",
     "text": [
      "remote: Counting objects: 5, done.        \r\n",
      "remote: Total 3 (delta 0), reused 0 (delta 0)        \r\n",
      "Unpacking objects:  33% (1/3)   \r",
      "Unpacking objects:  66% (2/3)   \r",
      "Unpacking objects: 100% (3/3)   \r",
      "Unpacking objects: 100% (3/3), done.\r\n",
      "From file:///notebooks/workspace/rep\r\n",
      " * branch            master     -> FETCH_HEAD\r\n",
      "   851e614..0c1c56e  master     -> origin/master\r\n",
      "Auto-merging README\r\n",
      "CONFLICT (content): Merge conflict in README\r\n",
      "Automatic merge failed; fix conflicts and then commit the result.\r\n"
     ]
    }
   ],
   "source": [
    "git pull origin master"
   ]
  },
  {
   "cell_type": "markdown",
   "metadata": {},
   "source": [
    "提示README文件产生了冲突，查看README文件："
   ]
  },
  {
   "cell_type": "code",
   "execution_count": 68,
   "metadata": {
    "collapsed": false
   },
   "outputs": [
    {
     "name": "stdout",
     "output_type": "stream",
     "text": [
      "Chapter1\r\n",
      "<<<<<<< HEAD\r\n",
      "1st\r\n",
      "=======\r\n",
      "First\r\n",
      "Second\r\n",
      ">>>>>>> 0c1c56ee3b8bc55136acc11faeeb5431b1890a4d\r\n",
      "Chapter2\r\n",
      "First\r\n"
     ]
    }
   ],
   "source": [
    "cat README"
   ]
  },
  {
   "cell_type": "markdown",
   "metadata": {},
   "source": [
    "文件中标志了冲突部分，<<<<<<< HEAD和=======之间为B修改的内容，=======和>>>>>>>之间是A修改的内容。\n",
    "\n",
    "请访问[这里](/terminals/1)打开一个命令行窗口，使用文本编辑器命令vi修改上述文件（/notebooks/workspace/B/README）为：\n",
    "\n",
    "`\n",
    "Chapter1\n",
    "1st\n",
    "Chapter2\n",
    "First\n",
    "`"
   ]
  },
  {
   "cell_type": "code",
   "execution_count": 69,
   "metadata": {
    "collapsed": false
   },
   "outputs": [
    {
     "name": "stdout",
     "output_type": "stream",
     "text": [
      "Chapter1\r\n",
      "1st\r\n",
      "Chapter2\r\n",
      "First\r\n"
     ]
    }
   ],
   "source": [
    "cat README"
   ]
  },
  {
   "cell_type": "markdown",
   "metadata": {},
   "source": [
    "提交更新到远程代码库。"
   ]
  },
  {
   "cell_type": "code",
   "execution_count": 70,
   "metadata": {
    "collapsed": false
   },
   "outputs": [
    {
     "name": "stdout",
     "output_type": "stream",
     "text": [
      "On branch master\r\n",
      "Your branch and 'origin/master' have diverged,\r\n",
      "and have 1 and 1 different commit each, respectively.\r\n",
      "  (use \"git pull\" to merge the remote branch into yours)\r\n",
      "\r\n",
      "You have unmerged paths.\r\n",
      "  (fix conflicts and run \"git commit\")\r\n",
      "\r\n",
      "Unmerged paths:\r\n",
      "  (use \"git add <file>...\" to mark resolution)\r\n",
      "\r\n",
      "\tboth modified:      README\r\n",
      "\r\n",
      "no changes added to commit (use \"git add\" and/or \"git commit -a\")\r\n"
     ]
    }
   ],
   "source": [
    "git status"
   ]
  },
  {
   "cell_type": "markdown",
   "metadata": {},
   "source": [
    "结果显示README文件冲突，提示使用git add和git commit命令提交。"
   ]
  },
  {
   "cell_type": "code",
   "execution_count": 71,
   "metadata": {
    "collapsed": false
   },
   "outputs": [
    {
     "name": "stdout",
     "output_type": "stream",
     "text": []
    }
   ],
   "source": [
    "git add README"
   ]
  },
  {
   "cell_type": "code",
   "execution_count": 72,
   "metadata": {
    "collapsed": false
   },
   "outputs": [
    {
     "name": "stdout",
     "output_type": "stream",
     "text": [
      "[master 840f888] Merged by B\r\n"
     ]
    }
   ],
   "source": [
    "git commit -m \"Merged by B\""
   ]
  },
  {
   "cell_type": "code",
   "execution_count": 73,
   "metadata": {
    "collapsed": false
   },
   "outputs": [
    {
     "name": "stdout",
     "output_type": "stream",
     "text": [
      "Counting objects: 8, done.\r\n",
      "Delta compression using up to 2 threads.\r\n",
      "Compressing objects:  50% (1/2)   \r",
      "Compressing objects: 100% (2/2)   \r",
      "Compressing objects: 100% (2/2), done.\r\n",
      "Writing objects:  25% (1/4)   \r",
      "Writing objects:  50% (2/4)   \r",
      "Writing objects:  75% (3/4)   \r",
      "Writing objects: 100% (4/4)   \r",
      "Writing objects: 100% (4/4), 386 bytes | 0 bytes/s, done.\r\n",
      "Total 4 (delta 1), reused 0 (delta 0)\r\n",
      "To file:///notebooks/workspace/rep.git\r\n",
      "   0c1c56e..840f888  master -> master\r\n"
     ]
    }
   ],
   "source": [
    "git push origin master"
   ]
  },
  {
   "cell_type": "code",
   "execution_count": 74,
   "metadata": {
    "collapsed": false
   },
   "outputs": [
    {
     "name": "stdout",
     "output_type": "stream",
     "text": [
      "On branch master\r\n",
      "Your branch is up-to-date with 'origin/master'.\r\n",
      "\r\n",
      "nothing to commit, working directory clean\r\n"
     ]
    }
   ],
   "source": [
    "git status"
   ]
  },
  {
   "cell_type": "markdown",
   "metadata": {},
   "source": [
    "结果显示冲突解决，提交成功。"
   ]
  },
  {
   "cell_type": "markdown",
   "metadata": {},
   "source": [
    "#### (8) 作家A获取文章的更新"
   ]
  },
  {
   "cell_type": "code",
   "execution_count": 75,
   "metadata": {
    "collapsed": false
   },
   "outputs": [
    {
     "name": "stdout",
     "output_type": "stream",
     "text": []
    }
   ],
   "source": [
    "cd ../A"
   ]
  },
  {
   "cell_type": "markdown",
   "metadata": {},
   "source": [
    "模拟作家A操作，执行更新操作："
   ]
  },
  {
   "cell_type": "code",
   "execution_count": 76,
   "metadata": {
    "collapsed": false
   },
   "outputs": [
    {
     "name": "stdout",
     "output_type": "stream",
     "text": [
      "remote: Counting objects: 8, done.        \r\n",
      "remote: Compressing objects:  50% (1/2)           \r",
      "remote: Compressing objects: 100% (2/2)           \r",
      "remote: Compressing objects: 100% (2/2), done.        \r\n",
      "remote: Total 4 (delta 1), reused 0 (delta 0)        \r\n",
      "Unpacking objects:  25% (1/4)   \r",
      "Unpacking objects:  50% (2/4)   \r",
      "Unpacking objects:  75% (3/4)   \r",
      "Unpacking objects: 100% (4/4)   \r",
      "Unpacking objects: 100% (4/4), done.\r\n",
      "From file:///notebooks/workspace/rep\r\n",
      " * branch            master     -> FETCH_HEAD\r\n",
      "   0c1c56e..840f888  master     -> origin/master\r\n",
      "Updating 0c1c56e..840f888\r\n",
      "Fast-forward\r\n",
      " README | 4 ++--\r\n",
      " 1 file changed, 2 insertions(+), 2 deletions(-)\r\n"
     ]
    }
   ],
   "source": [
    "git pull origin master"
   ]
  },
  {
   "cell_type": "markdown",
   "metadata": {},
   "source": [
    "结果显示，README已更新（1 file changed）。查看该文档："
   ]
  },
  {
   "cell_type": "code",
   "execution_count": 77,
   "metadata": {
    "collapsed": false
   },
   "outputs": [
    {
     "name": "stdout",
     "output_type": "stream",
     "text": [
      "Chapter1\r\n",
      "1st\r\n",
      "Chapter2\r\n",
      "First\r\n"
     ]
    }
   ],
   "source": [
    "cat README"
   ]
  },
  {
   "cell_type": "markdown",
   "metadata": {},
   "source": [
    "### 7.2、采用分支方式的版本控制\n",
    "\n",
    "这种方式的版本控制过程中包含一个主干（master）和一个分支（branch），如图3-7所示：\n",
    "\n",
    "![作家合作修改README的流程（分支方式）](images/exp3-7.jpg)\n",
    "<center>图3-7 作家合作修改README的流程（分支方式）</center>\n",
    "\n",
    "为了模拟这种方式的版本控制过程，需要重新生成一个代码库。"
   ]
  },
  {
   "cell_type": "code",
   "execution_count": 1,
   "metadata": {
    "collapsed": false
   },
   "outputs": [
    {
     "name": "stdout",
     "output_type": "stream",
     "text": []
    }
   ],
   "source": [
    "cd /notebooks/workspace/"
   ]
  },
  {
   "cell_type": "code",
   "execution_count": 2,
   "metadata": {
    "collapsed": false
   },
   "outputs": [
    {
     "name": "stdout",
     "output_type": "stream",
     "text": [
      "total 16\r\n",
      "drwxr-xr-x 3 root root 4096 Oct  8 06:42 \u001b[0m\u001b[01;34mproj\u001b[0m\r\n",
      "drwxr-xr-x 7 root root 4096 Oct  8 06:44 \u001b[01;34mrep.git\u001b[0m\r\n",
      "-rw-rw-r-- 1 1000 1000 2471 Oct  8 01:30 sources.list\r\n",
      "-rw-rw-r-- 1 1000 1000 1002 Oct  8 01:30 sources.list.tsinghua\r\n"
     ]
    }
   ],
   "source": [
    "rm A -rf;rm B -rf;ls -l"
   ]
  },
  {
   "cell_type": "markdown",
   "metadata": {},
   "source": [
    "上述命令删除了A、B的工作目录。"
   ]
  },
  {
   "cell_type": "code",
   "execution_count": 3,
   "metadata": {
    "collapsed": false
   },
   "outputs": [
    {
     "name": "stdout",
     "output_type": "stream",
     "text": [
      "Initialized empty Git repository in /notebooks/workspace/rep1.git/\r\n"
     ]
    }
   ],
   "source": [
    "git init --bare rep1.git"
   ]
  },
  {
   "cell_type": "code",
   "execution_count": 4,
   "metadata": {
    "collapsed": false
   },
   "outputs": [
    {
     "name": "stdout",
     "output_type": "stream",
     "text": [
      "HEAD  \u001b[0m\u001b[01;34mbranches\u001b[0m  config  description  \u001b[01;34mhooks\u001b[0m  \u001b[01;34minfo\u001b[0m  \u001b[01;34mobjects\u001b[0m  \u001b[01;34mrefs\u001b[0m\r\n"
     ]
    }
   ],
   "source": [
    "ls rep1.git"
   ]
  },
  {
   "cell_type": "markdown",
   "metadata": {},
   "source": [
    "根据图3-7中的流程，两位作家利用git版本管理所进行的操作步骤主要包括："
   ]
  },
  {
   "cell_type": "markdown",
   "metadata": {},
   "source": [
    "#### (1) 两位作家生成工作目录"
   ]
  },
  {
   "cell_type": "code",
   "execution_count": 5,
   "metadata": {
    "collapsed": false
   },
   "outputs": [
    {
     "name": "stdout",
     "output_type": "stream",
     "text": [
      "Cloning into 'A'...\r\n",
      "warning: You appear to have cloned an empty repository.\r\n",
      "Checking connectivity... done.\r\n"
     ]
    }
   ],
   "source": [
    "git clone file:///notebooks/workspace/rep1.git A"
   ]
  },
  {
   "cell_type": "code",
   "execution_count": 6,
   "metadata": {
    "collapsed": false
   },
   "outputs": [
    {
     "name": "stdout",
     "output_type": "stream",
     "text": [
      "Cloning into 'B'...\r\n",
      "warning: You appear to have cloned an empty repository.\r\n",
      "Checking connectivity... done.\r\n"
     ]
    }
   ],
   "source": [
    "git clone file:///notebooks/workspace/rep1.git B"
   ]
  },
  {
   "cell_type": "markdown",
   "metadata": {},
   "source": [
    "#### (2) 作家A生成初始文章README"
   ]
  },
  {
   "cell_type": "code",
   "execution_count": 7,
   "metadata": {
    "collapsed": false
   },
   "outputs": [
    {
     "name": "stdout",
     "output_type": "stream",
     "text": []
    }
   ],
   "source": [
    "cd A"
   ]
  },
  {
   "cell_type": "markdown",
   "metadata": {},
   "source": [
    "模拟作家A的操作。然后，作家A生成文章README（请访问[这里](/terminals/1)打开一个命令行窗口，使用vi编辑器生成文件README），内容为：\n",
    "\n",
    "`\n",
    "Chapter1\n",
    "Chapter2\n",
    "`"
   ]
  },
  {
   "cell_type": "code",
   "execution_count": 8,
   "metadata": {
    "collapsed": false
   },
   "outputs": [
    {
     "name": "stdout",
     "output_type": "stream",
     "text": [
      "Chapter1\r\n",
      "Chapter2\r\n"
     ]
    }
   ],
   "source": [
    "cat README"
   ]
  },
  {
   "cell_type": "markdown",
   "metadata": {},
   "source": [
    "添加README文件到远程代码库："
   ]
  },
  {
   "cell_type": "code",
   "execution_count": 9,
   "metadata": {
    "collapsed": false
   },
   "outputs": [
    {
     "name": "stdout",
     "output_type": "stream",
     "text": []
    }
   ],
   "source": [
    "git add README"
   ]
  },
  {
   "cell_type": "code",
   "execution_count": 10,
   "metadata": {
    "collapsed": false
   },
   "outputs": [
    {
     "name": "stdout",
     "output_type": "stream",
     "text": [
      "[master (root-commit) 9059a07] Initiate README\r\n",
      " 1 file changed, 2 insertions(+)\r\n",
      " create mode 100644 README\r\n"
     ]
    }
   ],
   "source": [
    "git commit -m \"Initiate README\""
   ]
  },
  {
   "cell_type": "code",
   "execution_count": 11,
   "metadata": {
    "collapsed": false
   },
   "outputs": [
    {
     "name": "stdout",
     "output_type": "stream",
     "text": [
      "Counting objects: 3, done.\r\n",
      "Writing objects:  33% (1/3)   \r",
      "Writing objects:  66% (2/3)   \r",
      "Writing objects: 100% (3/3)   \r",
      "Writing objects: 100% (3/3), 228 bytes | 0 bytes/s, done.\r\n",
      "Total 3 (delta 0), reused 0 (delta 0)\r\n",
      "To file:///notebooks/workspace/rep1.git\r\n",
      " * [new branch]      master -> master\r\n"
     ]
    }
   ],
   "source": [
    "git push origin master"
   ]
  },
  {
   "cell_type": "markdown",
   "metadata": {},
   "source": [
    "#### (3) 作家A创建分支branch\n",
    "\n",
    "使用git branch操作可以生成分支："
   ]
  },
  {
   "cell_type": "code",
   "execution_count": 12,
   "metadata": {
    "collapsed": false
   },
   "outputs": [
    {
     "name": "stdout",
     "output_type": "stream",
     "text": []
    }
   ],
   "source": [
    "git branch branch"
   ]
  },
  {
   "cell_type": "markdown",
   "metadata": {},
   "source": [
    "以上命令创建了名称为branch的分支（前一个branch是创建分支的子命令，后一个是分子的名称branch），下面命令查看所有分支："
   ]
  },
  {
   "cell_type": "code",
   "execution_count": 13,
   "metadata": {
    "collapsed": false
   },
   "outputs": [
    {
     "name": "stdout",
     "output_type": "stream",
     "text": [
      "  branch\r\n",
      "* master\r\n"
     ]
    }
   ],
   "source": [
    "git branch"
   ]
  },
  {
   "cell_type": "markdown",
   "metadata": {},
   "source": [
    "提交分支到远程代码库上："
   ]
  },
  {
   "cell_type": "code",
   "execution_count": 14,
   "metadata": {
    "collapsed": false
   },
   "outputs": [
    {
     "name": "stdout",
     "output_type": "stream",
     "text": [
      "Total 0 (delta 0), reused 0 (delta 0)\r\n",
      "To file:///notebooks/workspace/rep1.git\r\n",
      " * [new branch]      branch -> branch\r\n"
     ]
    }
   ],
   "source": [
    "git push origin branch"
   ]
  },
  {
   "cell_type": "markdown",
   "metadata": {},
   "source": [
    "#### (4) 作家A切换到分支上，修改文章，提交到远程代码库\n",
    "\n",
    "切换到分支上工作使用git checkout命令"
   ]
  },
  {
   "cell_type": "code",
   "execution_count": 15,
   "metadata": {
    "collapsed": false
   },
   "outputs": [
    {
     "name": "stdout",
     "output_type": "stream",
     "text": [
      "Switched to branch 'branch'\r\n"
     ]
    }
   ],
   "source": [
    "git checkout branch"
   ]
  },
  {
   "cell_type": "code",
   "execution_count": 16,
   "metadata": {
    "collapsed": false
   },
   "outputs": [
    {
     "name": "stdout",
     "output_type": "stream",
     "text": [
      "On branch branch\r\n",
      "nothing to commit, working directory clean\r\n"
     ]
    }
   ],
   "source": [
    "git status"
   ]
  },
  {
   "cell_type": "markdown",
   "metadata": {},
   "source": [
    "结果显示，切换到branch分支上。\n",
    "\n",
    "作家A修改README为(请访问[这里](/terminals/1)打开一个命令行窗口，使用vi编辑器)：\n",
    "\n",
    "`\n",
    "Chapter1\n",
    "First\n",
    "Chapter2\n",
    "`\n",
    "\n",
    "提交到远程代码库。"
   ]
  },
  {
   "cell_type": "code",
   "execution_count": 17,
   "metadata": {
    "collapsed": false
   },
   "outputs": [
    {
     "name": "stdout",
     "output_type": "stream",
     "text": [
      "Chapter1\r\n",
      "First\r\n",
      "Chapter2\r\n"
     ]
    }
   ],
   "source": [
    "cat README"
   ]
  },
  {
   "cell_type": "code",
   "execution_count": 18,
   "metadata": {
    "collapsed": false
   },
   "outputs": [
    {
     "name": "stdout",
     "output_type": "stream",
     "text": []
    }
   ],
   "source": [
    "git add README"
   ]
  },
  {
   "cell_type": "code",
   "execution_count": 19,
   "metadata": {
    "collapsed": false
   },
   "outputs": [
    {
     "name": "stdout",
     "output_type": "stream",
     "text": [
      "[branch 6db8f3f] Add First in Chapter1 by A\r\n",
      " 1 file changed, 1 insertion(+)\r\n"
     ]
    }
   ],
   "source": [
    "git commit -m \"Add First in Chapter1 by A\""
   ]
  },
  {
   "cell_type": "code",
   "execution_count": 20,
   "metadata": {
    "collapsed": false
   },
   "outputs": [
    {
     "name": "stdout",
     "output_type": "stream",
     "text": [
      "Counting objects: 5, done.\r\n",
      "Writing objects:  33% (1/3)   \r",
      "Writing objects:  66% (2/3)   \r",
      "Writing objects: 100% (3/3)   \r",
      "Writing objects: 100% (3/3), 266 bytes | 0 bytes/s, done.\r\n",
      "Total 3 (delta 0), reused 0 (delta 0)\r\n",
      "To file:///notebooks/workspace/rep1.git\r\n",
      "   9059a07..6db8f3f  branch -> branch\r\n"
     ]
    }
   ],
   "source": [
    "git push origin branch"
   ]
  },
  {
   "cell_type": "markdown",
   "metadata": {},
   "source": [
    "#### (5) 与此同时，作家B在主干上对README进行修改并提交到远程代码库"
   ]
  },
  {
   "cell_type": "code",
   "execution_count": 21,
   "metadata": {
    "collapsed": false
   },
   "outputs": [
    {
     "name": "stdout",
     "output_type": "stream",
     "text": []
    }
   ],
   "source": [
    "cd ../B"
   ]
  },
  {
   "cell_type": "code",
   "execution_count": 22,
   "metadata": {
    "collapsed": false
   },
   "outputs": [
    {
     "name": "stdout",
     "output_type": "stream",
     "text": [
      "remote: Counting objects: 3, done.        \r\n",
      "remote: Total 3 (delta 0), reused 0 (delta 0)        \r\n",
      "Unpacking objects:  33% (1/3)   \r",
      "Unpacking objects:  66% (2/3)   \r",
      "Unpacking objects: 100% (3/3)   \r",
      "Unpacking objects: 100% (3/3), done.\r\n",
      "From file:///notebooks/workspace/rep1\r\n",
      " * branch            master     -> FETCH_HEAD\r\n",
      " * [new branch]      master     -> origin/master\r\n"
     ]
    }
   ],
   "source": [
    "git pull origin master"
   ]
  },
  {
   "cell_type": "code",
   "execution_count": 23,
   "metadata": {
    "collapsed": false
   },
   "outputs": [
    {
     "name": "stdout",
     "output_type": "stream",
     "text": [
      "Chapter1\r\n",
      "Chapter2\r\n"
     ]
    }
   ],
   "source": [
    "cat README"
   ]
  },
  {
   "cell_type": "markdown",
   "metadata": {},
   "source": [
    "注意：作家A在分支branch上对README所做的修改没有保存在主干master的README文件中，这就是分支开发的好处，分支和主干上的修改不会互相影响。\n",
    "\n",
    "作家B修改README为：\n",
    "\n",
    "`\n",
    "Chapter1\n",
    "Chapter2\n",
    "First\n",
    "`"
   ]
  },
  {
   "cell_type": "code",
   "execution_count": 24,
   "metadata": {
    "collapsed": false
   },
   "outputs": [
    {
     "name": "stdout",
     "output_type": "stream",
     "text": [
      "Chapter1\r\n",
      "Chapter2\r\n",
      "First\r\n"
     ]
    }
   ],
   "source": [
    "cat README"
   ]
  },
  {
   "cell_type": "markdown",
   "metadata": {},
   "source": [
    "提交到远程中心代码库的主干master上："
   ]
  },
  {
   "cell_type": "code",
   "execution_count": 25,
   "metadata": {
    "collapsed": false
   },
   "outputs": [
    {
     "name": "stdout",
     "output_type": "stream",
     "text": []
    }
   ],
   "source": [
    "git add README"
   ]
  },
  {
   "cell_type": "code",
   "execution_count": 26,
   "metadata": {
    "collapsed": false
   },
   "outputs": [
    {
     "name": "stdout",
     "output_type": "stream",
     "text": [
      "[master 3e8cd14] Add First in Chapter2 by B\r\n",
      " 1 file changed, 1 insertion(+)\r\n"
     ]
    }
   ],
   "source": [
    "git commit -m \"Add First in Chapter2 by B\" "
   ]
  },
  {
   "cell_type": "code",
   "execution_count": 27,
   "metadata": {
    "collapsed": false
   },
   "outputs": [
    {
     "name": "stdout",
     "output_type": "stream",
     "text": [
      "Counting objects: 5, done.\r\n",
      "Writing objects:  33% (1/3)   \r",
      "Writing objects:  66% (2/3)   \r",
      "Writing objects: 100% (3/3)   \r",
      "Writing objects: 100% (3/3), 267 bytes | 0 bytes/s, done.\r\n",
      "Total 3 (delta 0), reused 0 (delta 0)\r\n",
      "To file:///notebooks/workspace/rep1.git\r\n",
      "   9059a07..3e8cd14  master -> master\r\n"
     ]
    }
   ],
   "source": [
    "git push origin master"
   ]
  },
  {
   "cell_type": "markdown",
   "metadata": {},
   "source": [
    "#### (6) 与此同时，作家A在分支上修改README并且提交"
   ]
  },
  {
   "cell_type": "code",
   "execution_count": 28,
   "metadata": {
    "collapsed": false
   },
   "outputs": [
    {
     "name": "stdout",
     "output_type": "stream",
     "text": []
    }
   ],
   "source": [
    "cd ../A"
   ]
  },
  {
   "cell_type": "code",
   "execution_count": 29,
   "metadata": {
    "collapsed": false
   },
   "outputs": [
    {
     "name": "stdout",
     "output_type": "stream",
     "text": [
      "On branch branch\r\n",
      "nothing to commit, working directory clean\r\n"
     ]
    }
   ],
   "source": [
    "git status"
   ]
  },
  {
   "cell_type": "code",
   "execution_count": 30,
   "metadata": {
    "collapsed": false
   },
   "outputs": [
    {
     "name": "stdout",
     "output_type": "stream",
     "text": [
      "From file:///notebooks/workspace/rep1\r\n",
      " * branch            branch     -> FETCH_HEAD\r\n",
      "Already up-to-date.\r\n"
     ]
    }
   ],
   "source": [
    "git pull origin branch"
   ]
  },
  {
   "cell_type": "markdown",
   "metadata": {},
   "source": [
    "上述命令目的是作家A更新一下分支中的内容，结果发现是最新的（Already up-to-date），也就是说作家B对主干master的修改没有保存到分支中。"
   ]
  },
  {
   "cell_type": "code",
   "execution_count": 31,
   "metadata": {
    "collapsed": false
   },
   "outputs": [
    {
     "name": "stdout",
     "output_type": "stream",
     "text": [
      "Chapter1\r\n",
      "First\r\n",
      "Chapter2\r\n"
     ]
    }
   ],
   "source": [
    "cat README"
   ]
  },
  {
   "cell_type": "markdown",
   "metadata": {},
   "source": [
    "再次验证，可见，作家B在master上对README的修改没有保存在分支branch中。"
   ]
  },
  {
   "cell_type": "markdown",
   "metadata": {},
   "source": [
    "作家A修改README文件为：\n",
    "\n",
    "`\n",
    "Chapter1\n",
    "First\n",
    "Second\n",
    "Chapter2\n",
    "`"
   ]
  },
  {
   "cell_type": "code",
   "execution_count": 32,
   "metadata": {
    "collapsed": false
   },
   "outputs": [
    {
     "name": "stdout",
     "output_type": "stream",
     "text": [
      "Chapter1\r\n",
      "First\r\n",
      "Second\r\n",
      "Chapter2\r\n"
     ]
    }
   ],
   "source": [
    "cat README"
   ]
  },
  {
   "cell_type": "markdown",
   "metadata": {},
   "source": [
    "提交到远程中心代码库的branch分支中。"
   ]
  },
  {
   "cell_type": "code",
   "execution_count": 33,
   "metadata": {
    "collapsed": false
   },
   "outputs": [
    {
     "name": "stdout",
     "output_type": "stream",
     "text": []
    }
   ],
   "source": [
    "git add README"
   ]
  },
  {
   "cell_type": "code",
   "execution_count": 34,
   "metadata": {
    "collapsed": false
   },
   "outputs": [
    {
     "name": "stdout",
     "output_type": "stream",
     "text": [
      "[branch 89ff40b] Add Second in Chapter1 by A\r\n",
      " 1 file changed, 1 insertion(+)\r\n"
     ]
    }
   ],
   "source": [
    "git commit -m \"Add Second in Chapter1 by A\""
   ]
  },
  {
   "cell_type": "code",
   "execution_count": 35,
   "metadata": {
    "collapsed": false
   },
   "outputs": [
    {
     "name": "stdout",
     "output_type": "stream",
     "text": [
      "Counting objects: 5, done.\r\n",
      "Writing objects:  33% (1/3)   \r",
      "Writing objects:  66% (2/3)   \r",
      "Writing objects: 100% (3/3)   \r",
      "Writing objects: 100% (3/3), 277 bytes | 0 bytes/s, done.\r\n",
      "Total 3 (delta 0), reused 0 (delta 0)\r\n",
      "To file:///notebooks/workspace/rep1.git\r\n",
      "   6db8f3f..89ff40b  branch -> branch\r\n"
     ]
    }
   ],
   "source": [
    "git push origin branch"
   ]
  },
  {
   "cell_type": "markdown",
   "metadata": {},
   "source": [
    "注意：因为作家A工作在分支中，所以作家B在主干中对README的提交没有影响到作家A的提交。\n",
    "\n",
    "#### (8) 作家B合并分支到主干中，并提交"
   ]
  },
  {
   "cell_type": "code",
   "execution_count": 36,
   "metadata": {
    "collapsed": false
   },
   "outputs": [
    {
     "name": "stdout",
     "output_type": "stream",
     "text": []
    }
   ],
   "source": [
    "cd ../B"
   ]
  },
  {
   "cell_type": "code",
   "execution_count": 37,
   "metadata": {
    "collapsed": false
   },
   "outputs": [
    {
     "name": "stdout",
     "output_type": "stream",
     "text": [
      "Chapter1\r\n",
      "Chapter2\r\n",
      "First\r\n"
     ]
    }
   ],
   "source": [
    "cat README"
   ]
  },
  {
   "cell_type": "markdown",
   "metadata": {},
   "source": [
    "合并操作使用git merge命令，运行前需要使用fetch子命令获取分支："
   ]
  },
  {
   "cell_type": "code",
   "execution_count": 38,
   "metadata": {
    "collapsed": false
   },
   "outputs": [
    {
     "name": "stdout",
     "output_type": "stream",
     "text": [
      "remote: Counting objects: 10, done.        \r\n",
      "remote: Compressing objects:  50% (1/2)           \r",
      "remote: Compressing objects: 100% (2/2)           \r",
      "remote: Compressing objects: 100% (2/2), done.        \r\n",
      "remote: Total 6 (delta 0), reused 0 (delta 0)        \r\n",
      "Unpacking objects:  16% (1/6)   \r",
      "Unpacking objects:  33% (2/6)   \r",
      "Unpacking objects:  50% (3/6)   \r",
      "Unpacking objects:  66% (4/6)   \r",
      "Unpacking objects:  83% (5/6)   \r",
      "Unpacking objects: 100% (6/6)   \r",
      "Unpacking objects: 100% (6/6), done.\r\n",
      "From file:///notebooks/workspace/rep1\r\n",
      " * branch            branch     -> FETCH_HEAD\r\n",
      " * [new branch]      branch     -> origin/branch\r\n"
     ]
    }
   ],
   "source": [
    "git fetch origin branch"
   ]
  },
  {
   "cell_type": "code",
   "execution_count": 39,
   "metadata": {
    "collapsed": false
   },
   "outputs": [
    {
     "name": "stdout",
     "output_type": "stream",
     "text": [
      "Auto-merging README\r\n",
      "error: Terminal is dumb, but EDITOR unset\r\n",
      "Not committing merge; use 'git commit' to complete the merge.\r\n"
     ]
    }
   ],
   "source": [
    "git merge origin/branch"
   ]
  },
  {
   "cell_type": "markdown",
   "metadata": {},
   "source": [
    "输出结果显示，README被自动合并了(Auto-merging README)。查看一下状态："
   ]
  },
  {
   "cell_type": "code",
   "execution_count": 40,
   "metadata": {
    "collapsed": false
   },
   "outputs": [
    {
     "name": "stdout",
     "output_type": "stream",
     "text": [
      "On branch master\r\n",
      "Your branch is up-to-date with 'origin/master'.\r\n",
      "\r\n",
      "All conflicts fixed but you are still merging.\r\n",
      "  (use \"git commit\" to conclude merge)\r\n",
      "\r\n",
      "Changes to be committed:\r\n",
      "\r\n",
      "\tmodified:   README\r\n",
      "\r\n"
     ]
    }
   ],
   "source": [
    "git status"
   ]
  },
  {
   "cell_type": "markdown",
   "metadata": {
    "collapsed": false
   },
   "source": [
    "该文件是修改状态(Changes to be committed)，直接提交就可以了。\n",
    "\n",
    "看看合并后的内容："
   ]
  },
  {
   "cell_type": "code",
   "execution_count": 41,
   "metadata": {
    "collapsed": false
   },
   "outputs": [
    {
     "name": "stdout",
     "output_type": "stream",
     "text": [
      "Chapter1\r\n",
      "First\r\n",
      "Second\r\n",
      "Chapter2\r\n",
      "First\r\n"
     ]
    }
   ],
   "source": [
    "cat README"
   ]
  },
  {
   "cell_type": "code",
   "execution_count": 42,
   "metadata": {
    "collapsed": false
   },
   "outputs": [
    {
     "name": "stdout",
     "output_type": "stream",
     "text": [
      "[master 8bcf69d] merge branch into trunk\r\n"
     ]
    }
   ],
   "source": [
    "git commit -m \"merge branch into trunk\""
   ]
  },
  {
   "cell_type": "code",
   "execution_count": 43,
   "metadata": {
    "collapsed": false
   },
   "outputs": [
    {
     "name": "stdout",
     "output_type": "stream",
     "text": [
      "Counting objects: 7, done.\r\n",
      "Writing objects:  33% (1/3)   \r",
      "Writing objects:  66% (2/3)   \r",
      "Writing objects: 100% (3/3)   \r",
      "Writing objects: 100% (3/3), 300 bytes | 0 bytes/s, done.\r\n",
      "Total 3 (delta 0), reused 0 (delta 0)\r\n",
      "To file:///notebooks/workspace/rep1.git\r\n",
      "   3e8cd14..8bcf69d  master -> master\r\n"
     ]
    }
   ],
   "source": [
    "git push origin master"
   ]
  },
  {
   "cell_type": "code",
   "execution_count": 44,
   "metadata": {
    "collapsed": false
   },
   "outputs": [
    {
     "name": "stdout",
     "output_type": "stream",
     "text": [
      "Chapter1\r\n",
      "First\r\n",
      "Second\r\n",
      "Chapter2\r\n",
      "First\r\n"
     ]
    }
   ],
   "source": [
    "cat README"
   ]
  },
  {
   "cell_type": "markdown",
   "metadata": {},
   "source": [
    "结果显示：合并后的结果提交到远程中心代码库成功。"
   ]
  },
  {
   "cell_type": "markdown",
   "metadata": {},
   "source": [
    "#### (8) 作家A合并主干上README的修改到分支中"
   ]
  },
  {
   "cell_type": "code",
   "execution_count": 45,
   "metadata": {
    "collapsed": false
   },
   "outputs": [
    {
     "name": "stdout",
     "output_type": "stream",
     "text": []
    }
   ],
   "source": [
    "cd ../A"
   ]
  },
  {
   "cell_type": "markdown",
   "metadata": {},
   "source": [
    "更新分支的内容："
   ]
  },
  {
   "cell_type": "code",
   "execution_count": 46,
   "metadata": {
    "collapsed": false
   },
   "outputs": [
    {
     "name": "stdout",
     "output_type": "stream",
     "text": [
      "From file:///notebooks/workspace/rep1\r\n",
      " * branch            branch     -> FETCH_HEAD\r\n",
      "Already up-to-date.\r\n"
     ]
    }
   ],
   "source": [
    "git pull origin branch"
   ]
  },
  {
   "cell_type": "code",
   "execution_count": 47,
   "metadata": {
    "collapsed": false
   },
   "outputs": [
    {
     "name": "stdout",
     "output_type": "stream",
     "text": [
      "Chapter1\r\n",
      "First\r\n",
      "Second\r\n",
      "Chapter2\r\n"
     ]
    }
   ],
   "source": [
    "cat README"
   ]
  },
  {
   "cell_type": "markdown",
   "metadata": {},
   "source": [
    "使用git pull命令合并主干master："
   ]
  },
  {
   "cell_type": "code",
   "execution_count": 48,
   "metadata": {
    "collapsed": false,
    "scrolled": true
   },
   "outputs": [
    {
     "name": "stdout",
     "output_type": "stream",
     "text": [
      "remote: Counting objects: 10, done.        \r\n",
      "remote: Compressing objects:  50% (1/2)           \r",
      "remote: Compressing objects: 100% (2/2)           \r",
      "remote: Compressing objects: 100% (2/2), done.        \r\n",
      "remote: Total 6 (delta 0), reused 0 (delta 0)        \r\n",
      "Unpacking objects:  16% (1/6)   \r",
      "Unpacking objects:  33% (2/6)   \r",
      "Unpacking objects:  50% (3/6)   \r",
      "Unpacking objects:  66% (4/6)   \r",
      "Unpacking objects:  83% (5/6)   \r",
      "Unpacking objects: 100% (6/6)   \r",
      "Unpacking objects: 100% (6/6), done.\r\n",
      "From file:///notebooks/workspace/rep1\r\n",
      " * branch            master     -> FETCH_HEAD\r\n",
      "   9059a07..8bcf69d  master     -> origin/master\r\n",
      "Updating 89ff40b..8bcf69d\r\n",
      "Fast-forward\r\n",
      " README | 1 +\r\n",
      " 1 file changed, 1 insertion(+)\r\n"
     ]
    }
   ],
   "source": [
    "git pull origin master"
   ]
  },
  {
   "cell_type": "markdown",
   "metadata": {},
   "source": [
    "结果表示合并成功（Fast-forward）。看看合并后的情况："
   ]
  },
  {
   "cell_type": "code",
   "execution_count": 49,
   "metadata": {
    "collapsed": false
   },
   "outputs": [
    {
     "name": "stdout",
     "output_type": "stream",
     "text": [
      "On branch branch\r\n",
      "nothing to commit, working directory clean\r\n"
     ]
    }
   ],
   "source": [
    "git status"
   ]
  },
  {
   "cell_type": "code",
   "execution_count": 50,
   "metadata": {
    "collapsed": false
   },
   "outputs": [
    {
     "name": "stdout",
     "output_type": "stream",
     "text": [
      "Chapter1\r\n",
      "First\r\n",
      "Second\r\n",
      "Chapter2\r\n",
      "First\r\n"
     ]
    }
   ],
   "source": [
    "cat README"
   ]
  },
  {
   "cell_type": "markdown",
   "metadata": {},
   "source": [
    "## 8 实验任务\n",
    "\n",
    "模拟创建一个远程代码库，将/notebooks/下的exp3.ipynb文件提交该远程代码库中，然后修改exp3.ipynb文件，提交修改后的文件到远程代码库，生成新的版本。（远程代码库和本地工作目录的文件夹都设置在/notebooks/workspace下）"
   ]
  },
  {
   "cell_type": "markdown",
   "metadata": {},
   "source": [
    "# 9 实验思考\n",
    "\n",
    "1、描述软件源代码版本管理中的“冲突”是如何产生的？"
   ]
  }
 ],
 "metadata": {
  "kernelspec": {
   "display_name": "Bash",
   "language": "bash",
   "name": "bash"
  },
  "language_info": {
   "codemirror_mode": "shell",
   "file_extension": ".sh",
   "mimetype": "text/x-sh",
   "name": "bash"
  }
 },
 "nbformat": 4,
 "nbformat_minor": 0
}
