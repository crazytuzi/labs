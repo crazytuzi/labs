{
 "cells": [
  {
   "cell_type": "markdown",
   "metadata": {},
   "source": [
    "实验一 Linux环境使用-(1)命令行使用\n",
    "===="
   ]
  },
  {
   "cell_type": "markdown",
   "metadata": {},
   "source": [
    "# 1. 实验类型\n",
    "验证型，2学时，必做实验"
   ]
  },
  {
   "cell_type": "markdown",
   "metadata": {},
   "source": [
    "# 2.  实验目的\n",
    "了解Linux字符界面的操作特点，验证Linux命令的用途，掌握Linux的基本操作、管理、帮助、编辑命令。"
   ]
  },
  {
   "cell_type": "markdown",
   "metadata": {},
   "source": [
    "# 3. 题目描述\n",
    "本实验是练习和操作一些基本的Linux命令，包括操作命令、管理命令、帮助命令和文本编辑命令，并通过使用文本编辑程序完成一篇英文短文的录入达到能基本操作和使用Linux操作系统的目的。"
   ]
  },
  {
   "cell_type": "markdown",
   "metadata": {},
   "source": [
    "# 4. 实验要求\n",
    "\n",
    "* 基本层次：通过阅读和示范使用Linux操作系统上的基本命令，能使用Linux的帮助系统，能使用编辑器vi完成一篇英文短文的录入，以“学号.txt”命名文件（比如20060610.txt），拷贝文件到指定目录；使用进程管理命令退出Shell环境。\n",
    "\n",
    "* 提高层次：通过Linux的帮助系统，学习指导书上未提到的命令。"
   ]
  },
  {
   "cell_type": "markdown",
   "metadata": {},
   "source": [
    "# 5. 相关知识\n",
    "操作系统是工作在计算机硬件系统之上的一层系统软件，它通过控制计算机的所有资源，提供5个主要功能[1]：处理机管理、存储器管理、设备管理、文件管理和提供友好的用户接口。前4个功能是操作系统对计算机硬件系统的管理功能，操作系统通过用户接口与用户交互，以使用计算机的所有资源。操作系统提供的用户接口主要有3种：命令接口、程序接口以及图形用户接口。其中，命令接口又称作命令行解释程序，或者叫Shell，它通过字符界面（称作命令行）接受用户输入的命令，并把操作系统的响应以字符方式显示给用户；程序接口又叫做系统调用，是通过代码库的方式提供给用户程序（比如C语言程序），以控制和访问计算机资源；图形用户接口是基于图标、窗口和菜单等图形界面，用户以鼠标、键盘、或其他设备，通过控制这些图形界面，来完成对计算机资源的控制和访问。大多数的操作系统都提供这3种用户接口。"
   ]
  },
  {
   "cell_type": "markdown",
   "metadata": {},
   "source": [
    "本实验主要讨论Linux操作系统的命令接口，因为这个接口消耗资源少、响应直接、查错容易，所以如果Linux作为服务器的操作系统，一般只安装这个接口。Linux的命令接口是通过用户输入的字符串（称作“Shell命令”，简称为“命令”）来接收用户的控制的。Shell在每个需要用户输入命令的地方提供一个特定的字符串用来提示用户，这个字符串叫做Shell提示符。Shell命令一般由两个部分构成：命令名和参数，参数在一个Shell命令中一般是可选项，一个命令也可能有多个参数。Shell命令按照功能一般分为文件操作命令、进程管理命令、系统管理命令、网络操作命令等4类。"
   ]
  },
  {
   "cell_type": "markdown",
   "metadata": {},
   "source": [
    "Linux提供在线帮助系统man page来帮助用户使用Shell命令，man page的语法为：\n",
    "\n",
    ">man Shell命令名\n",
    "\n",
    "Linux的在线帮助系统还包括info page，使用方法与man page一致，语法为：\n",
    "\n",
    ">info Shell命令\n",
    "\n",
    "Linux还提供HOWTO文档来帮助管理者配置、管理系统，通常安装在/usr/share/doc/HOWTO中（默认一般没有安装，另外，最新的HOWTO文档的网络地址为[2]）；另外，Linux上安装的所有软件包都包含说明文件，也能提供给用户这些软件的安装、更新、配置等信息。\n",
    "\n",
    "vi是UNIX世界最为普遍使用的全屏幕文本编辑器[3]，由于这个软件可以工作在命令行方式，因此它也是管理、使用类UNIX系统的必备工具。Linux提供了一个vi版本——vim，在操作上，vim和vi没有大的区别，本实验也未加以区别。在Shell提示符下输入vi就可以进入vi的编辑环境。vi共有三种操作模式：输入模式、命令模式和底行模式，输入模式用来输入文本，命令模式用来发出文本编辑命令，比如移动光标、添加、删除等，底行模式用来完成文件和其他操作，比如存盘、退出等。进入vi环境后即进入命令模式，这时所有的输入都是操作命令，没有录入任何的字符[4]。\n",
    "\n",
    "Emacs是迄今为止功能最为强大的文本编辑器[5]。它与vi的区别是，Emacs是一个集成的编辑环境：使用Emacs可以完成包括文件操作（编辑、重命名、删除、复制等）、程序编写、Shell操作、阅读电子邮件、浏览网页等。另外，Emacs还提供扩展功能，让用户可以编写命令，更改按键等。"
   ]
  },
  {
   "cell_type": "markdown",
   "metadata": {},
   "source": [
    "# 6. 实验设备\n",
    "实验者需要使用各自PC机上Windows操作系统的putty程序通过网络连接到Linux服务器，Linux服务器地址由指导教师给出。"
   ]
  },
  {
   "cell_type": "markdown",
   "metadata": {},
   "source": [
    "# 7. 实验指导\n",
    "使用实验者Windows操作系统的putty软件连接服务器，如果看到屏幕上有“login:”字符，即表示连接成功，需要输入用户名和密码。询问指导教师获得用户名和密码，注意：输入密码时，屏幕上没有任何响应，这是正常的。登录成功能够看到Shell提示符“$”字符。退出登录，输入“exit”命令，即回到显示“login:”字符的屏幕上。\n",
    "\n",
    "## 7.1、常用的文件操作命令包括：\n",
    "\n",
    "### (1) pwd\n",
    "\n",
    "功能说明：显示工作目录。\n",
    "\n",
    "语　　法：pwd [--help][--version]\n",
    "\n",
    "补充说明：执行pwd指令可得知工作目录的绝对路径名称。\n",
    "\n",
    "参　　数：\n",
    "\n",
    "--help   在线帮助。\n",
    "\n",
    "--version   显示版本信息。\n",
    "\n",
    "举　　例："
   ]
  },
  {
   "cell_type": "code",
   "execution_count": 4,
   "metadata": {
    "collapsed": false
   },
   "outputs": [
    {
     "name": "stdout",
     "output_type": "stream",
     "text": [
      "/notebooks\r\n"
     ]
    }
   ],
   "source": [
    "pwd"
   ]
  },
  {
   "cell_type": "markdown",
   "metadata": {},
   "source": [
    "### (2) cd\n",
    "\n",
    "功能说明：切换工作目录。\n",
    "\n",
    "语　　法：cd [目的目录]\n",
    "\n",
    "补充说明：cd指令可让用户在不同的目录间切换，但该用户必须拥有足够的权限进入目的目录。\n",
    "\n",
    "举　　例："
   ]
  },
  {
   "cell_type": "code",
   "execution_count": 2,
   "metadata": {
    "collapsed": false
   },
   "outputs": [
    {
     "name": "stdout",
     "output_type": "stream",
     "text": []
    }
   ],
   "source": [
    "cd workspace"
   ]
  },
  {
   "cell_type": "code",
   "execution_count": 3,
   "metadata": {
    "collapsed": false
   },
   "outputs": [
    {
     "name": "stdout",
     "output_type": "stream",
     "text": [
      "/notebooks/workspace\r\n"
     ]
    }
   ],
   "source": [
    "pwd"
   ]
  },
  {
   "cell_type": "markdown",
   "metadata": {},
   "source": [
    "### (3) ls\n",
    "\n",
    "功能说明：列出目录内容。\n",
    "\n",
    "语　　法：ls [-1aAcdlrR]\n",
    "\n",
    "补充说明：执行ls指令可列出目录的内容，包括文件和子目录的名称。\n",
    "\n",
    "参　　数：\n",
    "\n",
    "  -1   每列仅显示一个文件或目录名称。\n",
    "  \n",
    "  -a或--all   显示下所有文件和目录。\n",
    " \n",
    " -A或--almost-all   显示所有文件和目录，但不显示现行目录和上层目录。\n",
    " \n",
    " -c   以更改时间排序，显示文件和目录。\n",
    " \n",
    " -d或--directory   显示目录名称而非其内容。\n",
    " \n",
    " -l   使用详细格式列表。\n",
    " \n",
    " -r或--reverse   反向排序。\n",
    " \n",
    " -R或--recursive   递归处理，将指定目录下的所有文件及子目录一并处理。\n",
    " \n",
    " --help   在线帮助。\n",
    " \n",
    " --version   显示版本信息。\n",
    " \n",
    " 举　　例："
   ]
  },
  {
   "cell_type": "code",
   "execution_count": 5,
   "metadata": {
    "collapsed": false
   },
   "outputs": [
    {
     "name": "stdout",
     "output_type": "stream",
     "text": [
      "total 2408\r\n",
      "-rw-rw-r-- 1 1002 1002 1808896 Sep 14 06:36 App.ppt\r\n",
      "-rw-rw-r-- 1 1002 1002  139264 Sep 14 06:36 Exp1-1.ppt\r\n",
      "-rw-rw-r-- 1 1002 1002  435712 Sep 14 06:36 Exp1-2.ppt\r\n",
      "-rw-rw-r-- 1 1002 1002     253 Sep 14 06:36 config\r\n",
      "-rw-rw-r-- 1 root root    9324 Sep 14 06:56 exp0.ipynb\r\n",
      "-rw-rw-r-- 1 1002 1002   37085 Sep 14 06:36 exp1-1.ipynb\r\n",
      "-rw-rw-r-- 1 1002 1002    2784 Sep 14 06:36 function\r\n",
      "drwxrwxr-x 2 1002 1002    4096 Sep 14 06:36 \u001b[0m\u001b[01;34mimages\u001b[0m\r\n",
      "-rw-rw-r-- 1 1002 1002    1946 Sep 14 06:36 report-template.ipynb\r\n",
      "-rwxrwxr-x 1 1002 1002     437 Sep 14 06:36 \u001b[01;32mstart.bash\u001b[0m\r\n",
      "drwxrwxr-x 2 1002 1002    4096 Sep 14 06:36 \u001b[01;34mworkspace\u001b[0m\r\n"
     ]
    }
   ],
   "source": [
    "ls -l"
   ]
  },
  {
   "cell_type": "markdown",
   "metadata": {},
   "source": [
    "### (4) mkdir\n",
    "\n",
    "功能说明：建立目录\n",
    "\n",
    "语　　法：mkdir [-p][--help][--version][-m <目录属性>][目录名称]\n",
    "\n",
    "补充说明：mkdir可建立目录并同时设置目录的权限。\n",
    "\n",
    "参　　数：\n",
    "\n",
    "-m<目录属性>或--mode<目录属性>   建立目录时同时设置目录的权限。\n",
    "\n",
    "-p或--parents   若所要建立目录的上层目录目前尚未建立，则一并建立上层目录。\n",
    "\n",
    "--help   显示帮助。\n",
    "\n",
    "--verbose   执行时显示详细的信息。\n",
    "\n",
    "--version   显示版本信息。\n",
    "\n",
    "举       例："
   ]
  },
  {
   "cell_type": "code",
   "execution_count": 5,
   "metadata": {
    "collapsed": false
   },
   "outputs": [
    {
     "name": "stdout",
     "output_type": "stream",
     "text": []
    }
   ],
   "source": [
    "mkdir test"
   ]
  },
  {
   "cell_type": "code",
   "execution_count": 6,
   "metadata": {
    "collapsed": false
   },
   "outputs": [
    {
     "name": "stdout",
     "output_type": "stream",
     "text": [
      "total 157112\r\n",
      "-rw-r--r-- 1 1000 1000         0 Oct 15 13:39 exp.txt\r\n",
      "-rw-r--r-- 1 1000 1000 160872342 Oct 14  2014 jdk-8u20-linux-x64.tar.gz\r\n",
      "drwxr-xr-x 2 root root      4096 Oct 18 14:23 \u001b[0m\u001b[01;34mtest\u001b[0m\r\n",
      "-rw-rw-r-- 1 1000 1000         0 Oct 15 13:39 test.txt\r\n"
     ]
    }
   ],
   "source": [
    "ls -l"
   ]
  },
  {
   "cell_type": "markdown",
   "metadata": {},
   "source": [
    "### (5) rmdir\n",
    "\n",
    "功能说明：删除目录。\n",
    "\n",
    "语　　法：rmdir [-p][--help][--verbose][--version][目录...]\n",
    "\n",
    "补充说明：当有空目录要删除时，可使用rmdir指令。\n",
    "\n",
    "参　　数：\n",
    "\n",
    "-p或--parents   删除指定目录后，若该目录的上层目录已变成空目录，则将其一并删除。\n",
    "\n",
    "--help   在线帮助。\n",
    "\n",
    "--verbose   显示指令执行过程。\n",
    "\n",
    "--version   显示版本信息。\n",
    "\n",
    "举　　例："
   ]
  },
  {
   "cell_type": "code",
   "execution_count": 7,
   "metadata": {
    "collapsed": false
   },
   "outputs": [
    {
     "name": "stdout",
     "output_type": "stream",
     "text": []
    }
   ],
   "source": [
    "rmdir test"
   ]
  },
  {
   "cell_type": "code",
   "execution_count": 8,
   "metadata": {
    "collapsed": false
   },
   "outputs": [
    {
     "name": "stdout",
     "output_type": "stream",
     "text": [
      "total 157108\r\n",
      "-rw-r--r-- 1 1000 1000         0 Oct 15 13:39 exp.txt\r\n",
      "-rw-r--r-- 1 1000 1000 160872342 Oct 14  2014 jdk-8u20-linux-x64.tar.gz\r\n",
      "-rw-rw-r-- 1 1000 1000         0 Oct 15 13:39 test.txt\r\n"
     ]
    }
   ],
   "source": [
    "ls -l"
   ]
  },
  {
   "cell_type": "markdown",
   "metadata": {},
   "source": [
    "### (6) cp\n",
    "\n",
    "功能说明：复制文件或目录。\n",
    "\n",
    "语　　法：cp [-adfilpPrRsv] [--help] [--version][源文件或目录][目标文件或目录] [目的目录] \n",
    "\n",
    "补充说明：cp指令用在复制文件或目录，如同时指定两个以上的文件或目录，且最后的目的地是一个已经存在的目录，则它会把前面指定的所有文件或目录复制到该目录中。若同时指定多个文件或目录，而最后的目的地并非是一个已存在的目录，则会出现错误信息。\n",
    "\n",
    "参　　数：\n",
    "\n",
    "-a或--archive 　此参数的效果和同时指定\"-dpR\"参数相同。 \n",
    "\n",
    "-d或--no-dereference 　当复制符号连接时，把目标文件或目录也建立为符号连接，并指向与源文\n",
    "件或目录连接的原始文件或目录。 \n",
    "\n",
    "-f或--force 　强行复制文件或目录，不论目标文件或目录是否已存在。\n",
    "\n",
    "-i或--interactive 　覆盖文件之前先询问用户。 \n",
    "\n",
    "-l或--link 　对源文件建立硬连接，而非复制文件。\n",
    "\n",
    "-p或--preserve 　保留源文件或目录的属性。\n",
    "\n",
    "-P或--parents 　保留源文件或目录的路径。\n",
    "\n",
    "-r 　递归处理，将指定目录下的文件与子目录一并处理。 \n",
    "\n",
    "-R或--recursive 　递归处理，将指定目录下的所有文件与子目录一并处理。 \n",
    "\n",
    "-s或--symbolic-link 　对源文件建立符号连接，而非复制文件。\n",
    "\n",
    "-v或--verbose 　显示指令执行过程。 \n",
    "\n",
    "--help 　在线帮助。\n",
    "\n",
    "--version 　显示版本信息。\n",
    "\n",
    "举　　例：\n"
   ]
  },
  {
   "cell_type": "code",
   "execution_count": 9,
   "metadata": {
    "collapsed": false
   },
   "outputs": [
    {
     "name": "stdout",
     "output_type": "stream",
     "text": []
    }
   ],
   "source": [
    "cp test.txt exp.txt"
   ]
  },
  {
   "cell_type": "code",
   "execution_count": 10,
   "metadata": {
    "collapsed": false
   },
   "outputs": [
    {
     "name": "stdout",
     "output_type": "stream",
     "text": [
      "total 157108\r\n",
      "-rw-r--r-- 1 1000 1000         0 Oct 18 14:23 exp.txt\r\n",
      "-rw-r--r-- 1 1000 1000 160872342 Oct 14  2014 jdk-8u20-linux-x64.tar.gz\r\n",
      "-rw-rw-r-- 1 1000 1000         0 Oct 15 13:39 test.txt\r\n"
     ]
    }
   ],
   "source": [
    "ls -l"
   ]
  },
  {
   "cell_type": "markdown",
   "metadata": {},
   "source": [
    "### (7) rm(remove)\n",
    "\n",
    "功能说明：删除文件或目录。\n",
    "\n",
    "语　　法：rm [-dfirv][--help][--version][文件或目录...]\n",
    "\n",
    "补充说明：执行rm指令可删除文件或目录，如欲删除目录必须加上参数\"-r\"，否则预设仅会删除\n",
    "文件。\n",
    "\n",
    "参数：\n",
    "\n",
    "-d或--directory 　直接把欲删除的目录的硬连接数据删成0，删除该目录。\n",
    "\n",
    "-f或--force 　强制删除文件或目录。 \n",
    "\n",
    "-i或--interactive 　删除既有文件或目录之前先询问用户。\n",
    "\n",
    "-r或-R或--recursive 　递归处理，将指定目录下的所有文件及子目录一并处理。\n",
    "\n",
    "-v或--verbose 　显示指令执行过程。\n",
    "\n",
    "--help 　在线帮助。 \n",
    "\n",
    "--version 　显示版本信息。\n",
    "\n",
    "举　　例：\n"
   ]
  },
  {
   "cell_type": "code",
   "execution_count": 11,
   "metadata": {
    "collapsed": false
   },
   "outputs": [
    {
     "name": "stdout",
     "output_type": "stream",
     "text": []
    }
   ],
   "source": [
    "rm exp.txt"
   ]
  },
  {
   "cell_type": "code",
   "execution_count": 12,
   "metadata": {
    "collapsed": false
   },
   "outputs": [
    {
     "name": "stdout",
     "output_type": "stream",
     "text": [
      "total 157108\r\n",
      "-rw-r--r-- 1 1000 1000 160872342 Oct 14  2014 jdk-8u20-linux-x64.tar.gz\r\n",
      "-rw-rw-r-- 1 1000 1000         0 Oct 15 13:39 test.txt\r\n"
     ]
    }
   ],
   "source": [
    "ls -l"
   ]
  },
  {
   "cell_type": "markdown",
   "metadata": {},
   "source": [
    "### (8) mv\n",
    "\n",
    "功能说明：移动或更名现有的文件或目录。\n",
    "\n",
    "语　　法：mv [-bfiv][--help][--version] [源文件或目录][目标文件或目录]\n",
    "\n",
    "补充说明：mv可移动文件或目录，或是更改文件或目录的名称。\n",
    "\n",
    "参　　数：\n",
    "\n",
    "-b或--backup 　若需覆盖文件，则覆盖前先行备份。 \n",
    "\n",
    "-f或--force 　若目标文件或目录与现有的文件或目录重复，则直接覆盖现有的文件或目录。 \n",
    "\n",
    "-i或--interactive 　覆盖前先行询问用户。\n",
    "\n",
    "-v或--verbose 　执行时显示详细的信息。\n",
    "\n",
    "--help 　显示帮助。 \n",
    "\n",
    "--version 　显示版本信息。\n",
    "\n",
    "举　　例："
   ]
  },
  {
   "cell_type": "code",
   "execution_count": 13,
   "metadata": {
    "collapsed": false
   },
   "outputs": [
    {
     "name": "stdout",
     "output_type": "stream",
     "text": []
    }
   ],
   "source": [
    "cp test.txt exp"
   ]
  },
  {
   "cell_type": "code",
   "execution_count": 14,
   "metadata": {
    "collapsed": false
   },
   "outputs": [
    {
     "name": "stdout",
     "output_type": "stream",
     "text": [
      "total 157108\r\n",
      "-rw-r--r-- 1 root root         0 Oct 18 14:24 exp\r\n",
      "-rw-r--r-- 1 1000 1000 160872342 Oct 14  2014 jdk-8u20-linux-x64.tar.gz\r\n",
      "-rw-rw-r-- 1 1000 1000         0 Oct 15 13:39 test.txt\r\n"
     ]
    }
   ],
   "source": [
    "ls -l"
   ]
  },
  {
   "cell_type": "code",
   "execution_count": 15,
   "metadata": {
    "collapsed": false
   },
   "outputs": [
    {
     "name": "stdout",
     "output_type": "stream",
     "text": []
    }
   ],
   "source": [
    "mv exp exp.txt"
   ]
  },
  {
   "cell_type": "code",
   "execution_count": 16,
   "metadata": {
    "collapsed": false,
    "scrolled": true
   },
   "outputs": [
    {
     "name": "stdout",
     "output_type": "stream",
     "text": [
      "total 157108\r\n",
      "-rw-r--r-- 1 root root         0 Oct 18 14:24 exp.txt\r\n",
      "-rw-r--r-- 1 1000 1000 160872342 Oct 14  2014 jdk-8u20-linux-x64.tar.gz\r\n",
      "-rw-rw-r-- 1 1000 1000         0 Oct 15 13:39 test.txt\r\n"
     ]
    }
   ],
   "source": [
    "ls -l"
   ]
  },
  {
   "cell_type": "markdown",
   "metadata": {},
   "source": [
    "## 7.2、常用的进程管理命令包括：\n",
    "\n",
    "### (1) ps\n",
    "\n",
    "功能说明：报告程序状况。\n",
    "\n",
    "语　　法：ps [-aAcdefHjlmNVwy][acefghLnrsSTuvxX][-C <指令名称>][-g <群组名称>][-G <群组识别码>][-p <程序识别码>][p <程序识别码>][-s <阶段作业>][-t <终端机编号>][t <终端机编号>][-u <用户识别码>][-U <用户识别码>][U <用户名称>][-<程序识别码>][--cols <每列字符数>][--columns <每列字符数>][--cumulative][--deselect][--forest][--headers][--help][--info][--lines <显示列数>][--no-headers][--group <群组名称>][-Group <群组识别码>][--pid <程序识别码>][--rows <显示列数>][--sid <阶段作业>][--tty <终端机编号>][--user <用户名称>][--User <用户识别码>][--version][--width <每列字符数>]\n",
    "\n",
    "补充说明：ps是用来报告程序执行状况的指令，您可以搭配kill指令随时中断，删除不必要的程序的运行。\n",
    "\n",
    "参数：\n",
    "\n",
    "-a 　显示当前终端下的所有程序，包括其他用户的程序。 \n",
    "\n",
    "a 　显示当前终端下的所有程序，包括其他用户的程序。\n",
    "\n",
    "-A 　显示所有程序。 \n",
    "\n",
    "-u<用户识别码> 　此参数的效果和指定\"-U\"参数相同。 \n",
    "\n",
    "u 　以用户为主的格式来显示程序状况。 \n",
    "\n",
    "-U<用户识别码> 　列出属于该用户的程序的状况，也可使用用户名称来指定。 \n",
    "\n",
    "U<用户名称> 　列出属于该用户的程序的状况。 \n",
    "\n",
    "x 　显示所有程序，不以终端机来区分。 \n",
    "\n",
    "举　　例："
   ]
  },
  {
   "cell_type": "code",
   "execution_count": 17,
   "metadata": {
    "collapsed": false
   },
   "outputs": [
    {
     "name": "stdout",
     "output_type": "stream",
     "text": [
      "  PID TTY      STAT   TIME COMMAND\r\n",
      "    1 ?        Ss     0:00 /bin/bash -c cd /notebooks;ipython notebook --no-math\r\n",
      "    6 ?        Sl     0:02 /usr/bin/python /usr/local/bin/ipython notebook --no-\r\n",
      "  941 ?        Sl     0:00 /usr/bin/python -m bash_kernel -f /root/.local/share/\r\n",
      "  950 pts/0    Ss     0:00 /bin/bash\r\n",
      "  977 pts/0    R+     0:00 ps x\r\n"
     ]
    }
   ],
   "source": [
    "ps x"
   ]
  },
  {
   "cell_type": "markdown",
   "metadata": {},
   "source": [
    "### (2)kill\n",
    "\n",
    "功能说明：停止执行中的程序或进程。\n",
    "\n",
    "语　　法：kill [-s <消息名称或编号>][程序]　或　kill [-l <消息编号>]\n",
    "\n",
    "补充说明：kill可将指定的消息送至程序。预设的消息为SIGTERM(15)，可将指定程序终止。若仍无法终止该程序，可使用SIGKILL(9)信息尝试强制停止程序。程序或工作的编号可利用ps指令或jobs指令查看。 \n",
    "\n",
    "参数：\n",
    "\n",
    "-l <消息编号> 　若不加<消息编号>选项，则-l参数会列出全部的消息名称。 \n",
    "\n",
    "-s <消息名称或编号> 　指定要送出的消息。 \n",
    "\n",
    "[程序] 　[程序]可以是程序的PID或是PGID，也可以是进程编号。\n",
    "\n",
    "使用进程管理命令退出Shell的方法：首先需要知道，Shell在Linux中也是一个程序，程序名字为“bash”，先使用ps命令找到bash的PID，然后使用kill命令将该PID的进程停止就退出了Shell。或者也可以使用killall命令，该命令以进程名字作为参数，详情请参考man帮助文档。\n",
    "\n",
    "举　　例："
   ]
  },
  {
   "cell_type": "code",
   "execution_count": 18,
   "metadata": {
    "collapsed": false
   },
   "outputs": [
    {
     "name": "stdout",
     "output_type": "stream",
     "text": [
      " 1) SIGHUP\t 2) SIGINT\t 3) SIGQUIT\t 4) SIGILL\t 5) SIGTRAP\r\n",
      " 6) SIGABRT\t 7) SIGBUS\t 8) SIGFPE\t 9) SIGKILL\t10) SIGUSR1\r\n",
      "11) SIGSEGV\t12) SIGUSR2\t13) SIGPIPE\t14) SIGALRM\t15) SIGTERM\r\n",
      "16) SIGSTKFLT\t17) SIGCHLD\t18) SIGCONT\t19) SIGSTOP\t20) SIGTSTP\r\n",
      "21) SIGTTIN\t22) SIGTTOU\t23) SIGURG\t24) SIGXCPU\t25) SIGXFSZ\r\n",
      "26) SIGVTALRM\t27) SIGPROF\t28) SIGWINCH\t29) SIGIO\t30) SIGPWR\r\n",
      "31) SIGSYS\t34) SIGRTMIN\t35) SIGRTMIN+1\t36) SIGRTMIN+2\t37) SIGRTMIN+3\r\n",
      "38) SIGRTMIN+4\t39) SIGRTMIN+5\t40) SIGRTMIN+6\t41) SIGRTMIN+7\t42) SIGRTMIN+8\r\n",
      "43) SIGRTMIN+9\t44) SIGRTMIN+10\t45) SIGRTMIN+11\t46) SIGRTMIN+12\t47) SIGRTMIN+13\r\n",
      "48) SIGRTMIN+14\t49) SIGRTMIN+15\t50) SIGRTMAX-14\t51) SIGRTMAX-13\t52) SIGRTMAX-12\r\n",
      "53) SIGRTMAX-11\t54) SIGRTMAX-10\t55) SIGRTMAX-9\t56) SIGRTMAX-8\t57) SIGRTMAX-7\r\n",
      "58) SIGRTMAX-6\t59) SIGRTMAX-5\t60) SIGRTMAX-4\t61) SIGRTMAX-3\t62) SIGRTMAX-2\r\n",
      "63) SIGRTMAX-1\t64) SIGRTMAX\t\r\n"
     ]
    }
   ],
   "source": [
    "kill -l"
   ]
  },
  {
   "cell_type": "code",
   "execution_count": 19,
   "metadata": {
    "collapsed": false
   },
   "outputs": [
    {
     "name": "stdout",
     "output_type": "stream",
     "text": [
      "[1] 978\r\n"
     ]
    }
   ],
   "source": [
    "vim &"
   ]
  },
  {
   "cell_type": "code",
   "execution_count": 20,
   "metadata": {
    "collapsed": false
   },
   "outputs": [
    {
     "name": "stdout",
     "output_type": "stream",
     "text": [
      "  PID TTY          TIME CMD\r\n",
      "  978 pts/0    00:00:00 vim\r\n",
      "  979 pts/0    00:00:00 ps\r\n"
     ]
    }
   ],
   "source": [
    "ps -a"
   ]
  },
  {
   "cell_type": "code",
   "execution_count": 21,
   "metadata": {
    "collapsed": false
   },
   "outputs": [
    {
     "name": "stdout",
     "output_type": "stream",
     "text": []
    }
   ],
   "source": [
    "kill -s 9 978"
   ]
  },
  {
   "cell_type": "code",
   "execution_count": 22,
   "metadata": {
    "collapsed": false
   },
   "outputs": [
    {
     "name": "stdout",
     "output_type": "stream",
     "text": [
      "  PID TTY          TIME CMD\r\n",
      "  980 pts/0    00:00:00 ps\r\n"
     ]
    }
   ],
   "source": [
    "ps -a"
   ]
  },
  {
   "cell_type": "markdown",
   "metadata": {},
   "source": [
    "### (3) 组合键操作\n",
    "\n",
    "在命令行中执行一个程序的运行过程中，可以输入组合键，来控制运行中的进程，如：\n",
    "\n",
    "* ctrl+c\n",
    "\n",
    "操作方法：按下ctrl键，不要松掉该键，再按下c键，最后一起松开两个键。\n",
    "\n",
    "该组合键用于停止进程的执行，一般在进程失去响应时中断进程的执行。\n",
    "\n",
    "* ctrl+z\n",
    "\n",
    "用于将进程挂起，运行中的进程将暂时停止执行，之后可以通过bg命令将进程放入后台运行，或者使用fg命令将后台进程放到前台运行。"
   ]
  },
  {
   "cell_type": "markdown",
   "metadata": {},
   "source": [
    "## 7.3、常用的文本编辑命令包括：\n",
    "\n",
    "vi和Emacs是Linux最常用的编辑器，它们的使用请参考附录A和附录B，以及参考文献[3][4][5]。\n",
    "\n",
    "最好的学习编辑器的方法是边编辑、边学习。Emacs程序自带了一个这样的教程，访问方法是：启动Emacs后，键入Ctrl-h t（按住Ctrl键，输入h键然后t键）；vim是vi的改进版，它也自带了一个教程（需要安装vim包），使用方法是输入命令vimtutor，如果需要得到中文的教程，请使用vimtutor zh命令。\n",
    "\n",
    "举　　例：\n",
    "\n",
    "访问[这里](/terminals/1)打开一个命令行窗口，进行编辑器的学习。"
   ]
  },
  {
   "cell_type": "markdown",
   "metadata": {},
   "source": [
    "## 8 实验任务\n",
    "\n",
    "1、访问[这里](/terminals/1)打开一个命令行窗口，完成如下任务：\n",
    "\n",
    "* 在“/notebooks”目录下建立目录“学号”（比如：“/notebooks/20060610”）；\n",
    "\n",
    "* 在上述目录中，以“学号.txt”为文件名生成一个文本文件（比如20060610.txt），并录入图1-1中的文字内容（比如：“/notebooks/20060610/20060610.txt”）。\n",
    "\n",
    "![需要录入的短文](images/exp1-1.png)\n",
    "<center>图1-1 需录入的短文</center>\n",
    "\n",
    "2、展示如下命令的执行结果，并对结果进行适当说明（注明：1)、2）是举例）"
   ]
  },
  {
   "cell_type": "markdown",
   "metadata": {},
   "source": [
    "举例：1) cat /notebooks/workspace/souces.list"
   ]
  },
  {
   "cell_type": "code",
   "execution_count": 1,
   "metadata": {
    "collapsed": false
   },
   "outputs": [
    {
     "name": "stdout",
     "output_type": "stream",
     "text": [
      "cat: /notebooks/workspace/souces.list: No such file or directory\r\n"
     ]
    }
   ],
   "source": [
    "cat /notebooks/workspace/souces.list"
   ]
  },
  {
   "cell_type": "markdown",
   "metadata": {},
   "source": [
    "运行结果表示souces.list不存在，可以修改一下文件路径，再试试。"
   ]
  },
  {
   "cell_type": "code",
   "execution_count": 2,
   "metadata": {
    "collapsed": false
   },
   "outputs": [
    {
     "name": "stdout",
     "output_type": "stream",
     "text": [
      "# deb cdrom:[Ubuntu 13.04 _Raring Ringtail_ - Release amd64 (20130424)]/ raring main restricted\r\n",
      "\r\n",
      "# See http://help.ubuntu.com/community/UpgradeNotes for how to upgrade to\r\n",
      "# newer versions of the distribution.\r\n",
      "deb http://mirrors.ustc.edu.cn/ubuntu/ trusty main restricted\r\n",
      "\r\n",
      "## Major bug fix updates produced after the final release of the\r\n",
      "## distribution.\r\n",
      "deb http://mirrors.ustc.edu.cn/ubuntu/ trusty-updates main restricted\r\n",
      "\r\n",
      "## N.B. software from this repository is ENTIRELY UNSUPPORTED by the Ubuntu\r\n",
      "## team. Also, please note that software in universe WILL NOT receive any\r\n",
      "## review or updates from the Ubuntu security team.\r\n",
      "deb http://mirrors.ustc.edu.cn/ubuntu/ trusty universe\r\n",
      "deb http://mirrors.ustc.edu.cn/ubuntu/ trusty-updates universe\r\n",
      "\r\n",
      "## N.B. software from this repository is ENTIRELY UNSUPPORTED by the Ubuntu \r\n",
      "## team, and may not be under a free licence. Please satisfy yourself as to \r\n",
      "## your rights to use the software. Also, please note that software in \r\n",
      "## multiverse WILL NOT receive any review or updates from the Ubuntu\r\n",
      "## security team.\r\n",
      "deb http://mirrors.ustc.edu.cn/ubuntu/ trusty multiverse\r\n",
      "deb http://mirrors.ustc.edu.cn/ubuntu/ trusty-updates multiverse\r\n",
      "\r\n",
      "## N.B. software from this repository may not have been tested as\r\n",
      "## extensively as that contained in the main release, although it includes\r\n",
      "## newer versions of some applications which may provide useful features.\r\n",
      "## Also, please note that software in backports WILL NOT receive any review\r\n",
      "## or updates from the Ubuntu security team.\r\n",
      "deb http://mirrors.ustc.edu.cn/ubuntu/ trusty-backports main restricted universe multiverse\r\n",
      "\r\n",
      "deb http://mirrors.ustc.edu.cn/ubuntu/ trusty-security main restricted\r\n",
      "deb http://mirrors.ustc.edu.cn/ubuntu/ trusty-security universe\r\n",
      "deb http://mirrors.ustc.edu.cn/ubuntu/ trusty-security multiverse\r\n",
      "\r\n",
      "## Uncomment the following two lines to add software from Canonical's\r\n",
      "## 'partner' repository.\r\n",
      "## This software is not part of Ubuntu, but is offered by Canonical and the\r\n",
      "## respective vendors as a service to Ubuntu users.\r\n",
      "# deb http://archive.canonical.com/ubuntu raring partner\r\n",
      "# deb-src http://archive.canonical.com/ubuntu raring partner\r\n",
      "\r\n",
      "## This software is not part of Ubuntu, but is offered by third-party\r\n",
      "## developers who want to ship their latest software.\r\n",
      "deb http://extras.ubuntu.com/ubuntu trusty main\r\n",
      "deb-src http://extras.ubuntu.com/ubuntu trusty main\r\n",
      "\r\n",
      "deb http://mirrors.ustc.edu.cn/ubuntu/ trusty-proposed main universe multiverse restricted\r\n"
     ]
    }
   ],
   "source": [
    "cat /notebooks/workspace/sources.list"
   ]
  },
  {
   "cell_type": "markdown",
   "metadata": {},
   "source": [
    "修改文件路径之后，执行成果，该命令展示了sources.list文件的内容。"
   ]
  },
  {
   "cell_type": "markdown",
   "metadata": {},
   "source": [
    "举例：2) more /notebooks/workspace/sources.list"
   ]
  },
  {
   "cell_type": "raw",
   "metadata": {},
   "source": [
    "# deb cdrom:[Ubuntu 13.04 _Raring Ringtail_ - Release amd64 (20130424)]/ raring main restrict\n",
    "ed                                                                                           \n",
    "                                                                                             \n",
    "# See http://help.ubuntu.com/community/UpgradeNotes for how to upgrade to                    \n",
    "# newer versions of the distribution.                                                        \n",
    "deb http://mirrors.ustc.edu.cn/ubuntu/ trusty main restricted                                \n",
    "                                                                                             \n",
    "## Major bug fix updates produced after the final release of the                             \n",
    "## distribution.                                                                             \n",
    "deb http://mirrors.ustc.edu.cn/ubuntu/ trusty-updates main restricted                        \n",
    "                                                                                             \n",
    "## N.B. software from this repository is ENTIRELY UNSUPPORTED by the Ubuntu                  \n",
    "## team. Also, please note that software in universe WILL NOT receive any                    \n",
    "## review or updates from the Ubuntu security team.                                          \n",
    "deb http://mirrors.ustc.edu.cn/ubuntu/ trusty universe                                       \n",
    "deb http://mirrors.ustc.edu.cn/ubuntu/ trusty-updates universe                               \n",
    "                                                                                             \n",
    "## N.B. software from this repository is ENTIRELY UNSUPPORTED by the Ubuntu                  \n",
    "## team, and may not be under a free licence. Please satisfy yourself as to                  \n",
    "## your rights to use the software. Also, please note that software in                       \n",
    "## multiverse WILL NOT receive any review or updates from the Ubuntu                         \n",
    "## security team.                                                                            \n",
    "deb http://mirrors.ustc.edu.cn/ubuntu/ trusty multiverse                                     \n",
    "deb http://mirrors.ustc.edu.cn/ubuntu/ trusty-updates multiverse                             \n",
    "                                                                                             \n",
    "## N.B. software from this repository may not have been tested as                            \n",
    "## extensively as that contained in the main release, although it includes                   \n",
    "## newer versions of some applications which may provide useful features.                    \n",
    "## Also, please note that software in backports WILL NOT receive any review                  \n",
    "## or updates from the Ubuntu security team.                                                 \n",
    "deb http://mirrors.ustc.edu.cn/ubuntu/ trusty-backports main restricted universe multiverse  \n",
    "                                                                                             \n",
    "deb http://mirrors.ustc.edu.cn/ubuntu/ trusty-security main restricted                       \n",
    "deb http://mirrors.ustc.edu.cn/ubuntu/ trusty-security universe                              \n",
    "deb http://mirrors.ustc.edu.cn/ubuntu/ trusty-security multiverse                            \n",
    "                                                                                             \n",
    "## Uncomment the following two lines to add software from Canonical's                        \n",
    "## 'partner' repository.                                                                     \n",
    "--More--(77%"
   ]
  },
  {
   "cell_type": "markdown",
   "metadata": {},
   "source": [
    "以上命令分页显示了sources.list文件的内容，需要键盘输入空格翻页，q键退出。（**注意：需要键盘输入的命令不能在指导书的实验环境中使用，需要打开一个命令行窗口执行。否则，需要使用指导书环境的“Kernel->Interrupt\"操作。**）"
   ]
  },
  {
   "cell_type": "markdown",
   "metadata": {},
   "source": [
    "3) cat /notebooks/workspace/sources.list | less\n",
    "\n",
    "**注意：less命令的执行过程需要键盘输入，需要打开一个命令窗口执行该命令。**"
   ]
  },
  {
   "cell_type": "markdown",
   "metadata": {},
   "source": [
    "4) cat /notebooks/workspace/sources.list | grep \"deb-src\""
   ]
  },
  {
   "cell_type": "markdown",
   "metadata": {},
   "source": [
    "5) ln /notebooks/workspace/sources.list tmp.list"
   ]
  },
  {
   "cell_type": "markdown",
   "metadata": {},
   "source": [
    "6) echo \"add new line\" >> tmp.list"
   ]
  },
  {
   "cell_type": "markdown",
   "metadata": {},
   "source": [
    "7) diff tmp.list /notebooks/workspace/sources.list"
   ]
  },
  {
   "cell_type": "markdown",
   "metadata": {},
   "source": [
    "8) touch /notebooks/workspace/qq.txt"
   ]
  },
  {
   "cell_type": "markdown",
   "metadata": {},
   "source": [
    "9) tar -cvzf list.tar.gz \\*.list"
   ]
  },
  {
   "cell_type": "markdown",
   "metadata": {},
   "source": [
    "10) whereis netcat"
   ]
  },
  {
   "cell_type": "markdown",
   "metadata": {},
   "source": [
    "# 9 实验思考\n",
    "\n",
    "1、怎样使用Linux提供的帮助系统来学习Linux 命令的使用？（以find命令的使用为例子）"
   ]
  }
 ],
 "metadata": {
  "kernelspec": {
   "display_name": "Bash",
   "language": "bash",
   "name": "bash"
  },
  "language_info": {
   "codemirror_mode": "shell",
   "file_extension": ".sh",
   "mimetype": "text/x-sh",
   "name": "bash"
  }
 },
 "nbformat": 4,
 "nbformat_minor": 0
}
