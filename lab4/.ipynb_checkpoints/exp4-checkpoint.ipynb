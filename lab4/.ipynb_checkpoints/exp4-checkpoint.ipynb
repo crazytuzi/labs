{
 "cells": [
  {
   "cell_type": "markdown",
   "metadata": {},
   "source": [
    "实验四 Linux环境的项目管理实现\n",
    "======="
   ]
  },
  {
   "cell_type": "markdown",
   "metadata": {},
   "source": [
    "# 1. 实验类型\n",
    "\n",
    "综合型，4学时，必做实验\n",
    "\n",
    "\n",
    "# 2.  实验目的\n",
    "\n",
    "熟练使用源代码版本管理网站以及版本控制工具；掌握开放源代码项目的基本开发过程。\n",
    "\n",
    "# 3. 题目描述\n",
    "\n",
    "使用源代码项目管理网站，熟悉项目开发管理的基本流程和方法。\n",
    "\n",
    "# 4. 实验要求\n",
    "\n",
    "*基本层次：能熟练使用GitLab源代码项目管理网站创建远程代码库，实现源代码版本管理；\n",
    "\n",
    "*提高层次：解决并行开发中的版本合并、冲突解决等问题。"
   ]
  },
  {
   "cell_type": "markdown",
   "metadata": {},
   "source": [
    "# 5. 相关知识\n",
    "\n",
    "一个常见的软件开发流程如图4-1所示：\n",
    "\n",
    "![软件开发流程](images/4-1.png)\n",
    "<center>图4-1 软件开发流程</center>\n",
    "<center>(图片来自：http://www.uml.org.cn/SoftWareProcess/2004092101.htm)</center>"
   ]
  },
  {
   "cell_type": "markdown",
   "metadata": {},
   "source": [
    "对于开发过程的管理主要涉及成员管理、文档管理、变更管理、问题管理、代码审查、任务管理等功能。\n",
    "\n",
    "GitLab是GitLab公司开发的一个以git为版本管理方法的开源项目管理应用，以Ruby为主要开发语言，包含商业和社区版两个版本（[主页](https://gitlab.com/)）。\n",
    "\n",
    "GitLab的主要功能包括（[官网介绍](https://about.gitlab.com/features/)）：\n",
    "\n",
    "* Activity Stream\n",
    "\n",
    "活动流功能，记录所有提交操作，用来实现变更管理。\n",
    "\n",
    "* File Browser\n",
    "\n",
    "文件浏览功能，浏览提交的文件。\n",
    "\n",
    "* Git Powered WIKI\n",
    "\n",
    "WIKI文档功能，用来发布项目的介绍等文档，实现文档管理。\n",
    "\n",
    "* Code Review\n",
    "\n",
    "代码审查功能，用来实现协作开发。\n",
    "\n",
    "* Issue Management\n",
    "\n",
    "问题管理，用来记录BUG、分配开发人员、BUG讨论等，实现协作开发。\n",
    "\n",
    "* Code Snippets\n",
    "\n",
    "代码片段，用来共享项目相关的一些代码段。\n",
    "\n",
    "* WEB hooks\n",
    "\n",
    "WEB钩子，用来和其他应用系统进行集成。"
   ]
  },
  {
   "cell_type": "markdown",
   "metadata": {},
   "source": [
    "\n",
    "\n",
    "本次实验将以GitLab为开发管理工具，通过课程实验包开发项目为例子，掌握基本的项目管理方法。"
   ]
  },
  {
   "cell_type": "markdown",
   "metadata": {},
   "source": [
    "** 注意：GitLab官网上维护了GitLab系统的源代码开发项目（[点击访问](https://gitlab.com/gitlab-org/gitlab-ce)），是一个非常好的学习GitLab进行项目开发管理的例子。**"
   ]
  },
  {
   "cell_type": "markdown",
   "metadata": {},
   "source": [
    "# 6. 实验设备\n",
    "\n",
    "实验者需要使用各自PC机上Windows操作系统的putty程序通过网络连接到Linux服务器（实验室内网为：10.11.5.38，外网为：vlab.cs.swust.edu.cn），启动交互式实验指导书（浏览器方式，访问地址在启动程序中显示），并使用浏览器打开实验室内部的GitLab服务（[实验室内网访问](http://10.11.5.38:8081/)，[寝室外网访问](http://vlab.cs.swust.edu.cn:8081/)），学习和验证基本的实验操作，并完成实验指导书中的“实验任务”部分。"
   ]
  },
  {
   "cell_type": "markdown",
   "metadata": {},
   "source": [
    "# 7. 实验指导"
   ]
  },
  {
   "cell_type": "markdown",
   "metadata": {},
   "source": [
    "本课程的课程材料由10个实验文件包以及8次理论课程文件包组成。教学课程组（包括两位老师）使用GitLab进行了开发过程的管理：创建linux2016组，在其下创建了12个项目（将10个实验作为10个项目，全部理论课程作为1个项目，环境配置作为1个项目），请[访问GitLab服务器](http://vlab.cs.swust.edu.cn:8081/linux2016)查看，后面的描述中，称这个开发组为公共课程组，其下的项目为公共课程项目。\n",
    "\n",
    "本次实验将以一个示例的开发团队example（包括libo, 5120140000两个用户）使用GitLab和git工具创建开发团队、开发小组、开发项目为例子，学习如何实现如下的项目管理功能：\n",
    "\n",
    "* 开发团队管理\n",
    "\n",
    "* 项目版本管理\n",
    "\n",
    "* 编写项目介绍材料\n",
    "\n",
    "* 开发任务的设置和管理\n",
    "\n",
    "* 开发过程的交流\n",
    "\n",
    "* BUG记录\n",
    "\n",
    "* 代码审核\n",
    "\n",
    "为了简化描述，下面的示例中，仅针对本次实验包项目（lab4）的开发为例子。"
   ]
  },
  {
   "cell_type": "markdown",
   "metadata": {},
   "source": [
    "### 7.1 开发团队管理\n",
    "\n",
    "开发团队管理的任务包括：\n",
    "\n",
    "* 开发人员注册\n",
    "\n",
    "* 创建开发组\n",
    "\n",
    "* 设置组权限\n",
    "\n",
    "#### 7.1.1 开发人员注册\n",
    "\n",
    "参与课程材料开发的人员共2人，分别为libo和5120140000，两位开发人员都需要在GitLab上进行注册。具体方法是：\n",
    "\n",
    "访问GitLab服务（[实验室内访问](http://10.11.5.38:8081/)，[寝室内访问](http://vlab.cs.swust.edu.cn:8081/)），如图4-2：\n",
    "\n",
    "![开发人员注册](images/4-2.png)\n",
    "<center>图4-2 注册页面</center>\n",
    "\n",
    "创建两个帐号：libo和51210140000。\n",
    "\n",
    "** 注意：注册界面中包括Name和Username，分别是用户姓名以及帐号名。登录时填入的是Username，不要跟Name搞混了。**"
   ]
  },
  {
   "cell_type": "markdown",
   "metadata": {},
   "source": [
    "#### 7.1.2 创建开发组\n",
    "\n",
    "以5120140000帐号登录GitLab，创建开发组，如图4-3，4-4，4-5。\n",
    "\n",
    "![访问功能菜单](images/4-3.png)\n",
    "<center>图4-3 访问功能菜单</center>\n",
    "\n",
    "![访问创建组功能](images/4-4.png)\n",
    "<center>图4-4 访问创建组功能</center>\n",
    "\n",
    "![创建组](images/4-5.png)\n",
    "<center>图4-5 创建组操作界面</center>\n",
    "\n",
    "注意设置组的可见级别（Visibility Level）。"
   ]
  },
  {
   "cell_type": "markdown",
   "metadata": {},
   "source": [
    "#### 7.1.4 设置组权限\n",
    "\n",
    "开发组显示页面中，找到Member功能：\n",
    "\n",
    "![访问设置组成员](images/4-6.png)\n",
    "<center>图4-6 访问设置组成员</center>\n",
    "\n",
    "在组设置界面中选择members，设置组成员和访问权限：\n",
    "\n",
    "![访问组权限设置](images/4-7.png)\n",
    "<center>图4-7 访问组权限设置</center>\n",
    "\n",
    "设置组成员为libo，权限为Master（注意访问“Read More”链接，有关于权限的介绍）：\n",
    "\n",
    "![设置组成员和权限](images/4-8.png)\n",
    "<center>图4-8 设置组成员和组权限</center>\n",
    "\n",
    "还需要设置该组下的项目lab4对组成员的权限，设置为master，没有指定组成员失效时间（Expiration date）。"
   ]
  },
  {
   "cell_type": "markdown",
   "metadata": {},
   "source": [
    "### 7.2 项目版本管理\n",
    "\n",
    "主要的管理任务包括：\n",
    "\n",
    "* 在开发组中创建实验包项目\n",
    "\n",
    "* 创建本地工作目录\n",
    "\n",
    "* 提交修改\n",
    "\n",
    "#### 7.2.1 在开发组中创建实验包项目\n",
    "\n",
    "我们采用从已有的公共项目生成开发组项目的方法，步骤如下：\n",
    "\n",
    "访问浏览项目功能，如下图：\n",
    "\n",
    "![访问浏览项目功能1](images/4-9.png)\n",
    "<center>图4-9 访问浏览项目功能1</center>\n",
    "\n",
    "\n",
    "在接下来的页面中选择\"Browse Projects“功能，如下图：\n",
    "\n",
    "![访问浏览项目功能2](images/4-10.png)\n",
    "<center>图4-10 访问浏览项目功能2</center>\n",
    "\n",
    "浏览所有项目，找到公共组linux2016中的lab4公共实验项目lab4，名称为linux2016/lab4。\n",
    "\n",
    "![项目列表](images/4-11.png)\n",
    "<center>图4-11 项目列表</center>\n",
    "\n",
    "点击linux2016/lab4项目，进入项目展示页面，如下图：\n",
    "\n",
    "![公共项目linux2016/lab4页面](images/4-12.png)\n",
    "<center>图4-12 公共项目linux2016/lab4页面</center>\n",
    "\n",
    "注意该页面中有一个名称为“Fork”的按钮，点击该按钮，可以创建一个与linux2016/lab4完全一样的项目，如下图，其中提示选择创建到哪个组下。可选的是用户自己“测试帐号”和开发小组的组example：\n",
    "\n",
    "![选择组](images/4-13.png)\n",
    "<center>图4-13 选择组</center>\n",
    "\n",
    "选择example那个组，经过创建后，进入到新创建的项目中，名称为example/lab4，如下图：\n",
    "\n",
    "![开发组的项目example/lab4](images/4-14.png)\n",
    "<center>图4-14 开发组的项目example/lab4</center>\n",
    "\n",
    "注意，新生成的项目与公共项目的区别是名称（example/lab4）和项目代码库地址(`http://vlab.cs.swust.edu.cn:8081/example/lab4.git`)，如上图中的红框标识。接下来，可以对该项目设置成员和权限，访问Members功能进行设置，如下图：\n",
    "\n",
    "![访问项目成员设置功能](images/4-15.png)\n",
    "<center>图4-15 访问项目成员设置功能</center>\n",
    "\n",
    "将组成员libo添加到项目成员中，权限为Master，如下图：\n",
    "\n",
    "![设置项目成员](images/4-16.png)\n",
    "<center>图4-16 设置项目成员</center>\n",
    "\n",
    "因为5120140000是创建者（Owner），可不添加该用户为项目成员。"
   ]
  },
  {
   "cell_type": "markdown",
   "metadata": {},
   "source": [
    "#### 7.2.2 创建本地工作目录\n",
    "\n",
    "由上面的操作可知：example/lab4项目代码库地址为：http://10.11.5.38:8081/example/lab4.git (外网地址为：http://vlab.cs.swust.edu.cn:8081/example/lab4.git） ，接下来，需要从该代码库生成本地工作目录。\n",
    "\n",
    "使用putty软件登录服务器（使用第一次实验课创建的帐号和密码），在命令行下，使用如下命令建立本地工作目录：\n",
    "\n",
    "`\n",
    "git clone http://10.11.5.38:8081/example/lab4.git\n",
    "`\n",
    "\n",
    "如果得到如下执行结果，表示创建成功：\n",
    "\n",
    "`\n",
    "Cloning into 'lab4'...\n",
    "remote: Counting objects: 73, done.\n",
    "remote: Compressing objects: 100% (14/14), done.\n",
    "remote: Total 73 (delta 5), reused 0 (delta 0)\n",
    "Unpacking objects: 100% (73/73), done.\n",
    "Checking connectivity... done.\n",
    "`\n",
    "\n",
    "分析一下命令行，课程前面的几次实验中，获取实验包用的是相同的命令，区别在于代码库地址不同，以前的实验使用的地址是http://10.11.5.38:8081/libo/linux2016.git ，即公共课程项目的地址，由于没有设置学生对这个项目的写权限，所以不可写。"
   ]
  },
  {
   "cell_type": "markdown",
   "metadata": {},
   "source": [
    "#### 7.2.3 提交修改\n",
    "\n",
    "这一步，我们需要修改上一步中创建的工作目录中的内容，并提交修改到代码库中。\n",
    "\n",
    "首先，在putty的远程终端界面中，进入上一步操作创建的工作目录，使用命令：\n",
    "\n",
    "`\n",
    "cd lab4\n",
    "`\n",
    "\n",
    "浏览一下目录中的内容：\n",
    "\n",
    "`\n",
    "ls -l\n",
    "`\n",
    "\n",
    "`\n",
    "total 804\n",
    "-rw-r--r-- 1 5120140000 students    291 10月 27 11:28 config\n",
    "-rw-r--r-- 1 5120140000 students  20490 10月 27 11:28 exp4.ipynb\n",
    "-rw-r--r-- 1 5120140000 students 763392 10月 27 11:28 Exp4.ppt\n",
    "-rw-r--r-- 1 5120140000 students   3951 10月 27 11:28 function\n",
    "drwxr-xr-x 2 5120140000 students   4096 10月 27 11:28 images\n",
    "-rw-r--r-- 1 5120140000 students    576 10月 27 11:28 README.md\n",
    "-rw-r--r-- 1 5120140000 students   1946 10月 27 11:28 report-template.ipynb\n",
    "-rwxr-xr-x 1 5120140000 students    486 10月 27 11:28 start.bash\n",
    "drwxr-xr-x 2 5120140000 students   4096 10月 27 11:28 workspace\n",
    "`\n",
    "\n",
    "可见，工作目录类似以前实验中的得到的实验包的结构，该目录也就是本次实验的实验包，因此，修改实验包的内容，需要启动实验环境，执行start.bash脚本：\n",
    "\n",
    "`\n",
    "./start.bash\n",
    "`\n",
    "\n",
    "同以前的实验一样，接下来的操作包括：选择启动环境，获取环境地址，在浏览器中打开地址，选择要浏览或者修改的文档，保存。假设修改了实验报告文件report-template.ipynb，如下图：\n",
    "\n",
    "![修改实验报告文件](images/4-17.png)\n",
    "<center>图4-17 修改实验报告文件</center>"
   ]
  },
  {
   "cell_type": "markdown",
   "metadata": {},
   "source": [
    "完成保存后，可以通过两个途径提交修改到远程代码库example/lab4：\n",
    "\n",
    "* 使用实验系统环境的命令窗口\n",
    "\n",
    "* 使用putty远程终端中的命令窗口\n",
    "\n",
    "这两种方式的操作命令是一样的，只有一个差异：实验系统环境中，目录/notebooks/就是实验项目的工作目录，该目录对应于远程终端环境中的/home/<用户名>/lab4。\n",
    "\n",
    "下面，我们以实验系统环境中的操作为例子。查看一下文件："
   ]
  },
  {
   "cell_type": "code",
   "execution_count": 1,
   "metadata": {
    "collapsed": false
   },
   "outputs": [
    {
     "name": "stdout",
     "output_type": "stream",
     "text": [
      "total 820\r\n",
      "drwxrwxr-x  6 jovyan  1002   4096 Oct 27 03:32 .\r\n",
      "drwxr-xr-x 77 root   root    4096 Oct 27 01:08 ..\r\n",
      "-rw-rw-r--  1 jovyan  1002    291 Oct 27 01:07 config\r\n",
      "-rw-rw-r--  1 jovyan  1002  23195 Oct 27 03:32 exp4.ipynb\r\n",
      "-rw-rw-r--  1 jovyan  1002 763392 Oct 27 01:07 Exp4.ppt\r\n",
      "-rw-rw-r--  1 jovyan  1002   3951 Oct 27 01:07 function\r\n",
      "drwxrwxr-x  8 jovyan  1002   4096 Oct 27 01:07 .git\r\n",
      "drwxrwxr-x  2 jovyan  1002   4096 Oct 27 02:28 images\r\n",
      "drwxr-xr-x  2 jovyan users   4096 Oct 27 01:10 .ipynb_checkpoints\r\n",
      "-rw-rw-r--  1 jovyan  1002    576 Oct 27 01:07 README.md\r\n",
      "-rw-rw-r--  1 jovyan  1002   1946 Oct 27 01:07 report-template.ipynb\r\n",
      "-rwxrwxr-x  1 jovyan  1002    486 Oct 27 01:07 start.bash\r\n",
      "drwxrwxr-x  2 jovyan  1002   4096 Oct 27 01:07 workspace\r\n"
     ]
    }
   ],
   "source": [
    "ls -la"
   ]
  },
  {
   "cell_type": "markdown",
   "metadata": {},
   "source": [
    "检查一下文件修改状态："
   ]
  },
  {
   "cell_type": "code",
   "execution_count": 2,
   "metadata": {
    "collapsed": false
   },
   "outputs": [
    {
     "name": "stdout",
     "output_type": "stream",
     "text": [
      "On branch master\r\n",
      "Your branch is up-to-date with 'origin/master'.\r\n",
      "Changes not staged for commit:\r\n",
      "  (use \"git add <file>...\" to update what will be committed)\r\n",
      "  (use \"git checkout -- <file>...\" to discard changes in working directory)\r\n",
      "\r\n",
      "\tmodified:   exp4.ipynb\r\n",
      "\tmodified:   images/4-5.png\r\n",
      "\tmodified:   report-template.ipynb\r\n",
      "\r\n",
      "Untracked files:\r\n",
      "  (use \"git add <file>...\" to include in what will be committed)\r\n",
      "\r\n",
      "\t.ipynb_checkpoints/\r\n",
      "\r\n",
      "no changes added to commit (use \"git add\" and/or \"git commit -a\")\r\n"
     ]
    }
   ],
   "source": [
    "git status"
   ]
  },
  {
   "cell_type": "markdown",
   "metadata": {},
   "source": [
    "将report-template.ipynb文件的修改放到缓冲区中："
   ]
  },
  {
   "cell_type": "code",
   "execution_count": 3,
   "metadata": {
    "collapsed": false
   },
   "outputs": [
    {
     "name": "stdout",
     "output_type": "stream",
     "text": []
    }
   ],
   "source": [
    "git add report-template.ipynb"
   ]
  },
  {
   "cell_type": "markdown",
   "metadata": {},
   "source": [
    "提交到本地代码库："
   ]
  },
  {
   "cell_type": "code",
   "execution_count": 4,
   "metadata": {
    "collapsed": false
   },
   "outputs": [
    {
     "name": "stdout",
     "output_type": "stream",
     "text": [
      "\r\n",
      "*** Please tell me who you are.\r\n",
      "\r\n",
      "Run\r\n",
      "\r\n",
      "  git config --global user.email \"you@example.com\"\r\n",
      "  git config --global user.name \"Your Name\"\r\n",
      "\r\n",
      "to set your account's default identity.\r\n",
      "Omit --global to set the identity only in this repository.\r\n",
      "\r\n",
      "fatal: empty ident name (for <jovyan@a6791d80bcfe.(none)>) not allowed\r\n"
     ]
    }
   ],
   "source": [
    "git commit -m \"modify report\""
   ]
  },
  {
   "cell_type": "markdown",
   "metadata": {},
   "source": [
    "提示需要设置提交者的姓名和邮件地址："
   ]
  },
  {
   "cell_type": "code",
   "execution_count": 5,
   "metadata": {
    "collapsed": false
   },
   "outputs": [
    {
     "name": "stdout",
     "output_type": "stream",
     "text": []
    }
   ],
   "source": [
    "git config --global user.name \"libo\""
   ]
  },
  {
   "cell_type": "code",
   "execution_count": 6,
   "metadata": {
    "collapsed": false
   },
   "outputs": [
    {
     "name": "stdout",
     "output_type": "stream",
     "text": []
    }
   ],
   "source": [
    "git config --global user.email \"libo@swust.edu.cn\""
   ]
  },
  {
   "cell_type": "markdown",
   "metadata": {},
   "source": [
    "再提交一次："
   ]
  },
  {
   "cell_type": "code",
   "execution_count": 7,
   "metadata": {
    "collapsed": false
   },
   "outputs": [
    {
     "name": "stdout",
     "output_type": "stream",
     "text": [
      "[master 2e03d3b] modify report\r\n",
      " 1 file changed, 2 insertions(+), 1 deletion(-)\r\n"
     ]
    }
   ],
   "source": [
    "git commit -m \"modify report\""
   ]
  },
  {
   "cell_type": "markdown",
   "metadata": {},
   "source": [
    "最后，需要提交到远程代码库example/lab4中，使用命令：\n",
    "\n",
    "git push -u origin master\n",
    "\n",
    "因为提交过程需要输入用户名和密码，请在命令窗口中执行（注意在工作目录中进行操作，即/notebooks/）。\n",
    "\n",
    "`\n",
    "Username for 'http://vlab.cs.swust.edu.cn:8081': 5120140000\n",
    "Password for 'http://libo@vlab.cs.swust.edu.cn:8081':\n",
    "`     \n",
    "\n",
    "执行结果为：\n",
    "`\n",
    "Counting objects: 23, done.\n",
    "Delta compression using up to 2 threads.\n",
    "Compressing objects: 100% (22/22), done.\n",
    "Writing objects: 100% (23/23), 1.08 MiB | 181.00 KiB/s, done.\n",
    "Total 23 (delta 2), reused 0 (delta 0)\n",
    "To http://vlab.cs.swust.edu.cn:8081/linux2016/lab4.git          \n",
    " *[new branch]      master -> master\n",
    "`\n",
    "\n",
    "表明提交成功。\n",
    "\n",
    "检查一下工作目录状态："
   ]
  },
  {
   "cell_type": "code",
   "execution_count": 25,
   "metadata": {
    "collapsed": false
   },
   "outputs": [
    {
     "name": "stdout",
     "output_type": "stream",
     "text": [
      "On branch master\r\n",
      "nothing to commit, working directory clean\r\n"
     ]
    }
   ],
   "source": [
    "git status"
   ]
  },
  {
   "cell_type": "markdown",
   "metadata": {},
   "source": [
    "结果显示没有可以更新的了，表明提交成功。\n",
    "\n",
    "在并行开发过程中，每个开发者都需要向远程代码库提交更新，git会检查每个提交会不会与远程代码库上的更新冲突，提示用户更新远程代码库到用户工作目录中（使用git pull命令），开发者解决冲突后（一般是使用文字编辑器如vi删除文档中的冲突标志（>>>>>>, =======, <<<<<<<等标志）），再提交到远程代码库中，具体细节参考上次实验课两个作家合作编写文档的过程。"
   ]
  },
  {
   "cell_type": "markdown",
   "metadata": {},
   "source": [
    "### 7.3 编写项目介绍材料\n",
    "\n",
    "GitLab的项目中包括一个Wiki功能，提供项目介绍材料的编写。\n",
    "\n",
    "访问lab4项目的Wiki功能，如下图：\n",
    "\n",
    "![访问Wiki功能](images/4-18.png)\n",
    "<center>图4-18 访问Wiki功能</center>\n",
    "\n",
    "编写Wiki格式的介绍材料，如下图：\n",
    "\n",
    "![介绍材料编写](images/4-19.png)\n",
    "<center>图4-19 介绍材料编写</center>\n",
    "\n",
    "![介绍材料效果](images/4-20.png)\n",
    "<center>图4-20 介绍材料效果</center>\n",
    "\n",
    "另外，通过在项目根目录下生成README.md文件（Markdown格式）也可以在浏览项目文件时看到介绍材料。\n",
    "\n",
    "没有生成README.md文件时，项目首页会有一个链接”add README“，如下图所示：\n",
    "\n",
    "![增加README文件](images/4-21.png)\n",
    "<center>图4-21 增加REAEME文件</center>\n",
    "\n",
    "点击后，访问编辑界面，如下图：\n",
    "\n",
    "![编辑README文件](images/4-22.png)\n",
    "<center>图4-22 编辑REAEME文件</center>"
   ]
  },
  {
   "cell_type": "markdown",
   "metadata": {},
   "source": [
    "### 7.4 开发任务的设置和管理\n",
    "\n",
    "GitLab通过Milestone(里程碑)来进行开发任务的管理。\n",
    "\n",
    "访问项目的Milestone功能，如下图：\n",
    "\n",
    "![访问Milestone功能](images/4-23.png)\n",
    "<center>图4-23 访问Milestone功能</center>\n",
    "\n",
    "Milestone的操作包括新建、删除、修改、浏览等，每个Milestone还可以设置截止时间（Due Date）。\n",
    "\n",
    "lab4实验包项目中，生成了两个Milestone，如下图：\n",
    "\n",
    "![Milestone列表](images/4-24.png)\n",
    "<center>图4-24 Milestone列表</center>"
   ]
  },
  {
   "cell_type": "markdown",
   "metadata": {},
   "source": [
    "### 7.5 开发过程的交流\n",
    "\n",
    "GitLab是通过评论来进行开发交流的，评论可以出现在提交查看、Issue查看等界面中。方便开发者就提交、Issue等进行讨论和交流。\n",
    "\n",
    "![提交查看中的评论](images/4-25.png)\n",
    "<center>图4-25 提交查看中的评论</center>"
   ]
  },
  {
   "cell_type": "markdown",
   "metadata": {},
   "source": [
    "### 7.6 BUG记录\n",
    "\n",
    "GitLab中，BUG记录是通过Issue功能来实现的。\n",
    "\n",
    "一个Issue可以跟Milestone相关联，可以设置Issue的截止时间（Due Date），实现任务管理。\n",
    "\n",
    "lab4实验包项目中，设置了1个issue，如下图所示：\n",
    "\n",
    "![Issue列表](images/4-26.png)\n",
    "<center>图4-26 Issue列表</center>\n",
    "\n",
    "该Issue的内容包括名称、描述、评论、回复、关联的Milestone、标签、参与者、截止时间等信息，如下图所示：\n",
    "\n",
    "![Issue的内容](images/4-27.png)\n",
    "<center>图4-27 Issue的内容</center>"
   ]
  },
  {
   "cell_type": "markdown",
   "metadata": {},
   "source": [
    "### 7.7 代码审核\n",
    "\n",
    "GitLab是通过合并请求（Merge Request）功能来实现代码审核（Code Review）的。在GitLab中，开发者可以通过Fork功能创建一个项目（称为源项目）的个人项目，开发者在这个个人项目上进行版本提交后，之后可以生成一个合并到源项目的某个分支的请求，最后由源项目中具有可写权限的用户来完成请求的检查和合并的工作。\n",
    "\n",
    "本次实验不针对这个功能做具体操作介绍。"
   ]
  },
  {
   "cell_type": "markdown",
   "metadata": {},
   "source": [
    "## 8 实验任务\n",
    "\n",
    "合作写作本次实验报告：以3人为小组，在GitLab中创建实验小组的项目组，通过公共课程项目，在小组项目组中创建本次实验包项目（不要更换名字），实验小组成员需要合作并行的修改实验报告文档（report-template.ipynb），完成实验报告的提交。实验报告需要写出小组项目组及实验包项目创建过程，实验报告合作修改的任务分配情况，以及各自的提交过程。"
   ]
  },
  {
   "cell_type": "markdown",
   "metadata": {},
   "source": [
    "# 9 实验思考\n",
    "\n",
    "1、解释GitLab提供的持续集成（CI）功能。"
   ]
  }
 ],
 "metadata": {
  "kernelspec": {
   "display_name": "Bash",
   "language": "bash",
   "name": "bash"
  },
  "language_info": {
   "codemirror_mode": "shell",
   "file_extension": ".sh",
   "mimetype": "text/x-sh",
   "name": "bash"
  }
 },
 "nbformat": 4,
 "nbformat_minor": 0
}
