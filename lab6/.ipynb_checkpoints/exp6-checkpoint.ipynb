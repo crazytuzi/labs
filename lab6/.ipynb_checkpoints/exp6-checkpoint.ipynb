{
 "cells": [
  {
   "cell_type": "markdown",
   "metadata": {},
   "source": [
    "实验六 Shell程序分析\n",
    "======="
   ]
  },
  {
   "cell_type": "markdown",
   "metadata": {},
   "source": [
    "# 1. 实验类型\n",
    "\n",
    "验证型，4学时，必做实验\n",
    "\n",
    "\n",
    "# 2.  实验目的\n",
    "\n",
    "掌握Shell程序的语法和程序结构，以及修改、调试的方法。\n",
    "\n",
    "# 3. 题目描述\n",
    "\n",
    "本次实验通过验证shell程序设计的基本要素，并以此修改和运行一段shell程序，从而掌握Shell程序查错、运行方法，为下次实验——设计Shell程序——打下基础。\n",
    "\n",
    "# 4. 实验要求\n",
    "\n",
    "* 基本层次要求：本次实验要求分析所给出程序的功能描述，并在程序中指定位置给出必要的注释；运行所给出的程序，通过查错分析，修改运行程序过程中所出现的错误。\n",
    "\n",
    "* 扩展层次要求：利用结构程序设计的思想，使用程序流程图或N_S图描述程序的处理过程；总结Shell程序查错分析的方法。\n",
    "\n",
    "# 5. 相关知识\n",
    "\n",
    "结构程序设计是一种设计程序的技术，它采用自顶向下逐步求精的设计方法和单入口单出口的控制结构[10]。通过自顶向下逐步求精的方法，可以把一个复杂问题的解法分解和细化为一个由许多模块组成的层次结构的软件系统；单入口单出口的控制结构是指程序中不使用GO TO语句，以保证程序清晰流畅，易读易懂并且容易测试。结构程序设计采用三种基本的控制结构：顺序结构、选择（分支）结构和循环结构。\n",
    "\n",
    "程序流程图和N_S图是软件详细设计阶段描述程序处理过程的工具，它们用来指明控制流程、处理功能、数据组织以及其它方面的实现细节，从而在编码阶段能把对设计的描述直接翻译成程序代码。程序流程图常用的符号如图6-1：\n",
    "\n",
    "![程序流程图中常用的符号](images/6-1.png)\n",
    "<center>图6-1 程序流程图中常用的符号</center>\n",
    "\n",
    "用程序流程图描述的分支结构如图6-2表示：\n",
    "\n",
    "![程序流程图描述的分支程序结构](images/6-2.png)\n",
    "<center>图6-2 程序流程图描述的分支程序结构</center>\n",
    "\n",
    "N_S图严格遵循了结构化程序设计思想，图6-3所示为N_S图描述的控制结构。\n",
    "\n",
    "![N_S图描述的控制结构](images/6-3.png)\n",
    "<center>图6-3 N_S图描述的控制结构</center>\n",
    "\n",
    "BASH是Linux默认的Shell，程序为/bin/bash，其他的Shell如表6-1。本指导书中只介绍BASH，后文中若没有加上下文，则简称BASH环境中的Shell程序为Shell程序或者Shell脚本（Shell Script）。\n",
    "\n",
    "<center>表6-1 Shell的历史</center>\n",
    "![Shell的历史](images/6-4.png)\n",
    "\n",
    "执行Shell脚本的方法有两种：一是将Shell脚本文件设置为可执行，直接执行该文件；二是指明使用bash解释、执行Shell脚本文件。\n",
    "\n",
    "例如example.bash为Shell脚本文件，设置该文件为可执行后，在Shell下键入：\n",
    "\n",
    "路径/example.bash\n",
    "\n",
    "就可以执行该Shell脚本文件，因此，如果当前工作目录中包含example.bash，则使用命令“./example.bash”，其中“./”为径。\n",
    "\n",
    "对Shell脚本程序进行调试，使用第二种执行方式：如执行example.bash文件，在Shell下键入：\n",
    "\n",
    "bash 路径/example.bash\n",
    "\n",
    "就可以执行该Shell脚本文件。其中，调试需要使用bash的选项：\n",
    "\n",
    "-x\n",
    "\n",
    "在变量替换之后但执行之前，显示命令文件的每一行。\n",
    "\n",
    "-v\n",
    "\n",
    "在执行之前显示命令文件的每一行，就像你输入一样。\n",
    "\n",
    "-n\n",
    "\n",
    "解释但不执行命令。\n",
    "\n",
    "+x\n",
    "\n",
    "关闭追踪。\n",
    "\n",
    "因此，查错example.bash的方法为使用如下命令：\n",
    "\n",
    "bash -x 路径/example.bash\n",
    "\n",
    "例如："
   ]
  },
  {
   "cell_type": "code",
   "execution_count": 1,
   "metadata": {
    "collapsed": false
   },
   "outputs": [
    {
     "name": "stdout",
     "output_type": "stream",
     "text": [
      "#!/bin/bash\r\n",
      "# set user variale\r\n",
      "year=2015\r\n",
      "month=11\r\n",
      "day=22\r\n",
      "echo Today is $year-$month-$day\r\n"
     ]
    }
   ],
   "source": [
    "cat workspace/example3"
   ]
  },
  {
   "cell_type": "code",
   "execution_count": 2,
   "metadata": {
    "collapsed": false
   },
   "outputs": [
    {
     "name": "stdout",
     "output_type": "stream",
     "text": [
      "+ year=2015\r\n",
      "+ month=11\r\n",
      "+ day=22\r\n",
      "+ echo Today is 2015-11-22\r\n",
      "Today is 2015-11-22\r\n"
     ]
    }
   ],
   "source": [
    "bash -x workspace/example3"
   ]
  },
  {
   "cell_type": "markdown",
   "metadata": {},
   "source": [
    "上述命令执行了exmple3脚本，由于使用了-x选项，该结果中包含了调试信息，即结果中以加号（+）开头的行，表示shell对该行命令的解释，比如“+ echo Today is 2015-11-22”一行表示shell在解释脚本中“echo Today is `$year-$month-$day`”一行时，将变量进行了替换再执行；没有以加号（+）开头的行则表示输出的信息。\n",
    "\n",
    "### 实验任务1\n",
    "\n",
    "运行/notebooks/workspace中的Shell脚本example.bash"
   ]
  },
  {
   "cell_type": "markdown",
   "metadata": {},
   "source": [
    "# 6. 实验设备\n",
    "\n",
    "实验者需要使用各自PC机上Windows操作系统的putty程序通过网络连接到Linux服务器（实验室内网为：10.11.8.17（暂时不可用），外网为：vlab.cs.swust.edu.cn），启动交互式实验指导书（浏览器方式，访问地址在启动程序中显示），并使用浏览器打开实验室内部的GitLab服务（[实验室内网访问](http://10.11.8.17:8081/)，[寝室外网访问](http://vlab.cs.swust.edu.cn:8081/)），学习和验证基本的实验操作，并完成实验指导书中的“实验任务”部分。"
   ]
  },
  {
   "cell_type": "markdown",
   "metadata": {},
   "source": [
    "# 7. 实验指导\n",
    "\n",
    "## 7.1、脚本程序基础\n",
    "\n",
    "### (1) 多个命令\n",
    "\n",
    "shell允许同一命令行输入多个命令运行，用分号隔开，比如："
   ]
  },
  {
   "cell_type": "code",
   "execution_count": 3,
   "metadata": {
    "collapsed": false
   },
   "outputs": [
    {
     "name": "stdout",
     "output_type": "stream",
     "text": [
      "Mon Nov  7 03:17:36 UTC 2016\r\n",
      "Linux 217d6088e0c3 4.4.0-45-generic #66-Ubuntu SMP Wed Oct 19 14:12:37 UTC 2016 x86_64 GNU/Linux\r\n"
     ]
    }
   ],
   "source": [
    "date; uname -a"
   ]
  },
  {
   "cell_type": "markdown",
   "metadata": {},
   "source": [
    "以上命令行也就是一个简单的脚本，执行了两个shell命令：date命令显示了当前日期和时间，uname显示了系统信息。\n",
    "\n",
    "### 实验任务2\n",
    "\n",
    "请使用一个命令行一次执行ls, pwd, whoami三个命令。"
   ]
  },
  {
   "cell_type": "markdown",
   "metadata": {},
   "source": [
    "### (2) 脚本文件\n",
    "\n",
    "使用命令行执行多个命令的方式有两个限制：命令行长度不能超过255个字符，而且每次执行需要将命令一次性输入，比较麻烦。可以通过创建一个文本文件，将需要执行的命令输入，然后运行这个文件，该文件就是shell脚本文件。\n",
    "\n",
    "例如：创建一个文本文件test1，输入date和uname命令，该文件就称为shell脚本文件。"
   ]
  },
  {
   "cell_type": "code",
   "execution_count": 4,
   "metadata": {
    "collapsed": false
   },
   "outputs": [
    {
     "name": "stdout",
     "output_type": "stream",
     "text": [
      "#!/bin/bash\r\n",
      "#This script displays the date and calendar.\r\n",
      "date\r\n",
      "uname -a\r\n"
     ]
    }
   ],
   "source": [
    "cat workspace/example1"
   ]
  },
  {
   "cell_type": "markdown",
   "metadata": {},
   "source": [
    "shell脚本中#开头的一行是注释，第一行#!称为魔数，用它来指示哪个shell要解释本脚本文件。\n",
    "\n",
    "执行脚本文件有四种方式：\n",
    "\n",
    "* bash 脚本文件名\n",
    "\n",
    "* bash < 脚本文件名\n",
    "\n",
    "* chmod u+x 脚本文件名; ./脚本文件名\n",
    "\n",
    "* . 脚本文件名\n",
    "\n",
    "例如：执行example1脚本："
   ]
  },
  {
   "cell_type": "code",
   "execution_count": 5,
   "metadata": {
    "collapsed": false
   },
   "outputs": [
    {
     "name": "stdout",
     "output_type": "stream",
     "text": [
      "Mon Nov  7 03:18:14 UTC 2016\r\n",
      "Linux 217d6088e0c3 4.4.0-45-generic #66-Ubuntu SMP Wed Oct 19 14:12:37 UTC 2016 x86_64 GNU/Linux\r\n"
     ]
    }
   ],
   "source": [
    "bash workspace/example1"
   ]
  },
  {
   "cell_type": "markdown",
   "metadata": {},
   "source": [
    "### 实验任务3\n",
    "\n",
    "创建和执行一个脚本文件test1，该脚本文件执行ls, pwd, whoami三个命令。"
   ]
  },
  {
   "cell_type": "markdown",
   "metadata": {},
   "source": [
    "### (3) 显示信息\n",
    "\n",
    "echo命令可以显示一个文本字符串，比如："
   ]
  },
  {
   "cell_type": "code",
   "execution_count": 6,
   "metadata": {
    "collapsed": false
   },
   "outputs": [
    {
     "name": "stdout",
     "output_type": "stream",
     "text": [
      "Hello, world!\r\n"
     ]
    }
   ],
   "source": [
    "echo \"Hello, world!\""
   ]
  },
  {
   "cell_type": "markdown",
   "metadata": {},
   "source": [
    "通过echo命令可以在shell脚本中显示一些提示信息，比如："
   ]
  },
  {
   "cell_type": "code",
   "execution_count": 7,
   "metadata": {
    "collapsed": false
   },
   "outputs": [
    {
     "name": "stdout",
     "output_type": "stream",
     "text": [
      "#!/bin/bash\r\n",
      "#This script displays the date and calendar.\r\n",
      "echo \"This is date\"\r\n",
      "date\r\n",
      "echo \"This is system info\"\r\n",
      "uname -a\r\n"
     ]
    }
   ],
   "source": [
    "cat workspace/example2"
   ]
  },
  {
   "cell_type": "code",
   "execution_count": 8,
   "metadata": {
    "collapsed": false
   },
   "outputs": [
    {
     "name": "stdout",
     "output_type": "stream",
     "text": [
      "This is date\r\n",
      "Mon Nov  7 03:18:52 UTC 2016\r\n",
      "This is system info\r\n",
      "Linux 217d6088e0c3 4.4.0-45-generic #66-Ubuntu SMP Wed Oct 19 14:12:37 UTC 2016 x86_64 GNU/Linux\r\n"
     ]
    }
   ],
   "source": [
    "bash < workspace/example2"
   ]
  },
  {
   "cell_type": "markdown",
   "metadata": {},
   "source": [
    "上述命令使用了第二种执行脚本方法中的一种新的形式：使用输入重定向，即将脚本文件重定向为bash程序的输入（否则需要读入用户键盘的输入），从而执行了该脚本文件。（输入输出重定向的概念见后）"
   ]
  },
  {
   "cell_type": "markdown",
   "metadata": {},
   "source": [
    "### (4) 使用变量\n",
    "\n",
    "bash shell的变量包含两种：\n",
    "\n",
    "* 环境变量\n",
    "\n",
    "* 用户变量\n",
    "\n",
    "bash shell使用环境变量来存储有关shell会话和工作环境的信息。这些信息包括系统的名称，登录到系统上的用户的名称，用户的默认主目录，shell查找程序的搜索路径等。使用set命令可以显示全部环境变量。如："
   ]
  },
  {
   "cell_type": "code",
   "execution_count": 9,
   "metadata": {
    "collapsed": false
   },
   "outputs": [
    {
     "name": "stdout",
     "output_type": "stream",
     "text": [
      "BASH=/bin/bash\r\n",
      "BASHOPTS=checkwinsize:cmdhist:complete_fullquote:expand_aliases:extquote:force_fignore:histappend:hostcomplete:interactive_comments:progcomp:promptvars:sourcepath\r\n",
      "BASH_ALIASES=()\r\n",
      "BASH_ARGC=()\r\n",
      "BASH_ARGV=()\r\n",
      "BASH_CMDS=()\r\n",
      "BASH_LINENO=()\r\n",
      "BASH_SOURCE=()\r\n",
      "BASH_VERSINFO=([0]=\"4\" [1]=\"3\" [2]=\"30\" [3]=\"1\" [4]=\"release\" [5]=\"x86_64-pc-linux-gnu\")\r\n",
      "BASH_VERSION='4.3.30(1)-release'\r\n",
      "COLUMNS=80\r\n",
      "CONDA_DIR=/opt/conda\r\n",
      "DEBIAN_FRONTEND=noninteractive\r\n",
      "DIRSTACK=()\r\n",
      "EUID=1002\r\n",
      "GRANT_SUDO=yes\r\n",
      "GROUPS=()\r\n",
      "HISTCONTROL=ignoreboth\r\n",
      "HISTFILE=/home/jovyan/.bash_history\r\n",
      "HISTFILESIZE=2000\r\n",
      "HISTSIZE=1000\r\n",
      "HOME=/home/jovyan\r\n",
      "HOSTNAME=217d6088e0c3\r\n",
      "HOSTTYPE=x86_64\r\n",
      "IFS=$' \\t\\n'\r\n",
      "JPY_PARENT_PID=16\r\n",
      "LANG=en_US.UTF-8\r\n",
      "LANGUAGE=en_US.UTF-8\r\n",
      "LC_ALL=en_US.UTF-8\r\n",
      "LINES=24\r\n",
      "LOGNAME=jovyan\r\n",
      "LS_COLORS=\r\n",
      "MACHTYPE=x86_64-pc-linux-gnu\r\n",
      "MAIL=/var/mail/jovyan\r\n",
      "MAILCHECK=60\r\n",
      "NB_UID=1002\r\n",
      "NB_USER=jovyan\r\n",
      "OPTERR=1\r\n",
      "OPTIND=1\r\n",
      "OSTYPE=linux-gnu\r\n",
      "PAGER=cat\r\n",
      "PATH=/opt/conda/bin:/opt/conda/bin:/usr/local/sbin:/usr/local/bin:/usr/sbin:/usr/bin:/sbin:/bin\r\n",
      "PIPESTATUS=([0]=\"0\")\r\n",
      "PPID=21\r\n",
      "PROMPT_COMMAND=\r\n",
      "PS1='[PEXP\\[\\]ECT_PROMPT>'\r\n",
      "PS2='[PEXP\\[\\]ECT_PROMPT+'\r\n",
      "PS4='+ '\r\n",
      "PWD=/notebooks\r\n",
      "SHELL=/bin/bash\r\n",
      "SHELLOPTS=braceexpand:emacs:hashall:histexpand:history:interactive-comments:monitor\r\n",
      "SHLVL=2\r\n",
      "TERM=dumb\r\n",
      "UID=1002\r\n",
      "USER=jovyan\r\n",
      "_=0\r\n",
      "display () \r\n",
      "{ \r\n",
      "    TMPFILE=$(mktemp ${TMPDIR-/tmp}/bash_kernel.XXXXXXXXXX);\r\n",
      "    cat > $TMPFILE;\r\n",
      "    echo \"bash_kernel: saved image data to: $TMPFILE\" 1>&2\r\n",
      "}\r\n"
     ]
    }
   ],
   "source": [
    "set"
   ]
  },
  {
   "cell_type": "markdown",
   "metadata": {},
   "source": [
    "使用“$变量名”的方式可以获取环境变量的值，比如："
   ]
  },
  {
   "cell_type": "code",
   "execution_count": 10,
   "metadata": {
    "collapsed": false
   },
   "outputs": [
    {
     "name": "stdout",
     "output_type": "stream",
     "text": [
      "/opt/conda/bin:/opt/conda/bin:/usr/local/sbin:/usr/local/bin:/usr/sbin:/usr/bin:/sbin:/bin\r\n"
     ]
    }
   ],
   "source": [
    "echo $PATH"
   ]
  },
  {
   "cell_type": "markdown",
   "metadata": {},
   "source": [
    "PATH环境变量是shell命令的查找路径，当执行shell命令出现“command not found”的错误时，需要考虑是命令不在该查找路径中，需要指明命令的路径。\n",
    "\n",
    "通过“变量名=变量值”的方式可以定义一个用户变量。例如："
   ]
  },
  {
   "cell_type": "code",
   "execution_count": 11,
   "metadata": {
    "collapsed": false
   },
   "outputs": [
    {
     "name": "stdout",
     "output_type": "stream",
     "text": []
    }
   ],
   "source": [
    "TODAY=2015-11-22"
   ]
  },
  {
   "cell_type": "code",
   "execution_count": 12,
   "metadata": {
    "collapsed": false
   },
   "outputs": [
    {
     "name": "stdout",
     "output_type": "stream",
     "text": [
      "2015-11-22\r\n"
     ]
    }
   ],
   "source": [
    "echo $TODAY"
   ]
  },
  {
   "cell_type": "markdown",
   "metadata": {},
   "source": [
    "如果在脚本中定义一个变量，则脚本执行结束后，该变量会被删除。例如："
   ]
  },
  {
   "cell_type": "code",
   "execution_count": 13,
   "metadata": {
    "collapsed": false
   },
   "outputs": [
    {
     "name": "stdout",
     "output_type": "stream",
     "text": [
      "#!/bin/bash\r\n",
      "# set user variale\r\n",
      "year=2015\r\n",
      "month=11\r\n",
      "day=22\r\n",
      "echo Today is $year-$month-$day\r\n"
     ]
    }
   ],
   "source": [
    "cat workspace/example3"
   ]
  },
  {
   "cell_type": "code",
   "execution_count": 14,
   "metadata": {
    "collapsed": false
   },
   "outputs": [
    {
     "name": "stdout",
     "output_type": "stream",
     "text": [
      "Today is 2015-11-22\r\n"
     ]
    }
   ],
   "source": [
    "chmod u+x workspace/example3; workspace/example3"
   ]
  },
  {
   "cell_type": "code",
   "execution_count": 15,
   "metadata": {
    "collapsed": false
   },
   "outputs": [
    {
     "name": "stdout",
     "output_type": "stream",
     "text": [
      "\r\n"
     ]
    }
   ],
   "source": [
    "echo $month"
   ]
  },
  {
   "cell_type": "markdown",
   "metadata": {},
   "source": [
    "上述命令执行没有结果，是因为month变量在脚本中使用，该脚本执行结束后，变量就被删除了，即结果为空。若想使用脚本中定义的变量和函数等，需要使用如下执行方式："
   ]
  },
  {
   "cell_type": "code",
   "execution_count": 16,
   "metadata": {
    "collapsed": false
   },
   "outputs": [
    {
     "name": "stdout",
     "output_type": "stream",
     "text": [
      "Today is 2015-11-22\r\n"
     ]
    }
   ],
   "source": [
    ". workspace/example3"
   ]
  },
  {
   "cell_type": "markdown",
   "metadata": {},
   "source": [
    "注意：命令行中，脚本前面是一个点，中间有空格。脚本执行后，看看month变量："
   ]
  },
  {
   "cell_type": "code",
   "execution_count": 17,
   "metadata": {
    "collapsed": false
   },
   "outputs": [
    {
     "name": "stdout",
     "output_type": "stream",
     "text": [
      "11\r\n"
     ]
    }
   ],
   "source": [
    "echo $month"
   ]
  },
  {
   "cell_type": "markdown",
   "metadata": {},
   "source": [
    "可见，example3脚本中定义的变量month仍然有值。因此，这种执行脚本的方式通常用于在比较复杂的脚本程序中定义函数和变量。\n",
    "\n",
    "反引号（\\`，即美式键盘上“~”键，在“1”键旁边）可以将shell命令的输出赋值给变量，如："
   ]
  },
  {
   "cell_type": "code",
   "execution_count": 18,
   "metadata": {
    "collapsed": false
   },
   "outputs": [
    {
     "name": "stdout",
     "output_type": "stream",
     "text": []
    }
   ],
   "source": [
    "DATE=`date`"
   ]
  },
  {
   "cell_type": "code",
   "execution_count": 19,
   "metadata": {
    "collapsed": false
   },
   "outputs": [
    {
     "name": "stdout",
     "output_type": "stream",
     "text": [
      "Mon Nov 7 03:31:17 UTC 2016\r\n"
     ]
    }
   ],
   "source": [
    "echo $DATE"
   ]
  },
  {
   "cell_type": "markdown",
   "metadata": {},
   "source": [
    "### 实验任务4\n",
    "\n",
    "获取当前用户的默认主目录路径。"
   ]
  },
  {
   "cell_type": "markdown",
   "metadata": {},
   "source": [
    "### (5) 输入输出重定向\n",
    "\n",
    "重定向用于将某个文件用于输入或输出。其中，输出重定向是将命令的输出发送到一个文件中，输入重定向是将文件的内容输入给命令。例如："
   ]
  },
  {
   "cell_type": "code",
   "execution_count": 20,
   "metadata": {
    "collapsed": false
   },
   "outputs": [
    {
     "name": "stdout",
     "output_type": "stream",
     "text": []
    }
   ],
   "source": [
    "date > workspace/out.txt"
   ]
  },
  {
   "cell_type": "markdown",
   "metadata": {},
   "source": [
    "上述命令会将之前显示器上出现的命令输出保存到文件out.txt中。"
   ]
  },
  {
   "cell_type": "code",
   "execution_count": 21,
   "metadata": {
    "collapsed": false
   },
   "outputs": [
    {
     "name": "stdout",
     "output_type": "stream",
     "text": [
      "Mon Nov  7 03:31:26 UTC 2016\r\n"
     ]
    }
   ],
   "source": [
    "cat workspace/out.txt"
   ]
  },
  {
   "cell_type": "markdown",
   "metadata": {},
   "source": [
    "可见，out.txt文件中的内容的确是date命令的输出结果。若希望以添加方式输出到文件中，则使用双大于符号（>>），如："
   ]
  },
  {
   "cell_type": "code",
   "execution_count": 22,
   "metadata": {
    "collapsed": false
   },
   "outputs": [
    {
     "name": "stdout",
     "output_type": "stream",
     "text": []
    }
   ],
   "source": [
    "echo \"hello\" >>workspace/out.txt"
   ]
  },
  {
   "cell_type": "code",
   "execution_count": 23,
   "metadata": {
    "collapsed": false
   },
   "outputs": [
    {
     "name": "stdout",
     "output_type": "stream",
     "text": [
      "Mon Nov  7 03:31:26 UTC 2016\r\n",
      "hello\r\n"
     ]
    }
   ],
   "source": [
    "cat workspace/out.txt"
   ]
  },
  {
   "cell_type": "code",
   "execution_count": 24,
   "metadata": {
    "collapsed": false
   },
   "outputs": [
    {
     "name": "stdout",
     "output_type": "stream",
     "text": [
      " 2  7 35\r\n"
     ]
    }
   ],
   "source": [
    "wc < workspace/out.txt"
   ]
  },
  {
   "cell_type": "markdown",
   "metadata": {},
   "source": [
    "wc命令提供了对数据中文本的技术，默认情况下，它会输出文本的行数、词数、字节数。上述命令行将文本文件重定向到wc命令，即对文件中的行数、词数、字节数进行了统计。\n",
    "\n",
    "如果将输入重定向符号写成双小于号（<<），则称为内联输入重定向，需要指定一个文本标记作为输入数据的开始和结尾，而不是将文件作为输入。例如："
   ]
  },
  {
   "cell_type": "code",
   "execution_count": 25,
   "metadata": {
    "collapsed": false
   },
   "outputs": [
    {
     "name": "stdout",
     "output_type": "stream",
     "text": [
      " 3  6 33\r\n"
     ]
    }
   ],
   "source": [
    "wc << EOF\n",
    "test line1\n",
    "test line2\n",
    "test line3\n",
    "EOF"
   ]
  },
  {
   "cell_type": "markdown",
   "metadata": {},
   "source": [
    "上述命令行是用wc命令统计EOF之间的文本的行数、词数和字节数。\n",
    "\n",
    "### 实验任务5\n",
    "\n",
    "试统计一下example1的行数、词数和字节数。\n",
    "\n",
    "### (6) 管道\n",
    "\n",
    "管道用作将一个命令的输出重定向到另外一个命令中：\n",
    "\n",
    "command1 | command2\n",
    "\n",
    "如："
   ]
  },
  {
   "cell_type": "code",
   "execution_count": 26,
   "metadata": {
    "collapsed": false
   },
   "outputs": [
    {
     "name": "stdout",
     "output_type": "stream",
     "text": [
      "    411    3981   47655\r\n"
     ]
    }
   ],
   "source": [
    "dpkg -l | wc"
   ]
  },
  {
   "cell_type": "markdown",
   "metadata": {},
   "source": [
    "上述命令将dpkg -l命令的输出作为wc命令的输入，即统计了当前系统中已安装的包的数量。一般在命令行显示太多的时候，使用管道将结果重定向到more命令，以分页显示。例如使用：\n",
    "\n",
    "dpkg -l | more\n",
    "\n",
    "已分页显示所有已安装包的列表，请在访问[这里](/terminals/1)打开一个命令行窗口验证这个命令。\n",
    "\n",
    "### 实验任务6\n",
    "\n",
    "请使用管道，将dpkg -l命令显示的安装包的列表中vim相关的包过滤出来。"
   ]
  },
  {
   "cell_type": "markdown",
   "metadata": {},
   "source": [
    "### (7) 数学运算\n",
    "\n",
    "bash中进行数学运算有两种方式：\n",
    "\n",
    "第一种方式是使用expr命令，命令行形式为：\n",
    "\n",
    "expr 表达式\n",
    "\n",
    "其中，表达式包括：\n",
    "\n",
    "ARG1 + ARG2\n",
    "\n",
    "加法操作\n",
    "\n",
    "ARG1 - ARG2\n",
    "\n",
    "减法操作\n",
    "\n",
    "ARG1 * ARG2\n",
    "\n",
    "乘法操作\n",
    "\n",
    "ARG1 % ARG2\n",
    "\n",
    "求余数操作\n",
    "\n",
    "match STRING REGEXP\n",
    "\n",
    "如果REGEXP匹配到了STRING，则返回真，否则，返回假。\n",
    "\n",
    "例如，计算7\\*8的值："
   ]
  },
  {
   "cell_type": "code",
   "execution_count": 27,
   "metadata": {
    "collapsed": false
   },
   "outputs": [
    {
     "name": "stdout",
     "output_type": "stream",
     "text": [
      "56\r\n"
     ]
    }
   ],
   "source": [
    "expr 7 \\* 8"
   ]
  },
  {
   "cell_type": "markdown",
   "metadata": {},
   "source": [
    "上述命令中的\\符号为“转义符”，将其后的\\*作为乘法，而不是shell命令行中的任意字符。注意表达式中的数字和操作符之间有空格\n",
    "\n",
    "另外一种方法是使用方括号或双括号，用于将数学运算的结果赋值给某个变量，比如："
   ]
  },
  {
   "cell_type": "code",
   "execution_count": 28,
   "metadata": {
    "collapsed": false
   },
   "outputs": [
    {
     "name": "stdout",
     "output_type": "stream",
     "text": []
    }
   ],
   "source": [
    "var1=$[1+5]"
   ]
  },
  {
   "cell_type": "code",
   "execution_count": 29,
   "metadata": {
    "collapsed": false
   },
   "outputs": [
    {
     "name": "stdout",
     "output_type": "stream",
     "text": [
      "6\r\n"
     ]
    }
   ],
   "source": [
    "echo $var1"
   ]
  },
  {
   "cell_type": "code",
   "execution_count": 30,
   "metadata": {
    "collapsed": false
   },
   "outputs": [
    {
     "name": "stdout",
     "output_type": "stream",
     "text": []
    }
   ],
   "source": [
    "var2=$((2*19))"
   ]
  },
  {
   "cell_type": "code",
   "execution_count": 31,
   "metadata": {
    "collapsed": false
   },
   "outputs": [
    {
     "name": "stdout",
     "output_type": "stream",
     "text": [
      "38\r\n"
     ]
    }
   ],
   "source": [
    "echo $var2"
   ]
  },
  {
   "cell_type": "markdown",
   "metadata": {},
   "source": [
    "### 实验任务7\n",
    "\n",
    "使用bash计算(1+5)\\*19"
   ]
  },
  {
   "cell_type": "markdown",
   "metadata": {},
   "source": [
    "### (8) 退出脚本\n",
    "\n",
    "shell中每个命令执行结束，都会返回一个退出状态码，由特殊变量$?来保存，如："
   ]
  },
  {
   "cell_type": "code",
   "execution_count": 32,
   "metadata": {
    "collapsed": false
   },
   "outputs": [
    {
     "name": "stdout",
     "output_type": "stream",
     "text": [
      "Mon Nov  7 03:35:01 UTC 2016\r\n",
      "0\r\n"
     ]
    }
   ],
   "source": [
    "date; echo $?"
   ]
  },
  {
   "cell_type": "markdown",
   "metadata": {},
   "source": [
    "上述两个命令中，第一个date命令的退出状态码$?由第二个命令echo显示出来，状态码为0表示成功执行，其他表示执行有误。又如："
   ]
  },
  {
   "cell_type": "code",
   "execution_count": 33,
   "metadata": {
    "collapsed": false
   },
   "outputs": [
    {
     "name": "stdout",
     "output_type": "stream",
     "text": [
      "bash: ddafdafa: command not found\r\n",
      "127\r\n"
     ]
    }
   ],
   "source": [
    "ddafdafa; echo $?"
   ]
  },
  {
   "cell_type": "markdown",
   "metadata": {},
   "source": [
    "上述第一个命令ddafdafa命令不存在，所以执行有误，所以第二个命令echo显示其退出状态码$?为127（执行不成功）。\n",
    "\n",
    "默认情况下，shell脚本的退出状态码由最后执行的命令来决定，如果想设置，则执行“exit 状态码”，其中，状态码最大不能操作255。例如："
   ]
  },
  {
   "cell_type": "code",
   "execution_count": 34,
   "metadata": {
    "collapsed": false
   },
   "outputs": [
    {
     "name": "stdout",
     "output_type": "stream",
     "text": [
      "#!/bin/bash\r\n",
      "echo \"Hello, world!\"\r\n"
     ]
    }
   ],
   "source": [
    "cat workspace/example4"
   ]
  },
  {
   "cell_type": "code",
   "execution_count": 35,
   "metadata": {
    "collapsed": false
   },
   "outputs": [
    {
     "name": "stdout",
     "output_type": "stream",
     "text": [
      "Hello, world!\r\n",
      "0\r\n"
     ]
    }
   ],
   "source": [
    "bash workspace/example4 ; echo $?"
   ]
  },
  {
   "cell_type": "code",
   "execution_count": 36,
   "metadata": {
    "collapsed": false
   },
   "outputs": [
    {
     "name": "stdout",
     "output_type": "stream",
     "text": [
      "#!/bin/bash\r\n",
      "echo \"Hello, world!\"\r\n",
      "exit 100\r\n"
     ]
    }
   ],
   "source": [
    "cat workspace/example5"
   ]
  },
  {
   "cell_type": "code",
   "execution_count": 37,
   "metadata": {
    "collapsed": false
   },
   "outputs": [
    {
     "name": "stdout",
     "output_type": "stream",
     "text": [
      "Hello, world!\r\n",
      "100\r\n"
     ]
    }
   ],
   "source": [
    "bash workspace/example5;echo $?"
   ]
  },
  {
   "cell_type": "markdown",
   "metadata": {},
   "source": [
    "## 7.2、控制结构\n",
    "\n",
    "### (1) 条件结构\n",
    "\n",
    "条件结构用if then else命令来实现，其语法为：\n",
    "\n",
    "`\n",
    "if  测试命令\n",
    "then  \n",
    "  命令1\n",
    "else\n",
    "  命令2\n",
    "fi\n",
    "`\n",
    "\n",
    "或：\n",
    "\n",
    "`\n",
    "if  测试命令\n",
    "then\n",
    "  命令1\n",
    "elif  测试命令\n",
    "then \n",
    "  命令2\n",
    "fi\n",
    "`\n",
    "\n",
    "其中，测试命令为以下几种形式：\n",
    "\n",
    "* “test 参数 值”的形式，如：     \n",
    "\n",
    "test  -f  “text\"\n",
    "\n",
    "* “[ 参数 值 ]”的形式，如：\n",
    "\n",
    "[  -f  “text\"  ]\n",
    "\n",
    "* \"一般命令\"的形式，如：\n",
    "\n",
    "ls\n",
    "\n",
    "注意：测试命令中\"[\"和\"]\"与参数之间，以及参数与值之间，都有空格分割。否则会报语法错误。\n",
    "\n",
    "test命令可以判断三类条件（测试方法），采用什么测试方法由“参数”部分来加以区别：\n",
    "\n",
    "* 文件比较\n",
    "\n",
    "参数为：\n",
    "<left>表6-2 文件方面的测试</left>\n",
    "![文件方面的测试](images/6-5.jpg)\n",
    "\n",
    "* 字符串比较\n",
    "\n",
    "参数为：\n",
    "<left>表6-3 字符串方面的测试</left>\n",
    "![字符串方面的测试](images/6-6.jpg)\n",
    "\n",
    "* 数值比较\n",
    "\n",
    "参数为：\n",
    "<left>表6-4 数值方面的测试</left>\n",
    "![数字方面的测试](images/6-7.jpg)\n",
    "\n",
    "例如："
   ]
  },
  {
   "cell_type": "code",
   "execution_count": 38,
   "metadata": {
    "collapsed": false
   },
   "outputs": [
    {
     "name": "stdout",
     "output_type": "stream",
     "text": [
      "#!/bin/bash\r\n",
      "# disply home directory\r\n",
      "if [ -d $HOME ]\r\n",
      "then\r\n",
      "  echo \"Your HOME directory exists\"\r\n",
      "  cd $HOME\r\n",
      "  ls -a\r\n",
      "else\r\n",
      "  echo \"There is a problem with your HOME directory\"\r\n",
      "fi\r\n"
     ]
    }
   ],
   "source": [
    "cat workspace/example6"
   ]
  },
  {
   "cell_type": "code",
   "execution_count": 39,
   "metadata": {
    "collapsed": false
   },
   "outputs": [
    {
     "name": "stdout",
     "output_type": "stream",
     "text": [
      "Your HOME directory exists\r\n",
      ".   .bash_logout  .cache      .curlrc\t.jupyter  .profile\r\n",
      "..  .bashrc\t  .continuum  .ipython\t.local\t  work\r\n"
     ]
    }
   ],
   "source": [
    "bash workspace/example6"
   ]
  },
  {
   "cell_type": "markdown",
   "metadata": {},
   "source": [
    "还可以使用case命令来实现多条件结构。命令行为：\n",
    "\n",
    "`\n",
    "case 字符串 in\n",
    "    模式)\n",
    "       语句\n",
    "        ;;\n",
    "    模式2 | 模式3)\n",
    "       语句\n",
    "       ;;\n",
    "    *)\n",
    "       默认执行的 语句\n",
    "       ;;\n",
    "esac\n",
    "`\n",
    "\n",
    "例如："
   ]
  },
  {
   "cell_type": "code",
   "execution_count": 2,
   "metadata": {
    "collapsed": false
   },
   "outputs": [
    {
     "name": "stdout",
     "output_type": "stream",
     "text": [
      "#!/bin/bash\r\n",
      "read -p \"input a number:\" NUMBER\r\n",
      "case $NUMBER in\r\n",
      "  1)\r\n",
      "    echo \"One\"\r\n",
      "    ;;\r\n",
      "  2)\r\n",
      "    echo \"Two\"\r\n",
      "    ;;\r\n",
      "  3)\r\n",
      "    echo \"Three\"\r\n",
      "    ;;\r\n",
      "  4)\r\n",
      "    echo \"Four\"\r\n",
      "    ;;\r\n",
      "  5)\r\n",
      "    echo \"Five\"\r\n",
      "    ;;\r\n",
      "  6)\r\n",
      "    echo \"Six\"\r\n",
      "    ;;\r\n",
      "  7)\r\n",
      "    echo \"Seven\"\r\n",
      "    ;;\r\n",
      "  8)\r\n",
      "    echo \"Eight\"\r\n",
      "    ;;\r\n",
      "  9)\r\n",
      "    echo \"Nine\"\r\n",
      "    ;;\r\n",
      "  0)\r\n",
      "    echo \"Zero\"\r\n",
      "    ;;\r\n",
      "  *)\r\n",
      "    echo \"Other number\"\r\n",
      "    ;;\r\n",
      "esac\r\n"
     ]
    }
   ],
   "source": [
    "cat workspace/example12"
   ]
  },
  {
   "cell_type": "markdown",
   "metadata": {},
   "source": [
    "在命令窗口中执行该程序：\n",
    "\n",
    "bash workspace/example12\n",
    "\n",
    "输出结果为：\n",
    "\n",
    "`\n",
    "input a number:2 \n",
    "Two\n",
    "`"
   ]
  },
  {
   "cell_type": "markdown",
   "metadata": {},
   "source": [
    "### 实验任务8\n",
    "\n",
    "写一个bash脚本文件，功能为：提示输入一个用户名，判断该名字是否是当前操作者。（提示：输入用户名可使用read命令，可使用whoami命令获取当前操作者）"
   ]
  },
  {
   "cell_type": "markdown",
   "metadata": {},
   "source": [
    "### (2) 循环结构\n",
    "\n",
    "shell的循环结构由while命令、for命令、until命令实现。\n",
    "\n",
    "for命令的格式为：\n",
    "\n",
    " `\n",
    "for  变量  in  值表\n",
    "do\n",
    "    命令表\n",
    "done\n",
    "`\n",
    "\n",
    "或： \n",
    "\n",
    "`\n",
    "for ((e1;e2;e3))\n",
    "do\n",
    "    命令表\n",
    "done\n",
    "`\n",
    "\n",
    "例如："
   ]
  },
  {
   "cell_type": "code",
   "execution_count": 40,
   "metadata": {
    "collapsed": false
   },
   "outputs": [
    {
     "name": "stdout",
     "output_type": "stream",
     "text": [
      "#!/bin/bash\r\n",
      "# for\r\n",
      "for i in 0 1 2 3 4\r\n",
      "do\r\n",
      "  echo $i Hello, world!\r\n",
      "done\r\n",
      "\r\n",
      "for ((i=0;i<5;i++))\r\n",
      "do\r\n",
      "  echo $i Hello, world!\r\n",
      "done\r\n"
     ]
    }
   ],
   "source": [
    "cat workspace/example7"
   ]
  },
  {
   "cell_type": "code",
   "execution_count": 41,
   "metadata": {
    "collapsed": false
   },
   "outputs": [
    {
     "name": "stdout",
     "output_type": "stream",
     "text": [
      "0 Hello, world!\r\n",
      "1 Hello, world!\r\n",
      "2 Hello, world!\r\n",
      "3 Hello, world!\r\n",
      "4 Hello, world!\r\n",
      "0 Hello, world!\r\n",
      "1 Hello, world!\r\n",
      "2 Hello, world!\r\n",
      "3 Hello, world!\r\n",
      "4 Hello, world!\r\n"
     ]
    }
   ],
   "source": [
    "bash workspace/example7"
   ]
  },
  {
   "cell_type": "markdown",
   "metadata": {},
   "source": [
    "while命令的格式为：\n",
    "\n",
    "`\n",
    "while  测试条件  \n",
    "do\n",
    "    命令表\n",
    "done\n",
    "`\n",
    "\n",
    "例如："
   ]
  },
  {
   "cell_type": "code",
   "execution_count": 42,
   "metadata": {
    "collapsed": false
   },
   "outputs": [
    {
     "name": "stdout",
     "output_type": "stream",
     "text": [
      "#!/bin/bash\r\n",
      "# while\r\n",
      "i=0\r\n",
      "while [ $i -ne 5 ]\r\n",
      "do\r\n",
      "  echo $i Hello, world!\r\n",
      "  i=$(($i+1))\r\n",
      "done\r\n"
     ]
    }
   ],
   "source": [
    "cat workspace/example8"
   ]
  },
  {
   "cell_type": "code",
   "execution_count": 43,
   "metadata": {
    "collapsed": false
   },
   "outputs": [
    {
     "name": "stdout",
     "output_type": "stream",
     "text": [
      "0 Hello, world!\r\n",
      "1 Hello, world!\r\n",
      "2 Hello, world!\r\n",
      "3 Hello, world!\r\n",
      "4 Hello, world!\r\n"
     ]
    }
   ],
   "source": [
    "bash workspace/example8"
   ]
  },
  {
   "cell_type": "markdown",
   "metadata": {},
   "source": [
    "until命令的格式为：\n",
    "\n",
    "`\n",
    "until   测试条件\n",
    "do\n",
    "    命令表\n",
    "done\n",
    "`\n",
    "\n",
    "例如："
   ]
  },
  {
   "cell_type": "code",
   "execution_count": 44,
   "metadata": {
    "collapsed": false
   },
   "outputs": [
    {
     "name": "stdout",
     "output_type": "stream",
     "text": [
      "#!/bin/bash\r\n",
      "# while\r\n",
      "i=0\r\n",
      "until [ $i -eq 5 ]\r\n",
      "do\r\n",
      "  echo $i Hello, world!\r\n",
      "  i=$(($i+1))\r\n",
      "done\r\n"
     ]
    }
   ],
   "source": [
    "cat workspace/example9"
   ]
  },
  {
   "cell_type": "code",
   "execution_count": 45,
   "metadata": {
    "collapsed": false
   },
   "outputs": [
    {
     "name": "stdout",
     "output_type": "stream",
     "text": [
      "0 Hello, world!\r\n",
      "1 Hello, world!\r\n",
      "2 Hello, world!\r\n",
      "3 Hello, world!\r\n",
      "4 Hello, world!\r\n"
     ]
    }
   ],
   "source": [
    "bash workspace/example9"
   ]
  },
  {
   "cell_type": "markdown",
   "metadata": {},
   "source": [
    "此外，控制循环的命令还包括：\n",
    "\n",
    "* break命令\n",
    "\n",
    "用于退出进行中的循环；\n",
    "\n",
    "* continue命令\n",
    "\n",
    "用于提早结束执行循环内部的命令，但不完全终止整个循环。\n",
    "\n",
    "例如："
   ]
  },
  {
   "cell_type": "code",
   "execution_count": 46,
   "metadata": {
    "collapsed": false
   },
   "outputs": [
    {
     "name": "stdout",
     "output_type": "stream",
     "text": [
      "#!/bin/bash\r\n",
      "num=0\r\n",
      "while [ $num -lt 5 ]\r\n",
      "do\r\n",
      "  num=$(($num+1))\r\n",
      "  if [ $(($num%2)) -eq 0 ]\r\n",
      "  then\r\n",
      "    continue\r\n",
      "  fi\r\n",
      "echo $num\r\n",
      "done\r\n"
     ]
    }
   ],
   "source": [
    "cat workspace/example10"
   ]
  },
  {
   "cell_type": "code",
   "execution_count": 47,
   "metadata": {
    "collapsed": false
   },
   "outputs": [
    {
     "name": "stdout",
     "output_type": "stream",
     "text": [
      "1\r\n",
      "3\r\n",
      "5\r\n"
     ]
    }
   ],
   "source": [
    "bash workspace/example10"
   ]
  },
  {
   "cell_type": "markdown",
   "metadata": {},
   "source": [
    "### 实验任务9\n",
    "\n",
    "写一个shell脚本，检查/notebooks/目录下的每个文件是一般文件还是目录。（提示：可使用for循环如：“for file in /notebooks/\\*”来列举/notebooks/目录下的文件）"
   ]
  },
  {
   "cell_type": "markdown",
   "metadata": {},
   "source": [
    "## 7.3、函数和参数传递\n",
    "\n",
    "函数定义的格式为：\n",
    "\n",
    "`\n",
    "[function] 函数名()\n",
    "{\n",
    "命令行;\n",
    "}\n",
    "`\n",
    "\n",
    "给函数传递参数使用特殊变量$1, $2......来进行，类似的，给脚本传递参数也是通过特殊变量$1, $2......来进行的。\n",
    "\n",
    "函数内可以通过local定义局部变量，否则变量是针对整个脚本的全局变量。\n",
    "\n",
    "例如："
   ]
  },
  {
   "cell_type": "code",
   "execution_count": 48,
   "metadata": {
    "collapsed": false
   },
   "outputs": [
    {
     "name": "stdout",
     "output_type": "stream",
     "text": [
      "#!/bin/bash\r\n",
      "# function\r\n",
      "func()\r\n",
      "{\r\n",
      "local a=\"Test\"\r\n",
      "b=\"change\"\r\n",
      "echo \"Let's begin now.\"\r\n",
      "echo $a $b $c\r\n",
      "echo $1 $2 $3\r\n",
      "echo \"The end.\"\r\n",
      "return 0\r\n",
      "}\r\n",
      "a=\"Working directory\"\r\n",
      "b=\"is\"\r\n",
      "c=`pwd`\r\n",
      "echo $a $b $c\r\n",
      "func Welcome You, $1\r\n",
      "echo $a $b $c\r\n"
     ]
    }
   ],
   "source": [
    "cat workspace/example11"
   ]
  },
  {
   "cell_type": "code",
   "execution_count": 49,
   "metadata": {
    "collapsed": false
   },
   "outputs": [
    {
     "name": "stdout",
     "output_type": "stream",
     "text": [
      "Working directory is /notebooks\r\n",
      "Let's begin now.\r\n",
      "Test change /notebooks\r\n",
      "Welcome You, me\r\n",
      "The end.\r\n",
      "Working directory change /notebooks\r\n"
     ]
    }
   ],
   "source": [
    "bash workspace/example11 me"
   ]
  },
  {
   "cell_type": "markdown",
   "metadata": {},
   "source": [
    "上述命令行使用bash workspace/example11 me方式启动example11脚本程序，其中me作为参数传递给shell。\n",
    "\n",
    "在example11中，”func Welcome You, \\$1“是对函数func的调用，参数是3个，分别为\"Welcome\",\"You,\"以及变量\"\\$1\"，其中，变量\\$1是启动example11脚本时的参数\"me\"，在函数func的”echo \\$1 \\$2 \\$3“语句中，\\$1, \\$2, \\$3对应调用函数func的3个参数，分别是\"Welcome\",\"You,\"以及变量\"\\$1\"的值“me”。func函数中定义了局部变量a，所以该函数对a变量的修改没有影响到函数外的a变量，而函数中修改了变量b的值，因此函数外部的b变量也发生了变化。"
   ]
  },
  {
   "cell_type": "markdown",
   "metadata": {},
   "source": [
    "## 8 实验任务\n",
    "\n",
    "### 实验任务10\n",
    "\n",
    "分析下面给出的Shell程序的功能，并运行、调试该程序（**注意：在putty的窗口中执行**）。\n",
    "\n",
    "    #!/bin/bash\n",
    "    IS_someone=`who | grep $1`\n",
    "    while [ -z \"$IS_someone\" ]\n",
    "    do\n",
    "      sleep 3\n",
    "      IS_someone=`who | grep $1`\n",
    "    done\n",
    "    echo \"watch it,$1 is online!\" | wall"
   ]
  },
  {
   "cell_type": "markdown",
   "metadata": {},
   "source": [
    "### 实验任务11\n",
    "\n",
    "请编写脚本，读入学号，输出学生成绩单中该学号对应的学生成绩（包括表的标题，表的名称），如：\n",
    "\n",
    "![任务10-1](images/task10-1.png)\n",
    "<center>图6-8 任务11-步骤1</center>\n",
    "\n",
    "![任务10-2](images/task10-2.png)\n",
    "<center>图6-9 任务11-步骤2</center>\n",
    "\n",
    "成绩单文件为/notebooks/workspace/data.txt，内容为："
   ]
  },
  {
   "cell_type": "code",
   "execution_count": 1,
   "metadata": {
    "collapsed": false
   },
   "outputs": [
    {
     "name": "stdout",
     "output_type": "stream",
     "text": [
      "课程总成绩\t\t\t\t\t\t\r\n",
      "学号\t姓名\t班级\t实验课\t平时成绩\t期末考试\t总成绩\r\n",
      "20111001\t白xx\t信安1101\t0.0 \t0.0 \t0 \t0 \r\n",
      "20111002\t杜xx\t信安1101\t0.0 \t0.0 \t0 \t0 \r\n",
      "20111003\t范xx\t信安1101\t0.0 \t0.0 \t0 \t0 \r\n"
     ]
    }
   ],
   "source": [
    "cat /notebooks/workspace/data.txt"
   ]
  },
  {
   "cell_type": "markdown",
   "metadata": {},
   "source": [
    "### 实验任务12\n",
    "\n",
    "画出实验启动脚本（实验包中的start.bash, config, function）的程序流程图（包括各函数的流程）。"
   ]
  },
  {
   "cell_type": "markdown",
   "metadata": {},
   "source": [
    "# 9 实验思考\n",
    "\n",
    "1、Shell脚本中的程序段有错误，但该程序段在运行中没有被该脚本执行，问错误能否被表现出来？\n",
    "\n",
    "2、总结Shell脚本查错的基本方法和过程。"
   ]
  },
  {
   "cell_type": "code",
   "execution_count": null,
   "metadata": {
    "collapsed": true
   },
   "outputs": [],
   "source": []
  }
 ],
 "metadata": {
  "kernelspec": {
   "display_name": "Bash",
   "language": "bash",
   "name": "bash"
  },
  "language_info": {
   "codemirror_mode": "shell",
   "file_extension": ".sh",
   "mimetype": "text/x-sh",
   "name": "bash"
  }
 },
 "nbformat": 4,
 "nbformat_minor": 0
}
