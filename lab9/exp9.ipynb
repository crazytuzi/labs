{
 "cells": [
  {
   "cell_type": "markdown",
   "metadata": {},
   "source": [
    "实验九 Linux环境安全管理\n",
    "======="
   ]
  },
  {
   "cell_type": "markdown",
   "metadata": {},
   "source": [
    "# 1. 实验类型\n",
    "\n",
    "验证型，4学时，必做实验\n",
    "\n",
    "\n",
    "# 2.  实验目的\n",
    "\n",
    "验证Linux环境安全和管理相关的操作，理解Linux系统安全性配置和管理原则，掌握实现安全配置和管理的基本方法。\n",
    "\n",
    "# 3. 题目描述\n",
    "\n",
    "本次实验以Linux环境下的信息系统安全方案的设计为目标，涉及信息安全设计和实现，以及信息安全管理的实现等内容，具体包括安全系统的设计、安全功能的实现、灾难恢复、安全审计等。\n",
    "\n",
    "# 4. 实验要求\n",
    "\n",
    "* 基本层次：学生通过指导书，熟练使用Linux环境的系统安全管理的基本命令，理解安全设计和管理的目的和方法；\n",
    "\n",
    "* 提高层次：在分析、讨论一个比较具体的安全设计和管理任务的基础上，组合、总结、分析所使用的安全设计和管理方法。\n",
    "\n",
    "* 通过任务，学生能初步掌握对Linux环境下的信息系统实施安全设计和管理的基本方法。\n",
    "\n",
    "# 5. 相关知识\n",
    "\n",
    "信息系统安全的对象主要包括操作系统和网络系统。操作系统的安全主要针对单个主机操作系统的安全性，网路系统的安全主要针对多个主机构成的网络系统的安全性，包括网络服务和网络基础设施。本实验指导书中重点学习Linux的操作系统安全性。\n",
    "\n",
    "操作系统的系统安全配置又叫做操作系统硬化，主要针对单个主机的操作系统进行配置，以尽可能的增加操作系统本身的安全性。通常的操作系统硬化措施主要有：\n",
    "\n",
    "* 把操作系统供应商提供的安全补丁都安装好；\n",
    "\n",
    "* 取消所有不必要的系统服务及网络服务；\n",
    "\n",
    "* 检查及紧固文件系统的访问权限；\n",
    "\n",
    "* 明晰用户权限，严格控制用户的访问权限。\n",
    "\n",
    "信息系统的安全防护是技术、管理和法律相结合的过程[6]，操作系统的安全管理是这个过程中非常重要的一部分，安全管理主要通过制定一系列针对信息系统安全对象的使用、修改、安全检查等方面的规则来保证操作系统的安全运行。本次实验主要针对操作系统的安全管理。"
   ]
  },
  {
   "cell_type": "markdown",
   "metadata": {},
   "source": [
    "Linux环境下的安全功能设计主要包括信息安全设计、运行安全设计以及物理安全设计，其中，信息安全设计的作用对象包括：帐号系统、文件系统等，运行安全设计的作用对象包括日志系统等，物理安全设计主要以机房、设备、介质、通信线路等为对象，不在本次实验中讨论。\n",
    "\n",
    "## 5.1、帐号系统\n",
    "\n",
    "帐号是Linux系统合法用户的标识。通常情况下，通过一个帐号，用户能获得的权利有：\n",
    "\n",
    "1)授权登录；\n",
    "\n",
    "2)授权访问服务。\n",
    "\n",
    "授权登录是用户享有的一种特权——Shell访问的权限，Shell访问是指用户使用Linux操作系统的Shell程序从而控制操作系统的过程；授权访问服务是指用户使用操作系统资源的过程，比如使用网络资源，通过ftp服务器使用Linux系统的文件资源。授权访问服务和授权登录并不总是同时具备，比如，能使用ftp服务并不意味着能登录系统。\n",
    "\n",
    "Linux的所有管理功能都由root帐号拥有，作为root，它控制着Linux系统的一切，其中包括用户帐号、文件、目录、网络资源等。\n",
    "\n",
    "一般来讲，Linux的帐号信息存放在passwd文件中。帐号信息的内容为：1)有效的用户名和口令占位符（出于安全考虑，实际上口令本身存放在其他文件中，见后描述）；2)主目录；3)shell访问。当用户试图登录时，Linux会核对passwd文件，以确定是否允许登录。\n",
    "\n",
    "passwd文件存放在/etc目录下，一个典型的passwd文件为:"
   ]
  },
  {
   "cell_type": "markdown",
   "metadata": {},
   "source": [
    "root:x:0:0:administrator:/root:/bin/bash\n",
    "\n",
    "bin:x:1:1:bin:/bin:/sbin/nologin\n",
    "\n",
    "daemon:x:2:2:daemon:/sbin:/sbin/nologin\n",
    "\n",
    "adm:x:3:4:adm:/var/adm:/sbin/nologin\n",
    "\n",
    "lp:x:4:7:lp:/var/spool/lpd:/sbin/nologin\n",
    "\n",
    "sync:x:5:0:sync:/sbin:/bin/sync\n",
    "\n",
    "user:x:502:503::/home/user:/bin/bash"
   ]
  },
  {
   "cell_type": "markdown",
   "metadata": {},
   "source": [
    "此文件每一行就是一个帐号信息，由7个部分组成，每个部分由“:”分隔：\n",
    "用户名:加密的口令或口令符:用户ID:组ID:真实姓名:用户主目录:用户shell\n",
    "例如:\n",
    "\n",
    "root:x:0:0:administrator:/root:/bin/bash\n",
    "\n",
    "表示root用户的ID号码为0，所属组ID号码为0，真实姓名为administrator，主目录位于/root。shell程序是/bin/bash，口令为占位符x，意味着包含口令，且加密后的口令存放在/etc/shadow文件中。"
   ]
  },
  {
   "cell_type": "markdown",
   "metadata": {},
   "source": [
    "## 5.2、文件系统\n",
    "\n",
    "Linux的文件系统控制用户对磁盘文件、目录等资源的访问，因为Linux的设备也是由文件形式表现的，因此，文件系统的访问控制也包含了对设备的访问控制。\n",
    "\n",
    "Linux通过建立访问权限来限制用户访问文件和目录的范围。有3种基本的访问权限类型：\n",
    "\n",
    "* 读（R, Read）---允许用户读指定的文件；\n",
    "\n",
    "* 写（W, Write）---允许用户修改指定的文件；\n",
    "\n",
    "* 执行（X, eXcute）---允许用户执行指定的文件或者进入指定文件。\n",
    "\n",
    "每个文件的访问权限状态由符号来表达：\n",
    "\n",
    "* 读---r\n",
    "\n",
    "* 写---w\n",
    "\n",
    "* 执行---x\n",
    "\n",
    "按照所针对的用户，文件的权限可分为3类：\n",
    "\n",
    "* 文件属主，创建该文件的用户。\n",
    "\n",
    "* 同组用户，拥有该文件的用户组中的任何用户。\n",
    "\n",
    "* 其他用户，即不属于拥有该文件的用户组的某一用户。\n",
    "\n",
    "要确定文件或目录的访问权限类型,需要使用ls -l得到一个列表,如"
   ]
  },
  {
   "cell_type": "code",
   "execution_count": 1,
   "metadata": {
    "collapsed": false
   },
   "outputs": [
    {
     "name": "stdout",
     "output_type": "stream",
     "text": []
    }
   ],
   "source": [
    "cd workspace"
   ]
  },
  {
   "cell_type": "code",
   "execution_count": 2,
   "metadata": {
    "collapsed": false
   },
   "outputs": [
    {
     "name": "stdout",
     "output_type": "stream",
     "text": [
      "total 8\r\n",
      "-rw-rw-r-- 1 jovyan 1002  262 Nov 30 05:53 resolv.conf\r\n",
      "-rw-rw-r-- 1 jovyan 1002 2471 Nov 30 05:53 sources.list\r\n",
      "-rwxrwxr-x 1 jovyan 1002    0 Nov 30 05:53 welcome.msg\r\n"
     ]
    }
   ],
   "source": [
    "ls -l"
   ]
  },
  {
   "cell_type": "markdown",
   "metadata": {},
   "source": [
    "上例中,每行就是一个文件的信息.以最后一个文件信息为例:\n",
    "\n",
    "--w-r--r-- 1 root root    0 Oct 19 14:16 welcome.msg\n",
    "\n",
    "该信息分为7个部分，分别为：类型和权限、链接数、文件属主(文件所属用户)、文件所属组、大小、修改时间、文件名。与文件访问相关的属性包括类型和权限、文件属主、文件所属组3个部分。\n",
    "\n",
    "类型和权限部分由10个字符来描述，如上例”--w-r--r--”，这10个字符分为两个部分：第1个字符为文件类型，后9个字符为权限。\n",
    "\n",
    "类型描述为以下几个字符:\n",
    "\n",
    "d 目录。\n",
    "\n",
    "l 符号链接(指向另一个文件)。\n",
    "\n",
    "s 套接字文件。\n",
    "\n",
    "b 块设备文件。\n",
    "\n",
    "c 字符设备文件。\n",
    "\n",
    "p 命名管道文件。\n",
    "\n",
    "\\- 普通文件，或者更准确地说，不属于以上几种类型的文件。\n",
    "\n",
    "注意：在Linux中，文件、目录、设备都是以”文件”的方式表达。\n",
    "\n",
    "权限部分分成3个部分，每3个字符为一个部分，分别表示对文件所属用户、文件所属组、系统中其他用户的访问权限。字符由r、w、x来表示，-表示不具备该属性。\n",
    "\n",
    "因此，”--w-r--r--”表示该文件为普通文件，对文件所属用户权限为-w-，即不可读、可写、不可执行；对文件所属组权限为r--，即可读、不可写、不可执行；对其它用户权限为r--，即可读、不可写、不可执行。\n",
    "\n",
    "有时,这9位权限位可以由二进制来表示，每一位由一个二进制位表示，权限位”rw-r--r--”可以用二进制数110100100表示，即设置了权限的位由1表示，相反由0表示。这个二进制数还可以用八进制744来表示.\n",
    "\n",
    "综上所述,”--w-r--r-- 1 root root    0 Oct 19 14:16 welcome.msg”行表示welcome.msg文件是一个普通文件，最后修改时间为10-19，root用户可以对它进行写操作，属于root组的用户对它可以进行读操作，系统其它用户可以对它进行读操作。"
   ]
  },
  {
   "cell_type": "markdown",
   "metadata": {},
   "source": [
    "## 5.3、日志系统\n",
    "\n",
    "日志系统是用来记录操作系统运行记录、安全相关事件、错误及其他特定信息的系统。Linux的日志系统为rsyslog(reliable and extended syslogd)。rsyslog已被许多日志函数采纳，它用在许多保护措施中——任何程序都可以通过rsyslog 纪录事件。rsyslog可以纪录系统事件，可以写到一个文件或设备中，或给用户发送一个信息。它能纪录本地事件或通过网络纪录另一个主机上的事件。\n",
    "\n",
    "rsyslog配置文件为/etc/rsyslog.conf，以及/etc/rsyslog.d/\\*.conf（如/etc/rsyslog.d/50-default.conf），前者设置rsyslogd的运行参数，后者设置日志记录的对象。习惯上，多数rsyslog日志信息被设置为写到/var/log目录下的文件中，如syslog, \\*.log等。\n",
    "\n",
    "一个典型的rsyslog日志文件（如/var/log/syslog）的每行记录的内容包括时间、主机名、生成日志的程序名字（设备）和一个文本信息（消息），如日志记录：\n",
    "\n",
    "Nov  9 02:03:01 97147d080659 rsyslogd: rsyslogd's groupid changed to 104\n",
    "\n",
    "表示产生日志的时间是Nov  9 02:03:01，主机名称为97147d080659，产生日志记录的设备（程序）是rsyslogd，日志消息是rsyslogd's groupid changed to 104。\n",
    "\n",
    "rsyslog的配置文件/etc/rsyslog.d/50-default.conf指明rsyslogd程序记录日志的行为，包括记录什么日日志事件以及如何记录，rsyslogd在启动时查询配置文件。该文件由不同程序或消息分类的单个条目组成，每个占一行。对每类消息提供一个选择域和一个动作域。这两个域由tab隔开，其中，选择域指明消息的类型和优先级；动作域指明rsyslogd接收到一个与选择标准相匹配的消息时所执行的动作。\n",
    "\n",
    "选择域的包括多个选择器，每个每个选择器由“设备.优先级”组成，由“;”分割。其中，设备包括：\n",
    "\n",
    "* auth        –pam产生的日志\n",
    "* authpriv  –ssh,ftp等登录信息的验证信息\n",
    "* cron        –时间任务相关\n",
    "* kern        –内核\n",
    "* lpr           –打印\n",
    "* mail        –邮件\n",
    "* mark       –rsyslog服务内部的信息,时间标识\n",
    "* news       –新闻组\n",
    "* user        –用户程序产生的相关信息\n",
    "* uucp       –unix to unix copy, unix主机之间相关的通讯\n",
    "* local 1~7   –自定义的日志设备\n",
    "\n",
    "优先级包括：\n",
    "\n",
    "* debug       –有调式信息的，日志信息最多\n",
    "* info        –一般信息的日志，最常用\n",
    "* notice      –最具有重要性的普通条件的信息\n",
    "* warning     –警告级别\n",
    "* err         –错误级别，阻止某个功能或者模块不能正常工作的信息\n",
    "* crit        –严重级别，阻止整个系统或者整个软件不能正常工作的信息\n",
    "* alert       –需要立刻修改的信息\n",
    "* emerg       –内核崩溃等严重信息\n",
    "* none        –什么都不记录\n",
    "\n",
    "注意：当指明一个优先级时，rsyslogd将记录一个拥有相同或更高优先级的消息。所以如果指明\"crit\"，那所有标为crit、alert和emerg的消息将被纪录。\n",
    "\n",
    "每行的动作域指明当选择域选择了一个给定消息后，应该把这条消息发送到哪儿。例如，如果想把所有邮件消息记录到一个文件中，如下："
   ]
  },
  {
   "cell_type": "markdown",
   "metadata": {},
   "source": [
    "mail.\\*\t         /var/log/maillog"
   ]
  },
  {
   "cell_type": "markdown",
   "metadata": {},
   "source": [
    "下面一行表示将内核消息记录到/dev/console中。"
   ]
  },
  {
   "cell_type": "markdown",
   "metadata": {},
   "source": [
    "kern.\\*          /dev/console"
   ]
  },
  {
   "cell_type": "markdown",
   "metadata": {},
   "source": [
    "在有些情况下，可以把日志送到打印机，这样网络入侵者怎么修改日志都没有用了。rsyslog设备是一个攻击者的重要目标。一个为其他主机维护日志的系统对于防范服务器攻击特别脆弱，因此要特别注意防御。"
   ]
  },
  {
   "cell_type": "markdown",
   "metadata": {},
   "source": [
    "# 6. 实验设备\n",
    "\n",
    "实验者需要使用各自PC机上Windows操作系统的putty程序通过网络连接到Linux服务器，启动交互式实验指导书（浏览器方式），通过在实验指导书中增加内容（命令和文字），或访问[这里](/terminals/1)打开一个命令行窗口，完成实验指导书中的“实验任务”部分。Linux服务器地址由指导教师给出。\n",
    "\n",
    "** 实验中的命令需要以root身份运行，请使用sudo命令，命令行形式为：**\n",
    "\n",
    "`\n",
    "sudo 命令\n",
    "`\n",
    "\n",
    "例如，以root身份运行useradd命令，用来增加一个帐号user1，其命令行为：\n",
    "\n",
    "`\n",
    "sudo useradd user1\n",
    "`"
   ]
  },
  {
   "cell_type": "markdown",
   "metadata": {},
   "source": [
    "# 7. 实验指导\n",
    "\n",
    "## 7.1、帐号系统的管理\n",
    "\n",
    "### (1) 添加、删除用户和组\n",
    "\n",
    "添加用户帐号：\n",
    "\n",
    "useradd [-c comment] [-d home_dir][-e expire_date] [-f inactive_time][-g initial_group] [-G group[,...]][-m [-k skeleton_dir] | -M] [-n] [-o] [-p passwd] [-r][-s shell] [-u uid] name\n",
    "\n",
    "等价的命令为adduser: \n",
    "\n",
    "adduser  [options]  [--home  DIR]  [--shell  SHELL]  [--no-create-home]  [--uid ID]  [--firstuid ID] [--lastuid ID] [--ingroup GROUP | --gid  ID]  [--disabled-password]  [--disabled-login]  [--gecos      GECOS]  [--add_extra_groups]  [--encrypt-home] user\n",
    "\n",
    "删除用户帐号：\n",
    "\n",
    "userdel [-r] name\n",
    "\n",
    "等价的命令为deluser:\n",
    "\n",
    "deluser   [options]   [--force]   [--remove-home]  [--remove-all-files]  [--backup] [--backup-to DIR] user\n",
    "\n",
    "添加用户组：\n",
    "\n",
    "groupadd [-g gid [-o]] [-r] [-f] group\n",
    "\n",
    "等价的命令为addgroup:\n",
    "\n",
    "addgroup [options] [--gid ID] group\n",
    "\n",
    "删除用户组：\n",
    "\n",
    "groupdel group\n",
    "\n",
    "等价的命令为delgroup:\n",
    "\n",
    "delgroup [options] [--only-if-empty] group"
   ]
  },
  {
   "cell_type": "markdown",
   "metadata": {},
   "source": [
    "### (2) 改变帐号属性\n",
    "\n",
    "usermod [-u uid [-o]] [-g group] [-G group,...][-d home [-m]] [-s shell] [-c comment] [-l new_name][-f inactive] [-e expire ] [-p passwd] [-L|-U] name\n",
    "\n",
    "通过man page深入学习上述命令的使用，试试使用上述命令在实验环境中添加一个用户test，修改该用户帐号信息，使其不能登录系统（不是因为密码问题）。"
   ]
  },
  {
   "cell_type": "markdown",
   "metadata": {},
   "source": [
    "### (3) 修改帐号密码\n",
    "\n",
    "passwd [name]\n",
    "\n",
    "为用户name设置密码，如果没有给出用户名称，则设置当前登录用户的密码。只有对新建的用户设置了密码，该用户才能登录。"
   ]
  },
  {
   "cell_type": "markdown",
   "metadata": {},
   "source": [
    "### 实验任务1：\n",
    "\n",
    "1) 写出实验环境中root用户的主目录和登录shell。"
   ]
  },
  {
   "cell_type": "code",
   "execution_count": null,
   "metadata": {
    "collapsed": true
   },
   "outputs": [],
   "source": []
  },
  {
   "cell_type": "markdown",
   "metadata": {},
   "source": [
    "2) 创建3个用户user1, user2, user3，设置他们的用户主目录都为/home/user。"
   ]
  },
  {
   "cell_type": "code",
   "execution_count": null,
   "metadata": {
    "collapsed": true
   },
   "outputs": [],
   "source": []
  },
  {
   "cell_type": "markdown",
   "metadata": {},
   "source": [
    "## 7.2、文件系统\n",
    "\n",
    "### (1) 修改文件/目录访问权限\n",
    "\n",
    "chmod命令用来改变文件或目录的访问权限。用法：\n",
    "\n",
    "chmod [选项]... 模式[,模式]... 文件...\n",
    "\n",
    "或：chmod [选项]... 八进制模式 文件...\n",
    "\n",
    "或：chmod [选项]... --reference=参考文件 <文件>...\n",
    "\n",
    "更改每个文件的权限模式（即权限属性）。\n",
    "\n",
    "选项：\n",
    "\n",
    "-c, --changes 类似 --verbose，但只在有更改时才显示结果\n",
    "\n",
    "-f, --silent, --quiet 去除大部份的错误信息\n",
    "\n",
    "-v, --verbose 处理任何文件都会显示信息\n",
    "\n",
    "--reference=参考文件 使用<参考文件>的模式，而非自行指定权限模式\n",
    "\n",
    "-R, --recursive 以递归方式更改所有的文件及子目录\n",
    "\n",
    "--help 显示此帮助信息并离开\n",
    "\n",
    "--version 显示版本信息并离开\n",
    "\n",
    "模式由三部份组成：一个或以上的 ugoa 字母，表示跟文件相关的哪个用户/组的权限发生修改，其中，u表示文件的属主（即文件所有者），g表示文件所属的用户组，o表示其他用户，a表示所有用户；一个或以上的 + - = 符号，分别表示添加权限、去掉权限和设置权限；一个或以上的 rwxXstugo 字母，表示权限，其中，比如r表示读权限，w表示写权限，x表示执行权限。\n",
    "\n",
    "八进制/数字模式由a,b,c是三个数字构成，分别对应文件拥有者、文件所属用户组、其他用户的权限。a,b,c的计算方法：权限对应的数之和, r对应4，w对应2，x对应1，-对应0。\n",
    "\n",
    "例如，假设welcome.msg的属主（所有者）是用户root，要给root用户读取文件welcome.msg的权限，使用如下命令："
   ]
  },
  {
   "cell_type": "code",
   "execution_count": 3,
   "metadata": {
    "collapsed": false,
    "scrolled": false
   },
   "outputs": [
    {
     "name": "stdout",
     "output_type": "stream",
     "text": [
      "/notebooks/workspace\r\n"
     ]
    }
   ],
   "source": [
    "pwd"
   ]
  },
  {
   "cell_type": "code",
   "execution_count": 1,
   "metadata": {
    "collapsed": false
   },
   "outputs": [
    {
     "name": "stdout",
     "output_type": "stream",
     "text": []
    }
   ],
   "source": [
    "cd workspace/"
   ]
  },
  {
   "cell_type": "code",
   "execution_count": 4,
   "metadata": {
    "collapsed": false,
    "scrolled": false
   },
   "outputs": [
    {
     "name": "stdout",
     "output_type": "stream",
     "text": [
      "total 4\r\n",
      "-rw-r--r-- 1 root root 2471 Nov  8 03:00 sources.list\r\n",
      "--w-r--r-- 1 root root    0 Oct 19 14:16 welcome.msg\r\n"
     ]
    }
   ],
   "source": [
    "ls -l"
   ]
  },
  {
   "cell_type": "code",
   "execution_count": 6,
   "metadata": {
    "collapsed": false
   },
   "outputs": [
    {
     "name": "stdout",
     "output_type": "stream",
     "text": []
    }
   ],
   "source": [
    "chmod u+r welcome.msg"
   ]
  },
  {
   "cell_type": "code",
   "execution_count": 7,
   "metadata": {
    "collapsed": false,
    "scrolled": false
   },
   "outputs": [
    {
     "name": "stdout",
     "output_type": "stream",
     "text": [
      "total 4\r\n",
      "-rw-r--r-- 1 root root 2471 Nov  8 03:00 sources.list\r\n",
      "-rw-r--r-- 1 root root    0 Oct 19 14:16 welcome.msg\r\n"
     ]
    }
   ],
   "source": [
    "ls -l"
   ]
  },
  {
   "cell_type": "markdown",
   "metadata": {},
   "source": [
    "若使用八进制/数字模式修改welcome.msg为所有用户可执行，则需要执行命令："
   ]
  },
  {
   "cell_type": "code",
   "execution_count": 2,
   "metadata": {
    "collapsed": false
   },
   "outputs": [
    {
     "name": "stdout",
     "output_type": "stream",
     "text": []
    }
   ],
   "source": [
    "chmod 755 welcome.msg"
   ]
  },
  {
   "cell_type": "code",
   "execution_count": 3,
   "metadata": {
    "collapsed": false
   },
   "outputs": [
    {
     "name": "stdout",
     "output_type": "stream",
     "text": [
      "total 8\r\n",
      "-rw-rw-r-- 1 jovyan 1000  262 Oct 21 17:48 resolv.conf\r\n",
      "-rw-rw-r-- 1 jovyan 1000 2471 Oct 21 17:48 sources.list\r\n",
      "-rwxr-xr-x 1 jovyan 1000    0 Oct 21 17:48 welcome.msg\r\n"
     ]
    }
   ],
   "source": [
    "ls -l"
   ]
  },
  {
   "cell_type": "markdown",
   "metadata": {},
   "source": [
    "### (3) 测试\n",
    "\n",
    "测试文件访问权限是否设置正确，可以用两种方式验证：\n",
    "\n",
    "第一种是安装ssh服务，通过不同的用户远程登录服务器，进行文件的修改，测试权限设置是否满足；\n",
    "\n",
    "在实验环境中安装ssh服务的命令是：\n",
    "\n",
    "apt-get install openssh-server\n",
    "\n",
    "启动ssh服务的命令是：\n",
    "\n",
    "service ssh start\n",
    "\n",
    "另外一种是使用su命令，以其他用户的身份访问系统，进行文件的修改，测试权限设置。\n",
    "\n",
    "在实验环境中切换为其他用户身份的命令是：\n",
    "\n",
    "su 用户名\n",
    "\n",
    "之后需切换回root身份，使用exit命令。"
   ]
  },
  {
   "cell_type": "markdown",
   "metadata": {},
   "source": [
    "### 实验任务2：\n",
    "\n",
    "1) 修改/home/user目录的权限，使得：\n",
    "* user1对/home/user目录可浏览文件，创建文件，创建目录；\n",
    "* user2对/home/user目录不可创建文件、不可建目录，只可浏览文件；\n",
    "* user3不可访问/home/user目录，包括创建和浏览；\n",
    "* 测试权限设置是否正确。"
   ]
  },
  {
   "cell_type": "code",
   "execution_count": null,
   "metadata": {
    "collapsed": true
   },
   "outputs": [],
   "source": []
  },
  {
   "cell_type": "markdown",
   "metadata": {},
   "source": [
    "### (2) 设置文件时间属性\n",
    "\n",
    "touch命令用来改变文件的时间属性，包括访问时间、修改时间。用法：\n",
    "\n",
    "touch [选项] 文件名\n",
    "\n",
    "选项：\n",
    "\n",
    "-a\n",
    "    改变访问时间（如果不指定则改变访问时间和修改时间）\n",
    "\n",
    "-c, --no-create\n",
    "    不建立任何文件（否则若文件不存在则生成指定文件） \n",
    "\n",
    "-d, --date=STRING\n",
    "\n",
    "使用STRING所指定的时间而不是当前时间 \n",
    "\n",
    "-f\n",
    "\n",
    "（忽略此参数）\n",
    "\n",
    "-m\n",
    "\n",
    "仅仅改变修改时间 \n",
    "\n",
    "-r, --reference=FILE\n",
    "\n",
    "用指定文件FILE的时间属性来设置文件的时间属性 \n",
    "\n",
    "-t STAMP\n",
    "\n",
    "使用时间格式为[[CC]YY]MMDDhhmm[.ss]而不是当前时间来设置时间属性 \n",
    "\n",
    "--time=WORD\n",
    "\n",
    "如果WORD为access，atime或use，则改变访问时间，与-a参数一致；如果WORD为modify或mtime，则改变修改时间，与-m参数相同 \n",
    "\n",
    "--help\n",
    "\n",
    "仅显示帮助信息 \n",
    "\n",
    "--version\n",
    "\n",
    "仅显示版本信息\n",
    "\n",
    "通过man touch深入学习上述命令的使用。\n",
    "\n",
    "查看文件访问时间，使用ls -lu命令。"
   ]
  },
  {
   "cell_type": "markdown",
   "metadata": {},
   "source": [
    "### 实验任务3：\n",
    "\n",
    "1) 设置/notebooks/workspace/welcome.msg文件的访问时间为2005-11-7"
   ]
  },
  {
   "cell_type": "code",
   "execution_count": null,
   "metadata": {
    "collapsed": true
   },
   "outputs": [],
   "source": []
  },
  {
   "cell_type": "markdown",
   "metadata": {},
   "source": [
    "## 7.3、日志系统\n",
    "\n",
    "### (1) 安装\n",
    "\n",
    "实验环境中的安装命令为：\n",
    "\n",
    "apt-get install rsyslog\n",
    "\n",
    "### (2) 启动\n",
    "\n",
    "启动命令为：\n",
    "\n",
    "service rsyslog start\n",
    "\n",
    "### (3) 配置\n",
    "\n",
    "/etc/rsyslog.conf文件设置了rsyslog的运行参数，包括加载模块、网络端口、配置文件目录等，例如该文件下面一行设置了/etc/rsyslog.d目录下的所有.conf文件也是配置文件。\n",
    "\n",
    "$IncludeConfig /etc/rsyslog.d/*.conf\n",
    "\n",
    "因此，/etc/rsyslog.d/50-default.conf是配置文件，其中设置了使用rsyslog进行日志的对象和动作，具体如前所述。\n",
    "\n",
    "### (4) 测试\n",
    "\n",
    "有个小命令logger为rsyslog提供一个shell命令接口，使用户能创建日志记录。\n",
    "\n",
    "logger [-dhisV] [-f file] [-n server] [-P port] [-p pri] [-t tag] [-u socket] [message]  \n",
    "\n",
    "其中：\n",
    "\n",
    "-p, --priority priority\n",
    "\n",
    "以指定的优先级将message产生日志。优先级的格式为“设施.级别”，例如-p user.info将产生设施为user的info级别的日志记录。没有指定该选项，则默认为user.notice\n",
    "\n",
    "例如：logger -p user.info This is a test！\n",
    "\n",
    "它将产生一个如下的rsyslog记录：\n",
    "\n",
    "Aug 19 22:22:34 logger: This is a test!"
   ]
  },
  {
   "cell_type": "markdown",
   "metadata": {},
   "source": [
    "### 实验任务4：\n",
    "\n",
    "请写出实验系统中的至少3个日志文件的名称，并通过测试的方式解释这些日志文件的主要内容。"
   ]
  },
  {
   "cell_type": "raw",
   "metadata": {},
   "source": []
  },
  {
   "cell_type": "markdown",
   "metadata": {},
   "source": [
    "## 7.4、文件系统完整性检查\n",
    "\n",
    "因为大多数的操作系统入侵都会发生文件系统的变化，所以检查文件系统的完整性是判断操作系统是否被入侵的非常有效的手段。\n",
    "\n",
    "tripwire是一个非常优秀的审查文件系统完整性的工具，通过配置，tripwire能审查指定文件是否发生变化，从而为系统是否被入侵提供判断依据。\n",
    "\n",
    "tripwire有四种操作模式：数据库生成、完整性检查、数据库更新和交互式更新。\n",
    "* 数据库生成模式产生一个基线数据库（即记录初始文件系统或受信任的文件系统状况的数据库），为未来的比较打下基础；\n",
    "* 完整性检查是tripwire的主要模式，把当前文件签名（即当前文件系统状况）和基线数据库进行比较来进行检查；\n",
    "* 后面两种更新模式允许用户调整tripwire数据库以消除不感兴趣的结果以及应付正常的系统变化，例如当用户账号正常增加或删除时，不希望 tripwire重复报告/etc/passwd文件被改动了。"
   ]
  },
  {
   "cell_type": "markdown",
   "metadata": {},
   "source": [
    "在实验环境中安装tripwire包使用命令：\n",
    "\n",
    "apt-get install tripwire\n",
    "\n",
    "安装过程中会提示输入两个密码，目的是为保密存储基线数据库生成加密密钥文件。如果想在完成安装后修改密码，实验环境中可以使用命令：\n",
    "\n",
    "dpkg-reconfigure tripwire"
   ]
  },
  {
   "cell_type": "markdown",
   "metadata": {},
   "source": [
    "### (1) 数据库生成\n",
    "\n",
    "使用如下命令生成基线数据库：\n",
    "\n",
    "tripwire --init\n",
    "\n",
    "### (2) 策略配置\n",
    "\n",
    "tripwire的配置文件是/etc/tripwire/twcfg.txt和/etc/tripwire/twpol.txt，前者设置tripwire软件的运行环境，如配置文件的位置、默认参数等，后者设置tripwire需要检查的文件、检查方式等。具体配置请参考/usr/share/doc/tripwire/examples/policyguide.tar.gz（可使用zless命令进行查看），配置完成后需要运行下面的命令生成加密的配置文件和基线数据库:\n",
    "\n",
    "tripwire --update-policy /etc/tripwire/twpol.txt\n",
    "\n",
    "### (3) 完整性检查\n",
    "\n",
    "使用如下命令检查文件系统完整性：\n",
    "\n",
    "tripwire --check [文件]\n",
    "\n",
    "查看检查报告：\n",
    "\n",
    "twprint -m r --twrfile tripwire检查报告\n",
    "\n",
    "#### 举例：\n",
    "\n",
    "tripwire --check /etc/passwd\n",
    "\n",
    "twprint -m r --twrfile /var/lib/tripwire/report/27420258f519-20151108-040241.twr                                                                  \n",
    "\n",
    "### (4) 数据库更新\n",
    "\n",
    "使用如下命令将基线数据库更新，以保证受信任的文件系统的改变不影响完整性检查：\n",
    "\n",
    "tripwire --update -r tripwire报告文件\n",
    "\n",
    "#### 举例：\n",
    "\n",
    "tripwire --update -r /var/lib/tripwire/report/27420258f519-20151108-040241.twr                                                              \n",
    "\n",
    "### (5) 交互式更新\n",
    "\n",
    "tripwire的商业版本提供一个与用户交互的界面以完成上面三个功能，实验环境中不提供该功能。\n",
    "\n",
    "请参考tripwire的man文档认真学习tripwire的使用。"
   ]
  },
  {
   "cell_type": "markdown",
   "metadata": {},
   "source": [
    "### 实验任务5：\n",
    "\n",
    "1) 检查增加用户帐号操作后/etc/passwd文件的完整性变化，具体步骤包括：\n",
    "* 确认/etc/passwd文件在tripwire的检查列表中\n",
    "* 生成基线数据库\n",
    "* 增加用户帐号操作\n",
    "* 检查文件完整性\n",
    "* 更新基线数据库\n",
    "* 检查文件完整性"
   ]
  },
  {
   "cell_type": "code",
   "execution_count": null,
   "metadata": {
    "collapsed": true
   },
   "outputs": [],
   "source": []
  },
  {
   "cell_type": "markdown",
   "metadata": {},
   "source": [
    "# 8 实验思考\n",
    "\n",
    "1、如何设置一个用户属于多个组？\n",
    "\n",
    "2、系统的日志文件有哪些，是什么内容？如何查看rsyslog日志？\n",
    "\n",
    "3、文件系统完整性检查的基本步骤有哪些？该功能可以应用在什么场景下？"
   ]
  },
  {
   "cell_type": "code",
   "execution_count": null,
   "metadata": {
    "collapsed": true
   },
   "outputs": [],
   "source": []
  }
 ],
 "metadata": {
  "kernelspec": {
   "display_name": "Bash",
   "language": "bash",
   "name": "bash"
  },
  "language_info": {
   "codemirror_mode": "shell",
   "file_extension": ".sh",
   "mimetype": "text/x-sh",
   "name": "bash"
  }
 },
 "nbformat": 4,
 "nbformat_minor": 0
}
