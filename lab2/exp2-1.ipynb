{
 "cells": [
  {
   "cell_type": "markdown",
   "metadata": {},
   "source": [
    "实验二 Linux环境安装-(1)应用软件安装\n",
    "========"
   ]
  },
  {
   "cell_type": "markdown",
   "metadata": {},
   "source": [
    "# 1. 实验类型\n",
    "\n",
    "验证型，2学时，必做实验\n",
    "\n",
    "# 2. 实验目的\n",
    "\n",
    "了解Linux上软件安装包的类型，验证在Linux上安装和卸载二进制包和源代码包的过程，掌握Linux上安装和卸载软件的方法。\n",
    "\n",
    "# 3. 题目描述\n",
    "\n",
    "通过例子，学习Linux下两种安装包的安装和卸载方法：源代码包和二进制程序包。\n",
    "\n",
    "# 4. 实验要求\n",
    "\n",
    "基本层次：了解Linux软件安装包的不同类型，掌握基本的安装和卸载过程。\n",
    "\n",
    "提高层次：灵活运用安装工具，查询系统安装的软件。"
   ]
  },
  {
   "cell_type": "markdown",
   "metadata": {},
   "source": [
    "# 5. 相关知识\n",
    "\n",
    "Linux下安装软件包括本地安装和网络安装两种方式。本地安装需要拷贝安装包文件到安装主机上，进行安装；而网络安装方式是使用Linux上的包管理器，自动通过网络下载安装包文件，进行安装。\n",
    "\n",
    "## 5.1、本地安装\n",
    "\n",
    "与在Windows下打开安装包，点击“下一步”完成安装软件的过程不同，Linux字符界面下安装软件需要使用特定的命令来进行。待安装的软件同Windows下的安装包一样被压缩在一个文件中，不同的是，安装的软件可能是已经编译好的可执行文件和支持库，也可能是软件的源代码形式，这两种形式的安装包，其安装过程区别较大，本次实验将学习这两种安装包的基本安装方法。\n",
    "\n",
    "Linux下常见的安装包有好几种，通过安装包文件名的后缀，可以清楚的分辨出安装包的类型，以及相应须使用的安装工具。比如，后缀名为.rpm是RedHat发行版所使用安装包，需要使用rpm程序完成安装过程，后缀名为.deb的是Debian发行版所使用的安装包，需要使用dpkg程序进行安装和管理，后缀名为.tar.gz的不是哪个发行版本专用的安装包，而是通用的压缩文件。同一种安装包，可以包含二进制文件，也可以包含源代码文件，或者两者都包括，不过，通常情况下，发行版本专用的安装包一般仅仅包含二进制文件。\n",
    "\n",
    "使用安装软件，可以安装、卸载安装包，还可以查询安装包的信息，也可以对安装后的软件进行管理，比如列出安装的软件、版本号等等。除了方便安装过程外，使用安装包进行安装还有一个好处：判断依赖性和安装冲突。依赖性是指软件的使用依赖于其他软件，当这些所依赖的软件包没有安装时，新软件的安装将不能进行；安装冲突是指如果新安装的软件包已经被安装过，再次安装时，系统会做提示。"
   ]
  },
  {
   "cell_type": "markdown",
   "metadata": {},
   "source": [
    "本次实验介绍三种常用的安装包：RPM包、deb包和tar.gz包的安装过程。\n",
    "\n",
    "RPM的全称为Red Hat Package Manager（Red Hat包管理器），是RedHat Linux、Fedora等Linux发行版本使用的安装包。RPM安装包的命名有一定的格式，一般是“名称-版本-修正版.类型.rpm”的格式，类型表明软件运行的硬件平台以及软件包内的文件类型，如果为i386，则表示程序需要运行在一般基于Intel芯片的PC上，软件包内文件为二进制文件，比如mysoftware-1.0-1.i386.rpm；如果为src，则表示软件包内文件为源代码，需要编译成二进制软件才能运行。\n",
    "\n",
    "Deb是Debian Linux提供的安装程序，它与RPM十分类似，相应软件后缀为.deb。但Debian的包管理器dpkg只出现在Debian、Ubuntu中。\n",
    "\n",
    "tar.gz包是一个标准的压缩包，包内为源代码文件和自动编译脚本，需要使用编译命令完成编译，然后完成软件的安装、卸载操作。tar.gz包的安装流程一般取决于软件开发者的设计，不太一致，建议参考安装包中的README文档。"
   ]
  },
  {
   "cell_type": "markdown",
   "metadata": {},
   "source": [
    "## 5.2、网络安装\n",
    "\n",
    "目前Linux的各种发行版都使用了软件包管理器进行安装过程的管理，包括安装和卸载、更新已安装的软件包、跟踪已安装文件、保护配置文件等。这些包管理器能够从指定的服务器自动下载安装，自动调用本地安装程序进行安装，并且可以自动处理依赖性关系，一次安装所有依赖的软件包。网络安装包管理器是基于本地包管理器的，只不过增加了自动网络连接的功能。\n",
    "\n",
    "在RedHat和Fedora、SUSE、CentOS等Linux发行版本中的包管理器为YUM（Yellowdog Updater Modified)，详细信息请参考yum的man帮助文档。\n",
    "\n",
    "DNF是新一代基于RPM包的软件包管理器，它首先出现在 Fedora 18 这个发行版中，最近，DNF取代了YUM，正式成为 Fedora 22 的包管理器。DNF包管理器克服了YUM包管理器的一些瓶颈，提升了包括用户体验，内存占用，依赖分析，运行速度等多方面的内容。\n",
    "\n",
    "在Debian、Ubuntu等Linux发行版本中的软件包管理器为APT（Advanced Packaging Tool），由几个名字以“apt-”打头的程序组成，比如apt-get、apt-cache等。"
   ]
  },
  {
   "cell_type": "markdown",
   "metadata": {},
   "source": [
    "# 6. 实验设备\n",
    "\n",
    "实验者需要使用各自PC机上Windows操作系统的putty程序通过网络连接到Linux服务器（Linux服务器地址由指导教师给出），使用实现系统的交互界面启动实验环境，并用Windows中的Web浏览器访问实验指导书，在实验指导书指示的环境供完成实验内容。如果能够看到本文档，则表示环境建立成功。"
   ]
  },
  {
   "cell_type": "markdown",
   "metadata": {},
   "source": [
    "# 7. 实验指导\n",
    "\n",
    "** 注意：因为实验环境的限制，下面介绍的步骤中仅Ubuntu环境的安装过程（DEB包和apt包管理器）可以进行交互式验证，Redhat环境的安装过程（RPM包和yum包管理器）请在虚拟机中进行验证。**\n",
    "\n",
    "**下面的实验操作中，可能需要以系统管理员的身份运行，请先执行sudo -s命令切换为root身份。**"
   ]
  },
  {
   "cell_type": "markdown",
   "metadata": {},
   "source": [
    "## 7.1、本地安装\n",
    "\n",
    "### （1）RPM包\n",
    "\n",
    "RPM包的管理是由rpm命令来实现，命令行形式为：\n",
    "\n",
    "rpm {选项} [参数]\n",
    "\n",
    "其选项按照功能分为一下几类：\n",
    "\n",
    "* 查询和验证；\n",
    "\n",
    "* 安装、升级和卸载；\n",
    "\n",
    "* 其他。\n",
    "\n",
    "1) 查询和验证的主要参数\n",
    "\n",
    "-a, --all                        查询/验证所有包\n",
    "\n",
    "-p, --package               查询/验证一个包文件\n",
    "\n",
    "-l, --list                        列出包中的文件\n",
    "\n",
    "-d, --docfiles               列出包中的文档\n",
    "\n",
    "-f, --file                       查询/验证包含指定文件的包\n",
    "\n",
    "举例：\n",
    "\n",
    "所有已安装的软件包使用如下命令：\n",
    "\n",
    "\\#rpm -qa"
   ]
  },
  {
   "cell_type": "markdown",
   "metadata": {},
   "source": [
    "2) 安装、升级和卸载的主要参数\n",
    "\n",
    "-i  安装软件。\n",
    "\n",
    "-t  测试安装，不是真的安装。 \n",
    "\n",
    "-p  显示安装进度。\n",
    "\n",
    "-f  忽略任何错误。\n",
    "\n",
    "-U  升级安装。\n",
    "\n",
    "-v  检测套件是否正确安装。\n",
    "\n",
    "这些参数可以同时采用。更多的内容可以参考RPM的man帮助。\n",
    "\n",
    "举例：\n",
    "\n",
    "使用如下命令安装软件包：\n",
    "\n",
    "\\#rpm -ivh MYsoftware-1.2 -1.i386.rpm\n",
    "\n",
    "卸载RPM包需要使用如下命令\n",
    "\n",
    "\\#rpm -e 软件名\n",
    "\n",
    "需要说明的是，上面代码中使用的是软件名，而不是软件包名。例如，要卸载software-1.2.-1.i386.rpm这个包时，应执行：\n",
    "\n",
    "\\#rpm -e software\n",
    "\n",
    "另外，安装.src.rpm类型的文件需要使用如下命令：\n",
    "\n",
    "\\#rpm --rebuild Filename.src.rpm\n",
    "\n",
    "这时系统会建立一个文件Filenamr.rpm，在/usr/src/redflag/RPMS/子目录下，一般是i386子目录，具体情况和Linux发行版本有关。然后执行下面代码即可：\n",
    "\n",
    "\\#rpm -ivh /usr/src/regflag/RPMS/i386/Filename.rpm\n",
    "\n",
    "### （2）DEB包（可验证）\n",
    "\n",
    "DEB包的管理是由dpkg命令来实现的，命令行形式为：\n",
    "\n",
    "dpkg {选项} {动作}\n",
    "\n",
    "\"动作\"部分主要包括：\n",
    "\n",
    "1) 安装多个DEB安装包\n",
    "\n",
    "-i, --install package-file...       \n",
    "\n",
    "2) 解压多个DEB安装包\n",
    "\n",
    "--unpack package-file...          \n",
    "\n",
    "3) 列出满足模式条件的包\n",
    "\n",
    "-l, --list package-name-pattern...     \n",
    "                  \n",
    "4) 报告指定包的状态\n",
    "\n",
    "-s, --status package-name...           \n",
    "                  \n",
    "5) 列出系统中安装的包中的文件\n",
    "\n",
    "-L, --listfiles package-name... \n",
    "\n",
    "6) 通过文件名称搜索该文件对应的安装包\n",
    "\n",
    "-S, --search filename-search-pattern...      \n",
    "\n",
    "7) 打印包的详情\n",
    "-p, --print-avail package-name...        \n",
    "\n",
    "举例（删除包含/bin/netcat的包）："
   ]
  },
  {
   "cell_type": "markdown",
   "metadata": {},
   "source": [
    "1) 找出包含netcat文件的包"
   ]
  },
  {
   "cell_type": "code",
   "execution_count": 1,
   "metadata": {
    "collapsed": false
   },
   "outputs": [
    {
     "name": "stdout",
     "output_type": "stream",
     "text": [
      "netcat-openbsd: /usr/share/doc/netcat-openbsd/examples/contrib\r\n",
      "netcat-openbsd: /usr/share/doc/netcat-openbsd/examples/webproxy.gz\r\n",
      "netcat-openbsd: /usr/share/doc/netcat-openbsd/examples/contrib/ncmeter\r\n",
      "netcat-openbsd: /usr/share/doc/netcat-openbsd/examples/alta\r\n",
      "netcat-openbsd: /usr/share/doc/netcat-openbsd/examples/irc\r\n",
      "netcat-openbsd: /usr/share/doc/netcat-openbsd/examples\r\n",
      "netcat-openbsd: /usr/share/doc/netcat-openbsd/examples/iscan\r\n",
      "netcat-openbsd: /usr/share/doc/netcat-openbsd/examples/probe\r\n",
      "netcat-openbsd: /usr/share/doc/netcat-openbsd/copyright\r\n",
      "netcat-openbsd: /usr/share/doc/netcat-openbsd/examples/dist.sh\r\n",
      "netcat-openbsd: /usr/share/doc/netcat-openbsd/README.Debian\r\n",
      "netcat-openbsd: /usr/share/doc/netcat-openbsd/examples/bsh\r\n",
      "netcat-openbsd: /usr/share/doc/netcat-openbsd/examples/ncp\r\n",
      "netcat-openbsd: /usr/share/doc/netcat-openbsd/changelog.Debian.gz\r\n",
      "netcat-openbsd: /usr/share/doc/netcat-openbsd\r\n",
      "netcat-openbsd: /usr/share/doc/netcat-openbsd/examples/webrelay\r\n",
      "netcat-openbsd: /usr/share/doc/netcat-openbsd/examples/websearch\r\n",
      "netcat-openbsd: /usr/share/doc/netcat-openbsd/examples/web.gz\r\n",
      "netcat-openbsd: /usr/share/doc/netcat-openbsd/examples/README\r\n"
     ]
    }
   ],
   "source": [
    "dpkg -S netcat"
   ]
  },
  {
   "cell_type": "markdown",
   "metadata": {},
   "source": [
    "2) 列出系统中安装的包"
   ]
  },
  {
   "cell_type": "code",
   "execution_count": 2,
   "metadata": {
    "collapsed": false
   },
   "outputs": [
    {
     "name": "stdout",
     "output_type": "stream",
     "text": [
      "Desired=Unknown/Install/Remove/Purge/Hold\r\n",
      "| Status=Not/Inst/Conf-files/Unpacked/halF-conf/Half-inst/trig-aWait/Trig-pend\r\n",
      "|/ Err?=(none)/Reinst-required (Status,Err: uppercase=bad)\r\n",
      "||/ Name           Version      Architecture Description\r\n",
      "+++-==============-============-============-=================================\r\n",
      "ii  netcat-openbsd 1.105-7ubunt amd64        TCP/IP swiss army knife\r\n"
     ]
    }
   ],
   "source": [
    "dpkg -l netcat-openbsd"
   ]
  },
  {
   "cell_type": "code",
   "execution_count": 3,
   "metadata": {
    "collapsed": false
   },
   "outputs": [
    {
     "name": "stdout",
     "output_type": "stream",
     "text": [
      "/.\r\n",
      "/usr\r\n",
      "/usr/share\r\n",
      "/usr/share/man\r\n",
      "/usr/share/man/man1\r\n",
      "/usr/share/man/man1/nc_openbsd.1.gz\r\n",
      "/usr/share/doc\r\n",
      "/usr/share/doc/netcat-openbsd\r\n",
      "/usr/share/doc/netcat-openbsd/README.Debian\r\n",
      "/usr/share/doc/netcat-openbsd/copyright\r\n",
      "/usr/share/doc/netcat-openbsd/examples\r\n",
      "/usr/share/doc/netcat-openbsd/examples/README\r\n",
      "/usr/share/doc/netcat-openbsd/examples/irc\r\n",
      "/usr/share/doc/netcat-openbsd/examples/ncp\r\n",
      "/usr/share/doc/netcat-openbsd/examples/webrelay\r\n",
      "/usr/share/doc/netcat-openbsd/examples/dist.sh\r\n",
      "/usr/share/doc/netcat-openbsd/examples/bsh\r\n",
      "/usr/share/doc/netcat-openbsd/examples/probe\r\n",
      "/usr/share/doc/netcat-openbsd/examples/alta\r\n",
      "/usr/share/doc/netcat-openbsd/examples/webproxy.gz\r\n",
      "/usr/share/doc/netcat-openbsd/examples/contrib\r\n",
      "/usr/share/doc/netcat-openbsd/examples/contrib/ncmeter\r\n",
      "/usr/share/doc/netcat-openbsd/examples/web.gz\r\n",
      "/usr/share/doc/netcat-openbsd/examples/iscan\r\n",
      "/usr/share/doc/netcat-openbsd/examples/websearch\r\n",
      "/usr/share/doc/netcat-openbsd/changelog.Debian.gz\r\n",
      "/bin\r\n",
      "/bin/nc.openbsd\r\n",
      "/usr/share/man/man1/nc.openbsd.1.gz\r\n"
     ]
    }
   ],
   "source": [
    "dpkg -L netcat-openbsd"
   ]
  },
  {
   "cell_type": "markdown",
   "metadata": {},
   "source": [
    "列出netcat-openbsd包中的文件，其中/bin/nc.openbsd是可执行文件。"
   ]
  },
  {
   "cell_type": "code",
   "execution_count": 3,
   "metadata": {
    "collapsed": false
   },
   "outputs": [
    {
     "name": "stdout",
     "output_type": "stream",
     "text": [
      "OpenBSD netcat (Debian patchlevel 1.105-7ubuntu1)\r\n",
      "This is nc from the netcat-openbsd package. An alternative nc is available\r\n",
      "in the netcat-traditional package.\r\n",
      "usage: nc [-46bCDdhjklnrStUuvZz] [-I length] [-i interval] [-O length]\r\n",
      "\t  [-P proxy_username] [-p source_port] [-q seconds] [-s source]\r\n",
      "\t  [-T toskeyword] [-V rtable] [-w timeout] [-X proxy_protocol]\r\n",
      "\t  [-x proxy_address[:port]] [destination] [port]\r\n",
      "\tCommand Summary:\r\n",
      "\t\t-4\t\tUse IPv4\r\n",
      "\t\t-6\t\tUse IPv6\r\n",
      "\t\t-b\t\tAllow broadcast\r\n",
      "\t\t-C\t\tSend CRLF as line-ending\r\n",
      "\t\t-D\t\tEnable the debug socket option\r\n",
      "\t\t-d\t\tDetach from stdin\r\n",
      "\t\t-h\t\tThis help text\r\n",
      "\t\t-I length\tTCP receive buffer length\r\n",
      "\t\t-i secs\t\tDelay interval for lines sent, ports scanned\r\n",
      "\t\t-j\t\tUse jumbo frame\r\n",
      "\t\t-k\t\tKeep inbound sockets open for multiple connects\r\n",
      "\t\t-l\t\tListen mode, for inbound connects\r\n",
      "\t\t-n\t\tSuppress name/port resolutions\r\n",
      "\t\t-O length\tTCP send buffer length\r\n",
      "\t\t-P proxyuser\tUsername for proxy authentication\r\n",
      "\t\t-p port\t\tSpecify local port for remote connects\r\n",
      "        \t-q secs\t\tquit after EOF on stdin and delay of secs\r\n",
      "\t\t-r\t\tRandomize remote ports\r\n",
      "\t\t-S\t\tEnable the TCP MD5 signature option\r\n",
      "\t\t-s addr\t\tLocal source address\r\n",
      "\t\t-T toskeyword\tSet IP Type of Service\r\n",
      "\t\t-t\t\tAnswer TELNET negotiation\r\n",
      "\t\t-U\t\tUse UNIX domain socket\r\n",
      "\t\t-u\t\tUDP mode\r\n",
      "\t\t-V rtable\tSpecify alternate routing table\r\n",
      "\t\t-v\t\tVerbose\r\n",
      "\t\t-w secs\t\tTimeout for connects and final net reads\r\n",
      "\t\t-X proto\tProxy protocol: \"4\", \"5\" (SOCKS) or \"connect\"\r\n",
      "\t\t-x addr[:port]\tSpecify proxy address and port\r\n",
      "\t\t-Z\t\tDCCP mode\r\n",
      "\t\t-z\t\tZero-I/O mode [used for scanning]\r\n",
      "\tPort numbers can be individual or ranges: lo-hi [inclusive]\r\n"
     ]
    }
   ],
   "source": [
    "netcat -h"
   ]
  },
  {
   "cell_type": "markdown",
   "metadata": {},
   "source": [
    "netcat命令能够执行，表示netcat包已安装。因为netcat命令实际上就是netcat包中的/bin/nc.openbsd可执行文件，可以通过如下途径发现验证："
   ]
  },
  {
   "cell_type": "code",
   "execution_count": 4,
   "metadata": {
    "collapsed": false
   },
   "outputs": [
    {
     "name": "stdout",
     "output_type": "stream",
     "text": [
      "netcat: /bin/netcat /usr/share/man/man1/netcat.1.gz\r\n"
     ]
    }
   ],
   "source": [
    "whereis netcat"
   ]
  },
  {
   "cell_type": "markdown",
   "metadata": {},
   "source": [
    "该命令用于查询系统已安装的文件中，包含netcat名字的命令、源代码、帮助文档的路径。"
   ]
  },
  {
   "cell_type": "code",
   "execution_count": 5,
   "metadata": {
    "collapsed": false
   },
   "outputs": [
    {
     "name": "stdout",
     "output_type": "stream",
     "text": [
      "lrwxrwxrwx 1 root root 24 Aug 14  2015 \u001b[0m\u001b[01;36m/bin/netcat\u001b[0m -> /etc/alternatives/netcat\r\n"
     ]
    }
   ],
   "source": [
    "ls -l /bin/netcat"
   ]
  },
  {
   "cell_type": "markdown",
   "metadata": {},
   "source": [
    "结果显示：/bin/netcat命令实际上是/etc/alternatives/netcat文件的链接，再查看一下/etc/alternatives/netcat文件的属性："
   ]
  },
  {
   "cell_type": "code",
   "execution_count": 6,
   "metadata": {
    "collapsed": false
   },
   "outputs": [
    {
     "name": "stdout",
     "output_type": "stream",
     "text": [
      "lrwxrwxrwx 1 root root 15 Aug 14  2015 \u001b[0m\u001b[01;36m/etc/alternatives/netcat\u001b[0m -> /bin/nc.openbsd\r\n"
     ]
    }
   ],
   "source": [
    "ls -l /etc/alternatives/netcat"
   ]
  },
  {
   "cell_type": "markdown",
   "metadata": {},
   "source": [
    "结果表明，/etc/alternatives/netcat实际上是/bin/nc.openbsd的链接。因此，执行netcat命令时，实际上是在执行nc.openbsd命令。"
   ]
  },
  {
   "cell_type": "markdown",
   "metadata": {},
   "source": [
    "3) 删除该包"
   ]
  },
  {
   "cell_type": "code",
   "execution_count": 7,
   "metadata": {
    "collapsed": false
   },
   "outputs": [
    {
     "name": "stdout",
     "output_type": "stream",
     "text": [
      "dpkg: dependency problems prevent removal of netcat-openbsd:\r\n",
      " ubuntu-minimal depends on netcat-openbsd.\r\n",
      "\r\n",
      "dpkg: error processing package netcat-openbsd (--remove):\r\n",
      " dependency problems - not removing\r\n",
      "Errors were encountered while processing:\r\n",
      " netcat-openbsd\r\n"
     ]
    }
   ],
   "source": [
    "dpkg -r netcat-openbsd"
   ]
  },
  {
   "cell_type": "markdown",
   "metadata": {},
   "source": [
    "卸载没有成功，与ubuntu-minimal有关联，应该一起卸载掉。"
   ]
  },
  {
   "cell_type": "code",
   "execution_count": 8,
   "metadata": {
    "collapsed": false
   },
   "outputs": [
    {
     "name": "stdout",
     "output_type": "stream",
     "text": [
      "(Reading database ... \r",
      "(Reading database ... 5%\r",
      "(Reading database ... 10%\r",
      "(Reading database ... 15%\r",
      "(Reading database ... 20%\r",
      "(Reading database ... 25%\r",
      "(Reading database ... 30%\r",
      "(Reading database ... 35%\r",
      "(Reading database ... 40%\r",
      "(Reading database ... 45%\r",
      "(Reading database ... 50%\r",
      "(Reading database ... 55%\r",
      "(Reading database ... 60%\r",
      "(Reading database ... 65%\r",
      "(Reading database ... 70%\r",
      "(Reading database ... 75%\r",
      "(Reading database ... 80%\r",
      "(Reading database ... 85%\r",
      "(Reading database ... 90%\r",
      "(Reading database ... 95%\r",
      "(Reading database ... 100%\r",
      "(Reading database ... 28241 files and directories currently installed.)\r\n",
      "Removing ubuntu-minimal (1.325) ...\r\n",
      "Removing netcat-openbsd (1.105-7ubuntu1) ...\r\n"
     ]
    }
   ],
   "source": [
    "dpkg -r ubuntu-minimal netcat-openbsd"
   ]
  },
  {
   "cell_type": "markdown",
   "metadata": {},
   "source": [
    "4) 验证一下是否已经删除"
   ]
  },
  {
   "cell_type": "code",
   "execution_count": 9,
   "metadata": {
    "collapsed": false
   },
   "outputs": [
    {
     "name": "stdout",
     "output_type": "stream",
     "text": [
      "dpkg-query: no packages found matching netcat-openbsd\r\n"
     ]
    }
   ],
   "source": [
    "dpkg -l netcat-openbsd"
   ]
  },
  {
   "cell_type": "markdown",
   "metadata": {},
   "source": [
    "执行结果显示没有netcat-openbsd存在，表示该包已删除。"
   ]
  },
  {
   "cell_type": "code",
   "execution_count": 10,
   "metadata": {
    "collapsed": false
   },
   "outputs": [
    {
     "name": "stdout",
     "output_type": "stream",
     "text": [
      "bash: /bin/netcat: No such file or directory\r\n"
     ]
    }
   ],
   "source": [
    "netcat"
   ]
  },
  {
   "cell_type": "markdown",
   "metadata": {},
   "source": [
    "netcat命令是netcat-openbsd包中的命令文件，执行结果表明该命令不存在，即netcat-openbsd包已删除。"
   ]
  },
  {
   "cell_type": "markdown",
   "metadata": {},
   "source": [
    "### （3）tar.gz包\n",
    "\n",
    "基本步骤为：\n",
    "\n",
    "1）先解压包文件；\n",
    "\n",
    "2）阅读README和INSTALL文件；\n",
    "\n",
    "其中，INSTALL文件中包含了安装过程的详细解释，例如，如果想要改变安装位置等，可以通过改变编译、安装命令的运行选项来达到。\n",
    "\n",
    "3）编译，安装（或卸载）。\n",
    "\n",
    "解压mytools_1-4.tar.gz包，使用如下命令\n",
    "\n",
    "\\#tar -xvzf mytools_1-4.tar.gz\n",
    "\n",
    "tar是压缩/解压命令，具体用法请参考tar的man帮助。上例中表示解压操作(x)，显示详细信息(v)，解压缩zip格式(z)的文件，解压文件来源于文件(f)。\n",
    "解压后一般生成一个目录mytools_1-4，进入该目录，使用如下命令行：\n",
    "\n",
    "\\#./configure\n",
    "\n",
    "\\#make\n",
    "\n",
    "\\#make install\n",
    "\n",
    "如果需要卸载该包，在解压包中执行如下命令：\n",
    "\n",
    "\\#make uninstall"
   ]
  },
  {
   "cell_type": "markdown",
   "metadata": {},
   "source": [
    "举例：\n",
    "\n",
    "安装netcat-0.7.1.tar.gz\n",
    "\n",
    "这个包跟前述netcat-openbsd包的功能类似，只不过包含源代码内容，需要经过编译过程生成netcat可执行文件，然后才能安装。\n",
    "\n",
    "1) 解压文件"
   ]
  },
  {
   "cell_type": "code",
   "execution_count": 11,
   "metadata": {
    "collapsed": false
   },
   "outputs": [
    {
     "name": "stdout",
     "output_type": "stream",
     "text": [
      "/notebooks\r\n"
     ]
    }
   ],
   "source": [
    "pwd"
   ]
  },
  {
   "cell_type": "code",
   "execution_count": 1,
   "metadata": {
    "collapsed": false
   },
   "outputs": [
    {
     "name": "stdout",
     "output_type": "stream",
     "text": []
    }
   ],
   "source": [
    "cd workspace"
   ]
  },
  {
   "cell_type": "code",
   "execution_count": 2,
   "metadata": {
    "collapsed": false
   },
   "outputs": [
    {
     "name": "stdout",
     "output_type": "stream",
     "text": [
      "total 404\r\n",
      "-rw-rw-r-- 1 1002 1002 398872 Sep 21 10:27 netcat-0.7.1.tar.gz\r\n",
      "-rw-rw-r-- 1 1002 1002   2471 Sep 21 10:27 sources.list\r\n",
      "-rw-rw-r-- 1 1002 1002   1002 Sep 28 02:47 sources.list.tsinghua\r\n"
     ]
    }
   ],
   "source": [
    "ls -l"
   ]
  },
  {
   "cell_type": "code",
   "execution_count": 3,
   "metadata": {
    "collapsed": false
   },
   "outputs": [
    {
     "name": "stdout",
     "output_type": "stream",
     "text": []
    }
   ],
   "source": [
    "tar -xzf netcat-0.7.1.tar.gz"
   ]
  },
  {
   "cell_type": "code",
   "execution_count": 4,
   "metadata": {
    "collapsed": false
   },
   "outputs": [
    {
     "name": "stdout",
     "output_type": "stream",
     "text": [
      "total 408\r\n",
      "drwxrwxrwx 7 libuuid users   4096 Jan 11  2004 \u001b[0m\u001b[34;42mnetcat-0.7.1\u001b[0m\r\n",
      "-rw-rw-r-- 1    1002  1002 398872 Sep 21 10:27 netcat-0.7.1.tar.gz\r\n",
      "-rw-rw-r-- 1    1002  1002   2471 Sep 21 10:27 sources.list\r\n",
      "-rw-rw-r-- 1    1002  1002   1002 Sep 28 02:47 sources.list.tsinghua\r\n"
     ]
    }
   ],
   "source": [
    "ls -l"
   ]
  },
  {
   "cell_type": "markdown",
   "metadata": {},
   "source": [
    "2) 编译"
   ]
  },
  {
   "cell_type": "code",
   "execution_count": 16,
   "metadata": {
    "collapsed": false
   },
   "outputs": [
    {
     "name": "stdout",
     "output_type": "stream",
     "text": []
    }
   ],
   "source": [
    "cd netcat-0.7.1"
   ]
  },
  {
   "cell_type": "code",
   "execution_count": 17,
   "metadata": {
    "collapsed": false
   },
   "outputs": [
    {
     "name": "stdout",
     "output_type": "stream",
     "text": [
      "checking build system type... x86_64-unknown-linux-gnu\r\n",
      "checking host system type... x86_64-unknown-linux-gnu\r\n",
      "checking target system type... x86_64-unknown-linux-gnu\r\n",
      "checking for a BSD-compatible install... /usr/bin/install -c\r\n",
      "checking whether build environment is sane... yes\r\n",
      "checking for gawk... no\r\n",
      "checking for mawk... mawk\r\n",
      "checking whether make sets $(MAKE)... yes\r\n",
      "checking for gcc... gcc\r\n",
      "checking for C compiler default output file name... a.out\r\n",
      "checking whether the C compiler works... yes\r\n",
      "checking whether we are cross compiling... no\r\n",
      "checking for suffix of executables... \r\n",
      "checking for suffix of object files... o\r\n",
      "checking whether we are using the GNU C compiler... yes\r\n",
      "checking whether gcc accepts -g... yes\r\n",
      "checking for gcc option to accept ANSI C... none needed\r\n",
      "checking for style of include used by make... GNU\r\n",
      "checking dependency style of gcc... none\r\n",
      "checking how to run the C preprocessor... gcc -E\r\n",
      "checking for ranlib... ranlib\r\n",
      "checking for perl5... no\r\n",
      "checking for perl... /usr/bin/perl\r\n",
      "checking for pod2man... /usr/bin/pod2man\r\n",
      "checking for msgfmt... no\r\n",
      "checking for gmsgfmt... :\r\n",
      "checking for xgettext... no\r\n",
      "checking for msgmerge... no\r\n",
      "checking for ld used by GCC... /usr/bin/ld\r\n",
      "checking if the linker (/usr/bin/ld) is GNU ld... yes\r\n",
      "checking for shared library run path origin... done\r\n",
      "checking whether NLS is requested... yes\r\n",
      "checking for GNU gettext in libc... yes\r\n",
      "checking for strerror in -lcposix... no\r\n",
      "checking for egrep... grep -E\r\n",
      "checking for ANSI C header files... yes\r\n",
      "checking for an ANSI C-conforming const... yes\r\n",
      "checking for inline... inline\r\n",
      "checking for sys/types.h... yes\r\n",
      "checking for sys/stat.h... yes\r\n",
      "checking for stdlib.h... yes\r\n",
      "checking for string.h... yes\r\n",
      "checking for memory.h... yes\r\n",
      "checking for strings.h... yes\r\n",
      "checking for inttypes.h... yes\r\n",
      "checking for stdint.h... yes\r\n",
      "checking for unistd.h... yes\r\n",
      "checking for off_t... yes\r\n",
      "checking for size_t... yes\r\n",
      "checking for working alloca.h... yes\r\n",
      "checking for alloca... yes\r\n",
      "checking for stdlib.h... (cached) yes\r\n",
      "checking for unistd.h... (cached) yes\r\n",
      "checking for getpagesize... yes\r\n",
      "checking for working mmap... yes\r\n",
      "checking whether we are using the GNU C Library 2.1 or newer... yes\r\n",
      "checking whether integer division by zero raises SIGFPE... yes\r\n",
      "checking for inttypes.h... yes\r\n",
      "checking for stdint.h... yes\r\n",
      "checking for unsigned long long... yes\r\n",
      "checking for inttypes.h... yes\r\n",
      "checking whether the inttypes.h PRIxNN macros are broken... no\r\n",
      "checking argz.h usability... yes\r\n",
      "checking argz.h presence... yes\r\n",
      "checking for argz.h... yes\r\n",
      "checking limits.h usability... yes\r\n",
      "checking limits.h presence... yes\r\n",
      "checking for limits.h... yes\r\n",
      "checking locale.h usability... yes\r\n",
      "checking locale.h presence... yes\r\n",
      "checking for locale.h... yes\r\n",
      "checking nl_types.h usability... yes\r\n",
      "checking nl_types.h presence... yes\r\n",
      "checking for nl_types.h... yes\r\n",
      "checking malloc.h usability... yes\r\n",
      "checking malloc.h presence... yes\r\n",
      "checking for malloc.h... yes\r\n",
      "checking stddef.h usability... yes\r\n",
      "checking stddef.h presence... yes\r\n",
      "checking for stddef.h... yes\r\n",
      "checking for stdlib.h... (cached) yes\r\n",
      "checking for string.h... (cached) yes\r\n",
      "checking for unistd.h... (cached) yes\r\n",
      "checking sys/param.h usability... yes\r\n",
      "checking sys/param.h presence... yes\r\n",
      "checking for sys/param.h... yes\r\n",
      "checking for feof_unlocked... yes\r\n",
      "checking for fgets_unlocked... yes\r\n",
      "checking for getc_unlocked... yes\r\n",
      "checking for getcwd... yes\r\n",
      "checking for getegid... yes\r\n",
      "checking for geteuid... yes\r\n",
      "checking for getgid... yes\r\n",
      "checking for getuid... yes\r\n",
      "checking for mempcpy... yes\r\n",
      "checking for munmap... yes\r\n",
      "checking for putenv... yes\r\n",
      "checking for setenv... yes\r\n",
      "checking for setlocale... yes\r\n",
      "checking for stpcpy... yes\r\n",
      "checking for strcasecmp... yes\r\n",
      "checking for strdup... yes\r\n",
      "checking for strtoul... yes\r\n",
      "checking for tsearch... yes\r\n",
      "checking for __argz_count... yes\r\n",
      "checking for __argz_stringify... yes\r\n",
      "checking for __argz_next... yes\r\n",
      "checking for iconv... yes\r\n",
      "checking for iconv declaration... \r\n",
      "         extern size_t iconv (iconv_t cd, char * *inbuf, size_t *inbytesleft, char * *outbuf, size_t *outbytesleft);\r\n",
      "checking for nl_langinfo and CODESET... yes\r\n",
      "checking for LC_MESSAGES... yes\r\n",
      "checking for bison... no\r\n",
      "checking for gethostbyname... yes\r\n",
      "checking for socket... yes\r\n",
      "checking for putmsg in -lstr... no\r\n",
      "checking sys/sockio.h usability... no\r\n",
      "checking sys/sockio.h presence... no\r\n",
      "checking for sys/sockio.h... no\r\n",
      "checking for srandom... yes\r\n",
      "checking for random... yes\r\n",
      "checking for inet_pton... yes\r\n",
      "checking for inet_ntop... yes\r\n",
      "checking for struct sockaddr.sa_len... no\r\n",
      "checking for struct in_pktinfo... yes\r\n",
      "checking for in_port_t... yes\r\n",
      "checking for getopt_long... yes\r\n",
      "configure: creating ./config.status\r\n",
      "config.status: creating Makefile\r\n",
      "config.status: creating m4/Makefile\r\n",
      "config.status: creating lib/Makefile\r\n",
      "config.status: creating lib/contrib/Makefile\r\n",
      "config.status: creating src/Makefile\r\n",
      "config.status: creating doc/Makefile\r\n",
      "config.status: creating doc/drafts/Makefile\r\n",
      "config.status: creating po/Makefile.in\r\n",
      "config.status: creating doc/texi2pod.pl\r\n",
      "config.status: creating config.h\r\n",
      "config.status: config.h is unchanged\r\n",
      "config.status: executing depfiles commands\r\n",
      "config.status: executing default-1 commands\r\n",
      "config.status: creating po/POTFILES\r\n",
      "config.status: creating po/Makefile\r\n"
     ]
    }
   ],
   "source": [
    "./configure"
   ]
  },
  {
   "cell_type": "markdown",
   "metadata": {},
   "source": [
    "3) 安装"
   ]
  },
  {
   "cell_type": "code",
   "execution_count": 18,
   "metadata": {
    "collapsed": false
   },
   "outputs": [
    {
     "name": "stdout",
     "output_type": "stream",
     "text": [
      "Making install in m4\r\n",
      "make[1]: Entering directory `/notebooks/workspace/netcat-0.7.1/m4'\r\n",
      "make[2]: Entering directory `/notebooks/workspace/netcat-0.7.1/m4'\r\n",
      "make[2]: Nothing to be done for `install-exec-am'.\r\n",
      "make[2]: Nothing to be done for `install-data-am'.\r\n",
      "make[2]: Leaving directory `/notebooks/workspace/netcat-0.7.1/m4'\r\n",
      "make[1]: Leaving directory `/notebooks/workspace/netcat-0.7.1/m4'\r\n",
      "Making install in lib\r\n",
      "make[1]: Entering directory `/notebooks/workspace/netcat-0.7.1/lib'\r\n",
      "Making install in contrib\r\n",
      "make[2]: Entering directory `/notebooks/workspace/netcat-0.7.1/lib/contrib'\r\n",
      "make[3]: Entering directory `/notebooks/workspace/netcat-0.7.1/lib/contrib'\r\n",
      "make[3]: Nothing to be done for `install-exec-am'.\r\n",
      "make[3]: Nothing to be done for `install-data-am'.\r\n",
      "make[3]: Leaving directory `/notebooks/workspace/netcat-0.7.1/lib/contrib'\r\n",
      "make[2]: Leaving directory `/notebooks/workspace/netcat-0.7.1/lib/contrib'\r\n",
      "make[2]: Entering directory `/notebooks/workspace/netcat-0.7.1/lib'\r\n",
      "make[3]: Entering directory `/notebooks/workspace/netcat-0.7.1/lib'\r\n",
      "make[3]: Nothing to be done for `install-exec-am'.\r\n",
      "make[3]: Nothing to be done for `install-data-am'.\r\n",
      "make[3]: Leaving directory `/notebooks/workspace/netcat-0.7.1/lib'\r\n",
      "make[2]: Leaving directory `/notebooks/workspace/netcat-0.7.1/lib'\r\n",
      "make[1]: Leaving directory `/notebooks/workspace/netcat-0.7.1/lib'\r\n",
      "Making install in src\r\n",
      "make[1]: Entering directory `/notebooks/workspace/netcat-0.7.1/src'\r\n",
      "make[2]: Entering directory `/notebooks/workspace/netcat-0.7.1/src'\r\n",
      "/bin/bash ../mkinstalldirs /usr/local/bin\r\n",
      "  /usr/bin/install -c netcat /usr/local/bin/netcat\r\n",
      "make  install-exec-hook\r\n",
      "make[3]: Entering directory `/notebooks/workspace/netcat-0.7.1/src'\r\n",
      "Creating symlink to the shorter executable name\r\n",
      "make[3]: Leaving directory `/notebooks/workspace/netcat-0.7.1/src'\r\n",
      "make[2]: Nothing to be done for `install-data-am'.\r\n",
      "make[2]: Leaving directory `/notebooks/workspace/netcat-0.7.1/src'\r\n",
      "make[1]: Leaving directory `/notebooks/workspace/netcat-0.7.1/src'\r\n",
      "Making install in doc\r\n",
      "make[1]: Entering directory `/notebooks/workspace/netcat-0.7.1/doc'\r\n",
      "Making install in drafts\r\n",
      "make[2]: Entering directory `/notebooks/workspace/netcat-0.7.1/doc/drafts'\r\n",
      "make[3]: Entering directory `/notebooks/workspace/netcat-0.7.1/doc/drafts'\r\n",
      "make[3]: Nothing to be done for `install-exec-am'.\r\n",
      "make[3]: Nothing to be done for `install-data-am'.\r\n",
      "make[3]: Leaving directory `/notebooks/workspace/netcat-0.7.1/doc/drafts'\r\n",
      "make[2]: Leaving directory `/notebooks/workspace/netcat-0.7.1/doc/drafts'\r\n",
      "make[2]: Entering directory `/notebooks/workspace/netcat-0.7.1/doc'\r\n",
      "make[3]: Entering directory `/notebooks/workspace/netcat-0.7.1/doc'\r\n",
      "make[3]: Nothing to be done for `install-exec-am'.\r\n",
      "/bin/bash ../mkinstalldirs /usr/local/info\r\n",
      "mkdir -p -- /usr/local/info\r\n",
      " /usr/bin/install -c -m 644 ./netcat.info /usr/local/info/netcat.info\r\n",
      "/bin/bash ../mkinstalldirs /usr/local/man/man1\r\n",
      " /usr/bin/install -c -m 644 ./netcat.1 /usr/local/man/man1/netcat.1\r\n",
      "make[3]: Leaving directory `/notebooks/workspace/netcat-0.7.1/doc'\r\n",
      "make[2]: Leaving directory `/notebooks/workspace/netcat-0.7.1/doc'\r\n",
      "make[1]: Leaving directory `/notebooks/workspace/netcat-0.7.1/doc'\r\n",
      "Making install in po\r\n",
      "make[1]: Entering directory `/notebooks/workspace/netcat-0.7.1/po'\r\n",
      "/bin/sh `case \"./mkinstalldirs\" in /*) echo \"./mkinstalldirs\" ;; *) echo \".././mkinstalldirs\" ;; esac` /usr/local/share\r\n",
      "mkdir -p -- /usr/local/share/locale/it/LC_MESSAGES\r\n",
      "installing it.gmo as /usr/local/share/locale/it/LC_MESSAGES/netcat.mo\r\n",
      "mkdir -p -- /usr/local/share/locale/sk/LC_MESSAGES\r\n",
      "installing sk.gmo as /usr/local/share/locale/sk/LC_MESSAGES/netcat.mo\r\n",
      "if test \"netcat\" = \"gettext\"; then \\\r\n",
      "\t  /bin/sh `case \"./mkinstalldirs\" in /*) echo \"./mkinstalldirs\" ;; *) echo \".././mkinstalldirs\" ;; esac` /usr/local/share/gettext/po; \\\r\n",
      "\t  for file in Makefile.in.in Makevars remove-potcdate.sin quot.sed boldquot.sed en@quot.header en@boldquot.header insert-header.sin Rules-quot  ; do \\\r\n",
      "\t    /usr/bin/install -c -m 644 ./$file \\\r\n",
      "\t\t\t    /usr/local/share/gettext/po/$file; \\\r\n",
      "\t  done; \\\r\n",
      "\telse \\\r\n",
      "\t  : ; \\\r\n",
      "\tfi\r\n",
      "make[1]: Leaving directory `/notebooks/workspace/netcat-0.7.1/po'\r\n",
      "make[1]: Entering directory `/notebooks/workspace/netcat-0.7.1'\r\n",
      "make[2]: Entering directory `/notebooks/workspace/netcat-0.7.1'\r\n",
      "make[2]: Nothing to be done for `install-exec-am'.\r\n",
      "make[2]: Nothing to be done for `install-data-am'.\r\n",
      "make[2]: Leaving directory `/notebooks/workspace/netcat-0.7.1'\r\n",
      "make[1]: Leaving directory `/notebooks/workspace/netcat-0.7.1'\r\n"
     ]
    }
   ],
   "source": [
    "make install"
   ]
  },
  {
   "cell_type": "markdown",
   "metadata": {},
   "source": [
    "执行结果可见，netcat包被安装在默认的路径下：/usr/local/，其中可执行文件netcat位于/usr/local/bin/下。"
   ]
  },
  {
   "cell_type": "markdown",
   "metadata": {},
   "source": [
    "4) 验证"
   ]
  },
  {
   "cell_type": "code",
   "execution_count": 20,
   "metadata": {
    "collapsed": false
   },
   "outputs": [
    {
     "name": "stdout",
     "output_type": "stream",
     "text": [
      "GNU netcat 0.7.1, a rewrite of the famous networking tool.\r\n",
      "Basic usages:\r\n",
      "connect to somewhere:  /usr/local/bin/netcat [options] hostname port [port] ...\r\n",
      "listen for inbound:    /usr/local/bin/netcat -l -p port [options] [hostname] [port] ...\r\n",
      "tunnel to somewhere:   /usr/local/bin/netcat -L hostname:port -p port [options]\r\n",
      "\r\n",
      "Mandatory arguments to long options are mandatory for short options too.\r\n",
      "Options:\r\n",
      "  -c, --close                close connection on EOF from stdin\r\n",
      "  -e, --exec=PROGRAM         program to exec after connect\r\n",
      "  -g, --gateway=LIST         source-routing hop point[s], up to 8\r\n",
      "  -G, --pointer=NUM          source-routing pointer: 4, 8, 12, ...\r\n",
      "  -h, --help                 display this help and exit\r\n",
      "  -i, --interval=SECS        delay interval for lines sent, ports scanned\r\n",
      "  -l, --listen               listen mode, for inbound connects\r\n",
      "  -L, --tunnel=ADDRESS:PORT  forward local port to remote address\r\n",
      "  -n, --dont-resolve         numeric-only IP addresses, no DNS\r\n",
      "  -o, --output=FILE          output hexdump traffic to FILE (implies -x)\r\n",
      "  -p, --local-port=NUM       local port number\r\n",
      "  -r, --randomize            randomize local and remote ports\r\n",
      "  -s, --source=ADDRESS       local source address (ip or hostname)\r\n",
      "  -t, --tcp                  TCP mode (default)\r\n",
      "  -T, --telnet               answer using TELNET negotiation\r\n",
      "  -u, --udp                  UDP mode\r\n",
      "  -v, --verbose              verbose (use twice to be more verbose)\r\n",
      "  -V, --version              output version information and exit\r\n",
      "  -x, --hexdump              hexdump incoming and outgoing traffic\r\n",
      "  -w, --wait=SECS            timeout for connects and final net reads\r\n",
      "  -z, --zero                 zero-I/O mode (used for scanning)\r\n",
      "\r\n",
      "Remote port number can also be specified as range.  Example: '1-1024'\r\n",
      "\r\n"
     ]
    }
   ],
   "source": [
    "/usr/local/bin/netcat -h"
   ]
  },
  {
   "cell_type": "markdown",
   "metadata": {},
   "source": [
    "netcat命令文件是netcat-0.7.1包安装的文件，执行结果表明存在该命令，也就是表示安装成功。"
   ]
  },
  {
   "cell_type": "markdown",
   "metadata": {},
   "source": [
    "5) 卸载"
   ]
  },
  {
   "cell_type": "code",
   "execution_count": 21,
   "metadata": {
    "collapsed": false
   },
   "outputs": [
    {
     "name": "stdout",
     "output_type": "stream",
     "text": [
      "Making uninstall in m4\r\n",
      "make[1]: Entering directory `/notebooks/workspace/netcat-0.7.1/m4'\r\n",
      "make[1]: Nothing to be done for `uninstall'.\r\n",
      "make[1]: Leaving directory `/notebooks/workspace/netcat-0.7.1/m4'\r\n",
      "Making uninstall in lib\r\n",
      "make[1]: Entering directory `/notebooks/workspace/netcat-0.7.1/lib'\r\n",
      "Making uninstall in contrib\r\n",
      "make[2]: Entering directory `/notebooks/workspace/netcat-0.7.1/lib/contrib'\r\n",
      "make[2]: Nothing to be done for `uninstall'.\r\n",
      "make[2]: Leaving directory `/notebooks/workspace/netcat-0.7.1/lib/contrib'\r\n",
      "make[2]: Entering directory `/notebooks/workspace/netcat-0.7.1/lib'\r\n",
      "make[2]: Nothing to be done for `uninstall-am'.\r\n",
      "make[2]: Leaving directory `/notebooks/workspace/netcat-0.7.1/lib'\r\n",
      "make[1]: Leaving directory `/notebooks/workspace/netcat-0.7.1/lib'\r\n",
      "Making uninstall in src\r\n",
      "make[1]: Entering directory `/notebooks/workspace/netcat-0.7.1/src'\r\n",
      " rm -f /usr/local/bin/netcat\r\n",
      "make  uninstall-hook\r\n",
      "make[2]: Entering directory `/notebooks/workspace/netcat-0.7.1/src'\r\n",
      "Removing symlink to the shorter executable name\r\n",
      "make[2]: Leaving directory `/notebooks/workspace/netcat-0.7.1/src'\r\n",
      "make[1]: Leaving directory `/notebooks/workspace/netcat-0.7.1/src'\r\n",
      "Making uninstall in doc\r\n",
      "make[1]: Entering directory `/notebooks/workspace/netcat-0.7.1/doc'\r\n",
      "Making uninstall in drafts\r\n",
      "make[2]: Entering directory `/notebooks/workspace/netcat-0.7.1/doc/drafts'\r\n",
      "make[2]: Nothing to be done for `uninstall'.\r\n",
      "make[2]: Leaving directory `/notebooks/workspace/netcat-0.7.1/doc/drafts'\r\n",
      "make[2]: Entering directory `/notebooks/workspace/netcat-0.7.1/doc'\r\n",
      ":\r\n",
      " rm -f netcat.info netcat.info-[0-9] netcat.info-[0-9][0-9] netcat.i[0-9] netcat.i[0-9][0-9])\r\n",
      " rm -f /usr/local/man/man1/netcat.1\r\n",
      "make[2]: Leaving directory `/notebooks/workspace/netcat-0.7.1/doc'\r\n",
      "make[1]: Leaving directory `/notebooks/workspace/netcat-0.7.1/doc'\r\n",
      "Making uninstall in po\r\n",
      "make[1]: Entering directory `/notebooks/workspace/netcat-0.7.1/po'\r\n",
      "catalogs='it.gmo sk.gmo'; \\\r\n",
      "\tfor cat in $catalogs; do \\\r\n",
      "\t  cat=`basename $cat`; \\\r\n",
      "\t  lang=`echo $cat | sed -e 's/\\.gmo$//'`; \\\r\n",
      "\t  for lc in LC_MESSAGES ; do \\\r\n",
      "\t    rm -f /usr/local/share/locale/$lang/$lc/netcat.mo; \\\r\n",
      "\t  done; \\\r\n",
      "\tdone\r\n",
      "if test \"netcat\" = \"gettext\"; then \\\r\n",
      "\t  for file in Makefile.in.in Makevars remove-potcdate.sin quot.sed boldquot.sed en@quot.header en@boldquot.header insert-header.sin Rules-quot  ; do \\\r\n",
      "\t    rm -f /usr/local/share/gettext/po/$file; \\\r\n",
      "\t  done; \\\r\n",
      "\telse \\\r\n",
      "\t  : ; \\\r\n",
      "\tfi\r\n",
      "make[1]: Leaving directory `/notebooks/workspace/netcat-0.7.1/po'\r\n",
      "make[1]: Entering directory `/notebooks/workspace/netcat-0.7.1'\r\n",
      "make[1]: Nothing to be done for `uninstall-am'.\r\n",
      "make[1]: Leaving directory `/notebooks/workspace/netcat-0.7.1'\r\n"
     ]
    }
   ],
   "source": [
    "make uninstall"
   ]
  },
  {
   "cell_type": "code",
   "execution_count": 22,
   "metadata": {
    "collapsed": false
   },
   "outputs": [
    {
     "name": "stdout",
     "output_type": "stream",
     "text": [
      "bash: /usr/local/bin/netcat: No such file or directory\r\n"
     ]
    }
   ],
   "source": [
    "/usr/local/bin/netcat -h"
   ]
  },
  {
   "cell_type": "markdown",
   "metadata": {},
   "source": [
    "结果表明，netcat命令不存在，也就是说netcat-0.7.1包已经被卸载了。"
   ]
  },
  {
   "cell_type": "markdown",
   "metadata": {},
   "source": [
    "## 7.2、网络安装\n",
    "\n",
    "### (1) YUM（Fedora 22中已经不使用）\n",
    "\n",
    "YUM包管理器能够从指定的源空间（服务器，本地目录等）自动下载目标 RPM 包并且安装，可以自动处理依赖性关系并进行下载、安装，无须繁琐地手动下载、安装每一个需要的依赖包。此外，YUM 的另一个功能是进行系统中所有软件的升级。\n",
    "\n",
    "YUM的源空间的位置在Fedora中由 /etc/yum.repos.d/ 目录中的 .repo 文件配置指定。如下是位于中国科大的YUM源空间的文件fedora-ustc.repo：\n",
    "\n",
    "    [fedora] \n",
    "    name=Fedora $releasever - $basearch - ustc\n",
    "    failovermethod=priority \n",
    "    baseurl=http://mirrors.ustc.edu.cn/fedora/linux/releases/$releasever/Everything/$basearch/os/ \n",
    "    #mirrorlist=https://mirrors.fedoraproject.org/metalink?repo=fedora-$releasever&arch=$basearch \n",
    "    enabled=1 \n",
    "    metadata_expire=7d \n",
    "    gpgcheck=1 \n",
    "    gpgkey=file:///etc/pki/rpm-gpg/RPM-GPG-KEY-fedora-$basearch \n",
    " \n",
    "    [fedora-debuginfo] \n",
    "    name=Fedora $releasever - $basearch - Debug - ustc\n",
    "    failovermethod=priority \n",
    "    baseurl=http://mirrors.ustc.edu.cn/fedora/linux/releases/$releasever/Everything/$basearch/debug/ \n",
    "    #mirrorlist=https://mirrors.fedoraproject.org/metalink?repo=fedora-debug-$releasever&arch=$basearch \n",
    "    enabled=0 \n",
    "    metadata_expire=7d \n",
    "    gpgcheck=1\n",
    "    gpgkey=file:///etc/pki/rpm-gpg/RPM-GPG-KEY-fedora-$basearch \n",
    " \n",
    "    [fedora-source] \n",
    "    name=Fedora $releasever - Source - ustc\n",
    "failovermethod=priority \n",
    "baseurl=http://mirrors.ustc.edu.cn/fedora/linux/releases/$releasever/Everything/source/SRPMS/ \n",
    "    #mirrorlist=https://mirrors.fedoraproject.org/metalink?repo=fedora-source-$releasever&arch=$basearch \n",
    "    enabled=0 \n",
    "    metadata_expire=7d \n",
    "    gpgcheck=1 \n",
    "    gpgkey=file:///etc/pki/rpm-gpg/RPM-GPG-KEY-fedora-$basearch \n",
    "\n",
    "以及fedora-updates-ustc.repo\n",
    "\n",
    "    [updates]\n",
    "    name=Fedora $releasever - $basearch - Updates - ustc\n",
    "    failovermethod=priority \n",
    "    baseurl=http://mirrors.ustc.edu.cn/fedora/linux/updates/$releasever/$basearch/ \n",
    "    #mirrorlist=https://mirrors.fedoraproject.org/metalink?repo=updates-released-f$releasever&arch=$basearch \n",
    "    enabled=1 \n",
    "    gpgcheck=1 \n",
    "    gpgkey=file:///etc/pki/rpm-gpg/RPM-GPG-KEY-fedora-$basearch \n",
    "     \n",
    "    [updates-debuginfo] \n",
    "    name=Fedora $releasever - $basearch - Updates - Debug -ustc\n",
    "    failovermethod=priority \n",
    "    baseurl=http://mirrors.ustc.edu.cn/fedora/linux/updates/$releasever/$basearch/debug/ \n",
    "    #mirrorlist=https://mirrors.fedoraproject.org/metalink?repo=updates-released-debug-f$releasever&arch=$basearch \n",
    "    enabled=0 \n",
    "    gpgcheck=1 \n",
    "    gpgkey=file:///etc/pki/rpm-gpg/RPM-GPG-KEY-fedora-$basearch \n",
    "     \n",
    "    [updates-source] \n",
    "    name=Fedora $releasever - Updates Source - ustc\n",
    "failovermethod=priority \n",
    "baseurl=http://mirrors.ustc.edu.cn/fedora/linux/updates/$releasever/SRPMS/ \n",
    "    #mirrorlist=https://mirrors.fedoraproject.org/metalink?repo=updates-released-source-f$releasever&arch=$basearch \n",
    "    enabled=0 \n",
    "    gpgcheck=1 \n",
    "    gpgkey=file:///etc/pki/rpm-gpg/RPM-GPG-KEY-fedora-$basearch \n",
    "\n",
    "先备份/etc/yum.repos.d/fedora.repo和/etc/yum.repos.d/fedora-updates.repo，将 fedora-ustc.repo和 fedora-updates-ustc.repo放入/etc/yum.repos.d/中\n",
    "\n",
    "运行：\n",
    "\n",
    "\\#yum makecache \n",
    "\n",
    "更新缓存即可成功调整YUM源。 \n",
    "\n",
    "YUM 常用命令：\n",
    "\n",
    "1) 安装指定软件 :\n",
    "\n",
    "\\# yum -y install package-name\n",
    "\n",
    "2) 列出系统中已安装软件\n",
    "\n",
    "\\# yum list\n",
    "\n",
    "3) 列出系统中可升级的所有软件\n",
    "\n",
    "\\# yum check-update\n",
    "\n",
    "4) 升级系统中可升级的所有软件\n",
    "\n",
    "\\# yum update\n",
    "\n",
    "5) 升级指定软件\n",
    "\n",
    "\\# yum update package-name\n",
    "\n",
    "6) 在升级过程中接受所有互动问答\n",
    "\n",
    "\\# yum -y update\n",
    "\n",
    "7) 卸载指定软件\n",
    "\n",
    "\\# yum remove package-name\n",
    "\n",
    "### (2) DNF\n",
    "\n",
    "Fedora 22 已经默认安装DNF进行包管理，主要功能包括（[参考](http://www.linuxstory.org/dnf-commands-for-fedora-rpm-package-management/)）：\n",
    "\n",
    "1) 查看系统中可用的 DNF 软件库\n",
    "\n",
    "用处：该命令用于显示系统中可用的 DNF 软件库\n",
    "\n",
    "命令：# dnf repolist\n",
    "\n",
    "2) 列出所有 RPM 包\n",
    "\n",
    "用处：该命令用于列出用户系统上的所有来自软件库的可用软件包和所有已经安装在系统上的软件包\n",
    "\n",
    "命令：# dnf list\n",
    "\n",
    "3) 列出所有安装了的 RPM 包\n",
    "\n",
    "用处：该命令用于列出所有安装了的 RPM 包\n",
    "\n",
    "命令：# dnf list installed\n",
    "\n",
    "4) 搜索软件库中的 RPM 包\n",
    "\n",
    "用处：当你不知道你想要安装的软件的准确名称时，你可以用该命令来搜索软件包。你需要在”search”参数后面键入软件的部分名称来搜索。（在本例中我们使用”nano”）\n",
    "\n",
    "命令：# dnf search nano\n",
    "\n",
    "5) 查看软件包详情\n",
    "\n",
    "用处：当你想在安装某一个软件包之前查看它的详细信息时，这条命令可以帮到你。（在本例中，我们将查看”nano”这一软件包的详细信息）\n",
    "\n",
    "命令：# dnf info nano\n",
    "\n",
    "6) 安装软件包\n",
    "\n",
    "用处：使用该命令，系统将会自动安装对应的软件及其所需的所有依赖（在本例中，我们将用该命令安装nano软件）\n",
    "\n",
    "命令：# dnf install nano\n",
    "\n",
    "7) 升级软件包\n",
    "\n",
    "用处：该命令用于升级制定软件包（在本例中，我们将用命令升级”systemd”这一软件包）\n",
    "\n",
    "命令：# dnf update systemd\n",
    "\n",
    "8) 检查系统软件包的更新\n",
    "\n",
    "用处：该命令用于检查系统中所有软件包的更新\n",
    "\n",
    "命令：# dnf check-update\n",
    "\n",
    "9) 升级所有系统软件包\n",
    "\n",
    "用处：该命令用于升级系统中所有有可用升级的软件包\n",
    "\n",
    "命令：# dnf update 或 # dnf upgrade\n",
    "\n",
    "10) 删除软件包\n",
    "\n",
    "用处：删除系统中指定的软件包（在本例中我们将使用命令删除”nano”这一软件包）\n",
    "\n",
    "命令：# dnf remove nano 或 # dnf erase nano\n",
    "\n",
    "11) 查看所有的 DNF 命令及其用途\n",
    "\n",
    "用处：该命令用于列出所有的 DNF 命令及其用途\n",
    "\n",
    "命令：# dnf help"
   ]
  },
  {
   "cell_type": "markdown",
   "metadata": {},
   "source": [
    "### (3) APT\n",
    "\n",
    "APT工具是Debian系列（包括Ubuntu）Linux发行版本中的包管理器，它通过/etc/apt/sources.list文件配置指定源空间（存放安装包的网络空间）的位置，由apt-get和apt-cache来实现安装包的查询、安装、卸载等操作。\n",
    "\n",
    "注意：因为网络速度的问题，APT工具执行速度比较慢，验证时请稍微等候一下。\n",
    "\n",
    "1) 查询安装包\n",
    "\n",
    "\\#apt-cache search package\n",
    "\n",
    "2) 安装指定包\n",
    "\n",
    "\\#apt-get    install package\n",
    "\n",
    "3) 删除指定包\n",
    "\n",
    "\\#apt-get    remove package\n",
    "\n",
    "4) 升级所有包\n",
    "\n",
    "\\#apt-get   upgrade\n",
    "\n",
    "5) 升级到最新的发行版本\n",
    "\n",
    "\\#apt-get   dist-upgrade \n",
    "\n",
    "举例：\n",
    "\n",
    "更换默认源空间的位置到中国科大服务器。\n",
    "\n",
    "1）查看现在的源空间定义文件"
   ]
  },
  {
   "cell_type": "code",
   "execution_count": 23,
   "metadata": {
    "collapsed": false
   },
   "outputs": [
    {
     "name": "stdout",
     "output_type": "stream",
     "text": [
      "\u001b[0m\u001b[01;34mapt.conf.d\u001b[0m     sources.list    trusted.gpg\r\n",
      "\u001b[01;34mpreferences.d\u001b[0m  \u001b[01;34msources.list.d\u001b[0m  \u001b[01;34mtrusted.gpg.d\u001b[0m\r\n"
     ]
    }
   ],
   "source": [
    "ls /etc/apt/"
   ]
  },
  {
   "cell_type": "code",
   "execution_count": 25,
   "metadata": {
    "collapsed": false
   },
   "outputs": [
    {
     "name": "stdout",
     "output_type": "stream",
     "text": [
      "# See http://help.ubuntu.com/community/UpgradeNotes for how to upgrade to\r\n",
      "# newer versions of the distribution.\r\n",
      "\r\n",
      "deb http://archive.ubuntu.com/ubuntu/ trusty main restricted\r\n",
      "deb-src http://archive.ubuntu.com/ubuntu/ trusty main restricted\r\n",
      "\r\n",
      "## Major bug fix updates produced after the final release of the\r\n",
      "## distribution.\r\n",
      "deb http://archive.ubuntu.com/ubuntu/ trusty-updates main restricted\r\n",
      "deb-src http://archive.ubuntu.com/ubuntu/ trusty-updates main restricted\r\n",
      "\r\n",
      "## Uncomment the following two lines to add software from the 'universe'\r\n",
      "## repository.\r\n",
      "## N.B. software from this repository is ENTIRELY UNSUPPORTED by the Ubuntu\r\n",
      "## team. Also, please note that software in universe WILL NOT receive any\r\n",
      "## review or updates from the Ubuntu security team.\r\n",
      "deb http://archive.ubuntu.com/ubuntu/ trusty universe\r\n",
      "deb-src http://archive.ubuntu.com/ubuntu/ trusty universe\r\n",
      "deb http://archive.ubuntu.com/ubuntu/ trusty-updates universe\r\n",
      "deb-src http://archive.ubuntu.com/ubuntu/ trusty-updates universe\r\n",
      "\r\n",
      "## N.B. software from this repository may not have been tested as\r\n",
      "## extensively as that contained in the main release, although it includes\r\n",
      "## newer versions of some applications which may provide useful features.\r\n",
      "## Also, please note that software in backports WILL NOT receive any review\r\n",
      "## or updates from the Ubuntu security team.\r\n",
      "# deb http://archive.ubuntu.com/ubuntu/ trusty-backports main restricted\r\n",
      "# deb-src http://archive.ubuntu.com/ubuntu/ trusty-backports main restricted\r\n",
      "\r\n",
      "deb http://archive.ubuntu.com/ubuntu/ trusty-security main restricted\r\n",
      "deb-src http://archive.ubuntu.com/ubuntu/ trusty-security main restricted\r\n",
      "deb http://archive.ubuntu.com/ubuntu/ trusty-security universe\r\n",
      "deb-src http://archive.ubuntu.com/ubuntu/ trusty-security universe\r\n",
      "# deb http://archive.ubuntu.com/ubuntu/ trusty-security multiverse\r\n",
      "# deb-src http://archive.ubuntu.com/ubuntu/ trusty-security multiverse\r\n"
     ]
    }
   ],
   "source": [
    "cat /etc/apt/sources.list"
   ]
  },
  {
   "cell_type": "markdown",
   "metadata": {},
   "source": [
    "可见，默认的源是国外的ubuntu.com服务器，直接使用这个源会使得安装过程非常慢。"
   ]
  },
  {
   "cell_type": "markdown",
   "metadata": {},
   "source": [
    "2) 更换源空间定义文件\n",
    "\n",
    "访问[中国科大开源软件镜像](https://lug.ustc.edu.cn/wiki/mirrors/help)获取设置安装源的详细信息，以及下述souces.list文件。"
   ]
  },
  {
   "cell_type": "code",
   "execution_count": 29,
   "metadata": {
    "collapsed": false
   },
   "outputs": [
    {
     "name": "stdout",
     "output_type": "stream",
     "text": [
      "# deb cdrom:[Ubuntu 13.04 _Raring Ringtail_ - Release amd64 (20130424)]/ raring main restricted\r\n",
      "\r\n",
      "# See http://help.ubuntu.com/community/UpgradeNotes for how to upgrade to\r\n",
      "# newer versions of the distribution.\r\n",
      "deb http://mirrors.ustc.edu.cn/ubuntu/ trusty main restricted\r\n",
      "\r\n",
      "## Major bug fix updates produced after the final release of the\r\n",
      "## distribution.\r\n",
      "deb http://mirrors.ustc.edu.cn/ubuntu/ trusty-updates main restricted\r\n",
      "\r\n",
      "## N.B. software from this repository is ENTIRELY UNSUPPORTED by the Ubuntu\r\n",
      "## team. Also, please note that software in universe WILL NOT receive any\r\n",
      "## review or updates from the Ubuntu security team.\r\n",
      "deb http://mirrors.ustc.edu.cn/ubuntu/ trusty universe\r\n",
      "deb http://mirrors.ustc.edu.cn/ubuntu/ trusty-updates universe\r\n",
      "\r\n",
      "## N.B. software from this repository is ENTIRELY UNSUPPORTED by the Ubuntu \r\n",
      "## team, and may not be under a free licence. Please satisfy yourself as to \r\n",
      "## your rights to use the software. Also, please note that software in \r\n",
      "## multiverse WILL NOT receive any review or updates from the Ubuntu\r\n",
      "## security team.\r\n",
      "deb http://mirrors.ustc.edu.cn/ubuntu/ trusty multiverse\r\n",
      "deb http://mirrors.ustc.edu.cn/ubuntu/ trusty-updates multiverse\r\n",
      "\r\n",
      "## N.B. software from this repository may not have been tested as\r\n",
      "## extensively as that contained in the main release, although it includes\r\n",
      "## newer versions of some applications which may provide useful features.\r\n",
      "## Also, please note that software in backports WILL NOT receive any review\r\n",
      "## or updates from the Ubuntu security team.\r\n",
      "deb http://mirrors.ustc.edu.cn/ubuntu/ trusty-backports main restricted universe multiverse\r\n",
      "\r\n",
      "deb http://mirrors.ustc.edu.cn/ubuntu/ trusty-security main restricted\r\n",
      "deb http://mirrors.ustc.edu.cn/ubuntu/ trusty-security universe\r\n",
      "deb http://mirrors.ustc.edu.cn/ubuntu/ trusty-security multiverse\r\n",
      "\r\n",
      "## Uncomment the following two lines to add software from Canonical's\r\n",
      "## 'partner' repository.\r\n",
      "## This software is not part of Ubuntu, but is offered by Canonical and the\r\n",
      "## respective vendors as a service to Ubuntu users.\r\n",
      "# deb http://archive.canonical.com/ubuntu raring partner\r\n",
      "# deb-src http://archive.canonical.com/ubuntu raring partner\r\n",
      "\r\n",
      "## This software is not part of Ubuntu, but is offered by third-party\r\n",
      "## developers who want to ship their latest software.\r\n",
      "deb http://extras.ubuntu.com/ubuntu trusty main\r\n",
      "deb-src http://extras.ubuntu.com/ubuntu trusty main\r\n",
      "\r\n",
      "deb http://mirrors.ustc.edu.cn/ubuntu/ trusty-proposed main universe multiverse restricted\r\n",
      "add new line\r\n"
     ]
    }
   ],
   "source": [
    "cat /notebooks/workspace/sources.list"
   ]
  },
  {
   "cell_type": "markdown",
   "metadata": {},
   "source": [
    "可见，源空间文件中的服务器为ustc.edu.cn，即中国科大的服务器。"
   ]
  },
  {
   "cell_type": "markdown",
   "metadata": {},
   "source": [
    "3) 覆盖原来的源空间定义文件"
   ]
  },
  {
   "cell_type": "markdown",
   "metadata": {},
   "source": [
    "改变系统配置前需要先备份，这个习惯非常重要。"
   ]
  },
  {
   "cell_type": "code",
   "execution_count": 15,
   "metadata": {
    "collapsed": false
   },
   "outputs": [
    {
     "name": "stdout",
     "output_type": "stream",
     "text": []
    }
   ],
   "source": [
    "mv /etc/apt/sources.list /etc/apt/sources.list.back"
   ]
  },
  {
   "cell_type": "code",
   "execution_count": 1,
   "metadata": {
    "collapsed": false
   },
   "outputs": [
    {
     "name": "stdout",
     "output_type": "stream",
     "text": []
    }
   ],
   "source": [
    "cp /notebooks/workspace/sources.list /etc/apt/sources.list"
   ]
  },
  {
   "cell_type": "markdown",
   "metadata": {},
   "source": [
    "4) 更新缓存"
   ]
  },
  {
   "cell_type": "code",
   "execution_count": 13,
   "metadata": {
    "collapsed": false
   },
   "outputs": [
    {
     "name": "stdout",
     "output_type": "stream",
     "text": [
      "\r",
      "\r",
      "0% [Working]\r",
      "            \r",
      "Ign http://mirrors.ustc.edu.cn trusty InRelease\r\n",
      "\r",
      "            \r",
      "7% [Connecting to extras.ubuntu.com]\r",
      "                                    \r",
      "Get:1 http://mirrors.ustc.edu.cn trusty-updates InRelease [65.9 kB]\r\n",
      "\r",
      "                                    \r",
      "0% [1 InRelease 0 B/65.9 kB 0%] [Connecting to extras.ubuntu.com]\r",
      "                                                                 \r",
      "100% [Connecting to extras.ubuntu.com]\r",
      "                                      \r",
      "Get:2 http://mirrors.ustc.edu.cn trusty-backports InRelease [65.9 kB]\r\n",
      "\r",
      "                                      \r",
      "75% [2 InRelease 33.3 kB/65.9 kB 51%] [Connecting to extras.ubuntu.com]\r",
      "                                                                       \r",
      "75% [1 InRelease gpgv 65.9 kB] [2 InRelease 33.3 kB/65.9 kB 51%] [Connecting to\r",
      "                                                                               \r",
      "90% [2 InRelease 52.1 kB/65.9 kB 79%] [Connecting to extras.ubuntu.com]\r",
      "                                                                       \r",
      "100% [Connecting to extras.ubuntu.com]\r",
      "                                      \r",
      "100% [2 InRelease gpgv 65.9 kB] [Waiting for headers] [Connecting to extras.ubu\r",
      "                                                                               \r",
      "Get:3 http://mirrors.ustc.edu.cn trusty-security InRelease [65.9 kB]\r\n",
      "\r",
      "67% [2 InRelease gpgv 65.9 kB] [3 InRelease 0 B/65.9 kB 0%] [Connecting to extr\r",
      "                                                                               \r",
      "76% [3 InRelease 18.8 kB/65.9 kB 29%] [Connecting to extras.ubuntu.com]\r",
      "                                                                       \r",
      "100% [Connecting to extras.ubuntu.com]\r",
      "                                      \r",
      "100% [3 InRelease gpgv 65.9 kB] [Waiting for headers] [Connecting to extras.ubu\r",
      "                                                                               \r",
      "Get:4 http://mirrors.ustc.edu.cn trusty-proposed InRelease [65.9 kB]\r\n",
      "\r",
      "75% [3 InRelease gpgv 65.9 kB] [4 InRelease 0 B/65.9 kB 0%] [Connecting to extr\r",
      "                                                                               \r",
      "80% [4 InRelease 14.5 kB/65.9 kB 22%] [Connecting to extras.ubuntu.com]\r",
      "                                                                       \r",
      "100% [Connecting to extras.ubuntu.com]\r",
      "                                      \r",
      "100% [4 InRelease gpgv 65.9 kB] [Waiting for headers] [Connecting to extras.ubu\r",
      "                                                                               \r",
      "100% [Waiting for headers] [Connecting to extras.ubuntu.com]\r",
      "                                                            \r",
      "Get:5 http://mirrors.ustc.edu.cn trusty Release.gpg [933 B]\r\n",
      "\r",
      "                                                            \r",
      "100% [5 Release.gpg 933 B/933 B 100%] [Connecting to extras.ubuntu.com]\r",
      "                                                                       \r",
      "100% [Connecting to extras.ubuntu.com]\r",
      "                                      \r",
      "Get:6 http://mirrors.ustc.edu.cn trusty-updates/main amd64 Packages [1124 kB]\r\n",
      "\r",
      "                                      \r",
      "19% [6 Packages 0 B/1124 kB 0%] [Connecting to extras.ubuntu.com]\r",
      "                                                                 \r",
      "32% [6 Packages 175 kB/1124 kB 16%] [Connecting to extras.ubuntu.com]\r",
      "47% [6 Packages 390 kB/1124 kB 35%] [Connecting to extras.ubuntu.com]\r",
      "67% [6 Packages 663 kB/1124 kB 59%] [Connecting to extras.ubuntu.com]\r",
      "89% [6 Packages 977 kB/1124 kB 87%] [Connecting to extras.ubuntu.com]\r",
      "                                                                     \r",
      "100% [Connecting to extras.ubuntu.com]\r",
      "                                      \r",
      "Get:7 http://mirrors.ustc.edu.cn trusty-updates/restricted amd64 Packages [23.5 kB]\r\n",
      "\r",
      "                                      \r",
      "Get:8 http://mirrors.ustc.edu.cn trusty-updates/universe amd64 Packages [484 kB]\r\n",
      "\r",
      "                                      \r",
      "77% [8 Packages 43.4 kB/484 kB 9%] [Connecting to extras.ubuntu.com]\r",
      "                                                                    \r",
      "77% [6 Packages 0 B] [8 Packages 43.4 kB/484 kB 9%] [Connecting to extras.ubunt\r",
      "                                                                               \r",
      "84% [8 Packages 184 kB/484 kB 38%] [Connecting to extras.ubuntu.com]\r",
      "                                                                    \r",
      "84% [7 Packages 0 B] [8 Packages 184 kB/484 kB 38%] [Connecting to extras.ubunt\r",
      "                                                                               \r",
      "84% [8 Packages 184 kB/484 kB 38%] [Connecting to extras.ubuntu.com]\r",
      "91% [8 Packages 320 kB/484 kB 66%] [Connecting to extras.ubuntu.com]\r",
      "                                                                    \r",
      "100% [Connecting to extras.ubuntu.com]\r",
      "                                      \r",
      "100% [8 Packages 0 B] [Waiting for headers] [Connecting to extras.ubuntu.com]\r",
      "                                                                             \r",
      "Get:9 http://mirrors.ustc.edu.cn trusty-updates/multiverse amd64 Packages [16.1 kB]\r\n",
      "\r",
      "                                                                             \r",
      "99% [8 Packages 484 kB] [9 Packages 0 B/16.1 kB 0%] [Connecting to extras.ubunt\r",
      "                                                                               \r",
      "100% [8 Packages 484 kB] [Connecting to extras.ubuntu.com]\r",
      "                                                          \r",
      "100% [Waiting for headers] [Connecting to extras.ubuntu.com (91.189.92.152)]\r",
      "                                                                            \r",
      "100% [9 Packages 0 B] [Waiting for headers] [Connecting to extras.ubuntu.com (9\r",
      "                                                                               \r",
      "100% [Waiting for headers] [Connecting to extras.ubuntu.com (91.189.92.152)]\r",
      "                                                                            \r",
      "Get:10 http://mirrors.ustc.edu.cn trusty-backports/main amd64 Packages [14.8 kB]\r\n",
      "\r",
      "                                                                            \r",
      "99% [10 Packages 0 B/14.8 kB 0%] [Connecting to extras.ubuntu.com (91.189.92.15\r",
      "                                                                               \r",
      "100% [Connecting to extras.ubuntu.com (91.189.92.152)]\r",
      "                                                      \r",
      "100% [10 Packages 0 B] [Waiting for headers] [Connecting to extras.ubuntu.com (\r",
      "                                                                               \r",
      "100% [Waiting for headers] [Connecting to extras.ubuntu.com (91.189.92.152)]\r",
      "                                                                            \r",
      "Get:11 http://mirrors.ustc.edu.cn trusty-backports/restricted amd64 Packages [40 B]\r\n",
      "\r",
      "                                                                            \r",
      "100% [11 Packages 0 B/40 B 0%] [Connecting to extras.ubuntu.com (91.189.92.152)\r",
      "                                                                               \r",
      "100% [Connecting to extras.ubuntu.com (91.189.92.152)]\r",
      "                                                      \r",
      "100% [11 Packages 0 B] [Waiting for headers] [Connecting to extras.ubuntu.com (\r",
      "                                                                               \r",
      "100% [Waiting for headers] [Connecting to extras.ubuntu.com (91.189.92.152)]\r",
      "                                                                            \r",
      "Get:12 http://mirrors.ustc.edu.cn trusty-backports/universe amd64 Packages [52.6 kB]\r\n",
      "\r",
      "                                                                            \r",
      "97% [12 Packages 0 B/52.6 kB 0%] [Connecting to extras.ubuntu.com (91.189.92.15\r",
      "                                                                               \r",
      "100% [Connecting to extras.ubuntu.com (91.189.92.152)]\r",
      "                                                      \r",
      "100% [12 Packages 0 B] [Waiting for headers] [Connecting to extras.ubuntu.com (\r",
      "                                                                               \r",
      "100% [Waiting for headers] [Connecting to extras.ubuntu.com (91.189.92.152)]\r",
      "                                                                            \r",
      "Get:13 http://mirrors.ustc.edu.cn trusty-backports/multiverse amd64 Packages [1396 B]\r\n",
      "\r",
      "                                                                            \r",
      "100% [13 Packages 0 B/1396 B 0%] [Waiting for headers]\r",
      "                                                      \r",
      "100% [Waiting for headers]\r",
      "                          \r",
      "100% [13 Packages 0 B] [Waiting for headers] [Waiting for headers]\r",
      "                                                                  \r",
      "100% [Waiting for headers] [Waiting for headers]\r",
      "                                                \r",
      "Get:14 http://mirrors.ustc.edu.cn trusty-security/main amd64 Packages [661 kB]\r\n",
      "\r",
      "                                                \r",
      "75% [14 Packages 0 B/661 kB 0%] [Waiting for headers]\r",
      "                                                     \r",
      "Ign http://extras.ubuntu.com trusty InRelease\r\n",
      "\r",
      "                                                     \r",
      "83% [14 Packages 210 kB/661 kB 32%]\r",
      "                                   \r",
      "Get:15 http://extras.ubuntu.com trusty Release.gpg [72 B]\r\n",
      "\r",
      "92% [14 Packages 440 kB/661 kB 67%]\r",
      "                                   \r",
      "100% [Waiting for headers]                                          435 kB/s 0s\r",
      "100% [14 Packages 0 B] [Waiting for headers] [Waiting for headers]  435 kB/s 0s\r",
      "                                                                               \r",
      "Get:16 http://mirrors.ustc.edu.cn trusty-security/restricted amd64 Packages [20.2 kB]\r\n",
      "\r",
      "                                                                               \r",
      "99% [14 Packages 661 kB] [16 Packages 0 B/20.2 kB 0%] [Waiting for headers]\r",
      "                                                                           \r",
      "100% [14 Packages 661 kB] [Waiting for headers]                     435 kB/s 0s\r",
      "                                                                               \r",
      "Get:17 http://extras.ubuntu.com trusty Release [11.9 kB]\r\n",
      "\r",
      "100% [14 Packages 661 kB] [Waiting for headers] [17 Release 1257 B/11.9 kB 11%]\r",
      "100% [14 Packages 661 kB] [Waiting for headers]                     435 kB/s 0s\r",
      "                                                                               \r",
      "100% [14 Packages 661 kB] [17 Release gpgv 11.9 kB] [Waiting for headers]\r",
      "                                                                         \r",
      "Ign http://extras.ubuntu.com trusty Release\r\n",
      "\r",
      "                                                                         \r",
      "100% [14 Packages 661 kB] [Waiting for headers]                     435 kB/s 0s\r",
      "100% [Waiting for headers] [Waiting for headers]                    435 kB/s 0s\r",
      "100% [16 Packages 0 B] [Waiting for headers] [Waiting for headers]  435 kB/s 0s\r",
      "                                                                               \r",
      "Get:18 http://mirrors.ustc.edu.cn trusty-security/universe amd64 Packages [179 kB]\r\n",
      "\r",
      "                                                                               \r",
      "94% [16 Packages 20.2 kB] [18 Packages 0 B/179 kB 0%] [Waiting for headers]\r",
      "                                                                           \r",
      "94% [18 Packages 11.6 kB/179 kB 6%] [Waiting for headers]           435 kB/s 0s\r",
      "100% [Waiting for headers]                                          435 kB/s 0s\r",
      "100% [18 Packages 0 B] [Waiting for headers] [Waiting for headers]  435 kB/s 0s\r",
      "100% [Waiting for headers] [Waiting for headers]                    435 kB/s 0s\r",
      "                                                                               \r",
      "Get:19 http://mirrors.ustc.edu.cn trusty-security/multiverse amd64 Packages [4852 B]\r\n",
      "\r",
      "100% [19 Packages 0 B/4852 B 0%] [Waiting for headers]              435 kB/s 0s\r",
      "100% [Waiting for headers]                                          435 kB/s 0s\r",
      "100% [19 Packages 0 B] [Waiting for headers] [Waiting for headers]  435 kB/s 0s\r",
      "100% [Waiting for headers] [Waiting for headers]                    435 kB/s 0s\r",
      "                                                                               \r",
      "Get:20 http://extras.ubuntu.com trusty/main Sources [29 B]\r\n",
      "\r",
      "100% [Waiting for headers] [20 Sources 29 B/29 B 100%]              435 kB/s 0s\r",
      "100% [Waiting for headers]                                          435 kB/s 0s\r",
      "100% [20 Sources 0 B] [Waiting for headers]                         435 kB/s 0s\r",
      "100% [Waiting for headers] [Waiting for headers]                    435 kB/s 0s\r",
      "                                                                               \r",
      "Get:21 http://mirrors.ustc.edu.cn trusty-proposed/main amd64 Packages [132 kB]\r\n",
      "\r",
      "96% [21 Packages 0 B/132 kB 0%] [Waiting for headers]               435 kB/s 0s\r",
      "100% [Waiting for headers]                                          435 kB/s 0s\r",
      "100% [21 Packages 0 B] [Waiting for headers] [Waiting for headers]  435 kB/s 0s\r",
      "100% [Waiting for headers] [Waiting for headers]                    435 kB/s 0s\r",
      "                                                                               \r",
      "Get:22 http://mirrors.ustc.edu.cn trusty-proposed/universe amd64 Packages [13.7 kB]\r\n",
      "\r",
      "100% [22 Packages 0 B/13.7 kB 0%] [Waiting for headers]             435 kB/s 0s\r",
      "100% [Waiting for headers]                                          435 kB/s 0s\r",
      "100% [22 Packages 0 B] [Waiting for headers] [Waiting for headers]  435 kB/s 0s\r",
      "100% [Waiting for headers] [Waiting for headers]                    435 kB/s 0s\r",
      "                                                                               \r",
      "Get:23 http://extras.ubuntu.com trusty/main amd64 Packages [29 B]\r\n",
      "\r",
      "100% [Waiting for headers] [23 Packages 29 B/29 B 100%]             435 kB/s 0s\r",
      "100% [Waiting for headers]                                          435 kB/s 0s\r",
      "100% [23 Packages 0 B] [Waiting for headers]                        435 kB/s 0s\r",
      "100% [Waiting for headers]                                          435 kB/s 0s\r",
      "                                                                               \r",
      "Get:24 http://mirrors.ustc.edu.cn trusty-proposed/multiverse amd64 Packages [40 B]\r\n",
      "\r",
      "100% [24 Packages 0 B/40 B 0%]                                      435 kB/s 0s\r",
      "100% [Working]                                                      435 kB/s 0s\r",
      "100% [24 Packages 0 B] [Waiting for headers]                        435 kB/s 0s\r",
      "100% [Waiting for headers]                                          435 kB/s 0s\r",
      "                                                                               \r",
      "Get:25 http://mirrors.ustc.edu.cn trusty-proposed/restricted amd64 Packages [40 B]\r\n",
      "\r",
      "100% [25 Packages 0 B/40 B 0%]                                      435 kB/s 0s\r",
      "100% [Working]                                                      435 kB/s 0s\r",
      "100% [25 Packages 0 B] [Waiting for headers]                        435 kB/s 0s\r",
      "100% [Waiting for headers]                                          435 kB/s 0s\r",
      "                                                                               \r",
      "Get:26 http://mirrors.ustc.edu.cn trusty Release [58.5 kB]\r\n",
      "\r",
      "98% [26 Release 0 B/58.5 kB 0%]                                     435 kB/s 0s\r",
      "100% [Working]                                                      435 kB/s 0s\r",
      "100% [26 Release gpgv 58.5 kB]                                      435 kB/s 0s\r",
      "100% [Working]                                                      435 kB/s 0s\r",
      "                                                                               \r",
      "Get:27 http://mirrors.ustc.edu.cn trusty/main amd64 Packages [1743 kB]\r\n",
      "\r",
      "64% [27 Packages 0 B/1743 kB 0%]                                    435 kB/s 4s\r",
      "72% [27 Packages 388 kB/1743 kB 22%]                                435 kB/s 3s\r",
      "79% [27 Packages 752 kB/1743 kB 43%]                                435 kB/s 2s\r",
      "89% [27 Packages 1205 kB/1743 kB 69%]                               435 kB/s 1s\r",
      "99% [27 Packages 1693 kB/1743 kB 97%]                               435 kB/s 0s\r",
      "100% [Working]                                                      435 kB/s 0s\r",
      "100% [27 Packages 0 B]                                              435 kB/s 0s\r",
      "100% [Waiting for headers]                                          435 kB/s 0s\r",
      "100% [Waiting for headers]                                          435 kB/s 0s\r",
      "                                                                               \r",
      "Get:28 http://mirrors.ustc.edu.cn trusty/restricted amd64 Packages [16.0 kB]\r\n",
      "\r",
      "100% [28 Packages 0 B/16.0 kB 0%]                                   435 kB/s 0s\r",
      "100% [Working]                                                      435 kB/s 0s\r",
      "100% [28 Packages 0 B]                                              435 kB/s 0s\r",
      "100% [Waiting for headers]                                          435 kB/s 0s\r",
      "100% [Waiting for headers]                                          435 kB/s 0s\r",
      "                                                                               \r",
      "Get:29 http://mirrors.ustc.edu.cn trusty/universe amd64 Packages [7589 kB]\r\n",
      "\r",
      "39% [29 Packages 0 B/7589 kB 0%]                                   435 kB/s 17s\r",
      "43% [29 Packages 529 kB/7589 kB 7%]                                435 kB/s 16s\r",
      "48% [29 Packages 1079 kB/7589 kB 14%]                              537 kB/s 12s\r",
      "52% [29 Packages 1678 kB/7589 kB 22%]                              537 kB/s 10s\r",
      "57% [29 Packages 2256 kB/7589 kB 30%]                               537 kB/s 9s\r",
      "62% [29 Packages 2828 kB/7589 kB 37%]                               537 kB/s 8s\r",
      "66% [29 Packages 3352 kB/7589 kB 44%]                               537 kB/s 7s\r",
      "70% [29 Packages 3908 kB/7589 kB 51%]                               537 kB/s 6s\r",
      "75% [29 Packages 4528 kB/7589 kB 60%]                               537 kB/s 5s\r",
      "81% [29 Packages 5178 kB/7589 kB 68%]                               537 kB/s 4s\r",
      "86% [29 Packages 5848 kB/7589 kB 77%]                               537 kB/s 3s\r",
      "92% [29 Packages 6565 kB/7589 kB 87%]                               537 kB/s 1s\r",
      "98% [29 Packages 7331 kB/7589 kB 97%]                               537 kB/s 0s\r",
      "100% [Working]                                                      537 kB/s 0s\r",
      "100% [29 Packages 0 B]                                              537 kB/s 0s\r",
      "                                                                               \r",
      "Get:30 http://mirrors.ustc.edu.cn trusty/multiverse amd64 Packages [169 kB]\r\n",
      "\r",
      "99% [29 Packages 7589 kB] [30 Packages 0 B/169 kB 0%]               537 kB/s 0s\r",
      "100% [29 Packages 7589 kB]                                          537 kB/s 0s\r",
      "100% [29 Packages 7589 kB]                                         1079 kB/s 0s\r",
      "100% [Working]                                                     1079 kB/s 0s\r",
      "100% [30 Packages 0 B]                                             1079 kB/s 0s\r",
      "100% [Working]                                                     1079 kB/s 0s\r",
      "                                                                               \r",
      "Fetched 12.6 MB in 18s (679 kB/s)\r\n",
      "\r",
      "Reading package lists... 0%\r",
      "\r",
      "Reading package lists... 0%\r",
      "\r",
      "Reading package lists... 0%\r",
      "\r",
      "Reading package lists... 0%\r",
      "\r",
      "Reading package lists... 0%\r",
      "\r",
      "Reading package lists... 0%\r",
      "\r",
      "Reading package lists... 0%\r",
      "\r",
      "Reading package lists... 0%\r",
      "\r",
      "Reading package lists... 0%\r",
      "\r",
      "Reading package lists... 0%\r",
      "\r",
      "Reading package lists... 0%\r",
      "\r",
      "Reading package lists... 0%\r",
      "\r",
      "Reading package lists... 0%\r",
      "\r",
      "Reading package lists... 0%\r",
      "\r",
      "Reading package lists... 0%\r",
      "\r",
      "Reading package lists... 0%\r",
      "\r",
      "Reading package lists... 0%\r",
      "\r",
      "Reading package lists... 0%\r",
      "\r",
      "Reading package lists... 0%\r",
      "\r",
      "Reading package lists... 0%\r",
      "\r",
      "Reading package lists... 0%\r",
      "\r",
      "Reading package lists... 0%\r",
      "\r",
      "Reading package lists... 0%\r",
      "\r",
      "Reading package lists... 0%\r",
      "\r",
      "Reading package lists... 0%\r",
      "\r",
      "Reading package lists... 0%\r",
      "\r",
      "Reading package lists... 0%\r",
      "\r",
      "Reading package lists... 0%\r",
      "\r",
      "Reading package lists... 0%\r",
      "\r",
      "Reading package lists... 0%\r",
      "\r",
      "Reading package lists... 0%\r",
      "\r",
      "Reading package lists... 0%\r",
      "\r",
      "Reading package lists... 0%\r",
      "\r",
      "Reading package lists... 0%\r",
      "\r",
      "Reading package lists... 0%\r",
      "\r",
      "Reading package lists... 0%\r",
      "\r",
      "Reading package lists... 0%\r",
      "\r",
      "Reading package lists... 0%\r",
      "\r",
      "Reading package lists... 0%\r",
      "\r",
      "Reading package lists... 0%\r",
      "\r",
      "Reading package lists... 0%\r",
      "\r",
      "Reading package lists... 0%\r",
      "\r",
      "Reading package lists... 0%\r",
      "\r",
      "Reading package lists... 0%\r",
      "\r",
      "Reading package lists... 23%\r",
      "\r",
      "Reading package lists... Done\r",
      "\r\n",
      "W: GPG error: http://extras.ubuntu.com trusty Release: The following signatures couldn't be verified because the public key is not available: NO_PUBKEY 16126D3A3E5C1192\r\n"
     ]
    }
   ],
   "source": [
    "apt-get update"
   ]
  },
  {
   "cell_type": "markdown",
   "metadata": {},
   "source": [
    "执行结果显示：源空间已经修改为http://mirrors.ustc.edu.cn ，即中国科大的源空间。"
   ]
  },
  {
   "cell_type": "markdown",
   "metadata": {},
   "source": [
    "举例：\n",
    "\n",
    "安装netcat包"
   ]
  },
  {
   "cell_type": "markdown",
   "metadata": {},
   "source": [
    "1) 查找netcat包"
   ]
  },
  {
   "cell_type": "code",
   "execution_count": 26,
   "metadata": {
    "collapsed": false
   },
   "outputs": [
    {
     "name": "stdout",
     "output_type": "stream",
     "text": [
      "netcat-openbsd - TCP/IP swiss army knife\r\n",
      "cryptcat - A lightweight version netcat extended with twofish encryption\r\n",
      "netcat - TCP/IP swiss army knife -- transitional package\r\n",
      "netcat-traditional - TCP/IP swiss army knife\r\n",
      "netcat6 - TCP/IP swiss army knife with IPv6 support\r\n",
      "netrw - netcat like tool with nice features to transport files over network\r\n"
     ]
    }
   ],
   "source": [
    "apt-cache search netcat"
   ]
  },
  {
   "cell_type": "markdown",
   "metadata": {},
   "source": [
    "结果显示，包含netcat名称的包有6个，后续安装过程需要确定安装的包，我们确定为netcat那个。"
   ]
  },
  {
   "cell_type": "markdown",
   "metadata": {},
   "source": [
    "2) 安装"
   ]
  },
  {
   "cell_type": "code",
   "execution_count": 18,
   "metadata": {
    "collapsed": false
   },
   "outputs": [
    {
     "name": "stdout",
     "output_type": "stream",
     "text": [
      "\r",
      "Reading package lists... 0%\r",
      "\r",
      "Reading package lists... 0%\r",
      "\r",
      "Reading package lists... 0%\r",
      "\r",
      "Reading package lists... 0%\r",
      "\r",
      "Reading package lists... 0%\r",
      "\r",
      "Reading package lists... 0%\r",
      "\r",
      "Reading package lists... 0%\r",
      "\r",
      "Reading package lists... 0%\r",
      "\r",
      "Reading package lists... 0%\r",
      "\r",
      "Reading package lists... 0%\r",
      "\r",
      "Reading package lists... 0%\r",
      "\r",
      "Reading package lists... 0%\r",
      "\r",
      "Reading package lists... 0%\r",
      "\r",
      "Reading package lists... 0%\r",
      "\r",
      "Reading package lists... 0%\r",
      "\r",
      "Reading package lists... 0%\r",
      "\r",
      "Reading package lists... 0%\r",
      "\r",
      "Reading package lists... 0%\r",
      "\r",
      "Reading package lists... 0%\r",
      "\r",
      "Reading package lists... 0%\r",
      "\r",
      "Reading package lists... 0%\r",
      "\r",
      "Reading package lists... 0%\r",
      "\r",
      "Reading package lists... 0%\r",
      "\r",
      "Reading package lists... 0%\r",
      "\r",
      "Reading package lists... 0%\r",
      "\r",
      "Reading package lists... 0%\r",
      "\r",
      "Reading package lists... 0%\r",
      "\r",
      "Reading package lists... 0%\r",
      "\r",
      "Reading package lists... 0%\r",
      "\r",
      "Reading package lists... 0%\r",
      "\r",
      "Reading package lists... 0%\r",
      "\r",
      "Reading package lists... 0%\r",
      "\r",
      "Reading package lists... 0%\r",
      "\r",
      "Reading package lists... 0%\r",
      "\r",
      "Reading package lists... 0%\r",
      "\r",
      "Reading package lists... 0%\r",
      "\r",
      "Reading package lists... 0%\r",
      "\r",
      "Reading package lists... 0%\r",
      "\r",
      "Reading package lists... 0%\r",
      "\r",
      "Reading package lists... 0%\r",
      "\r",
      "Reading package lists... 0%\r",
      "\r",
      "Reading package lists... 0%\r",
      "\r",
      "Reading package lists... 0%\r",
      "\r",
      "Reading package lists... 0%\r",
      "\r",
      "Reading package lists... 23%\r",
      "\r",
      "Reading package lists... Done\r",
      "\r\n",
      "\r",
      "Building dependency tree... 0%\r",
      "\r",
      "Building dependency tree... 0%\r",
      "\r",
      "Building dependency tree... 50%\r",
      "\r",
      "Building dependency tree... 50%\r",
      "\r",
      "Building dependency tree       \r",
      "\r\n",
      "\r",
      "Reading state information... 0%\r",
      "\r",
      "Reading state information... 0%\r",
      "\r",
      "Reading state information... Done\r",
      "\r\n",
      "The following extra packages will be installed:\r\n",
      "  netcat-traditional\r\n",
      "The following NEW packages will be installed:\r\n",
      "  netcat netcat-traditional\r\n",
      "0 upgraded, 2 newly installed, 0 to remove and 139 not upgraded.\r\n",
      "Need to get 68.4 kB of archives.\r\n",
      "After this operation, 191 kB of additional disk space will be used.\r\n",
      "\r",
      "\r",
      "0% [Working]\r",
      "            \r",
      "Get:1 http://mirrors.ustc.edu.cn/ubuntu/ trusty/universe netcat-traditional amd64 1.10-40 [65.0 kB]\r\n",
      "\r",
      "            \r",
      "0% [1 netcat-traditional 0 B/65.0 kB 0%]\r",
      "                                        \r",
      "95% [Working]\r",
      "             \r",
      "Get:2 http://mirrors.ustc.edu.cn/ubuntu/ trusty/universe netcat all 1.10-40 [3340 B]\r\n",
      "\r",
      "             \r",
      "95% [2 netcat 0 B/3340 B 0%]\r",
      "                            \r",
      "100% [Working]\r",
      "              \r",
      "Fetched 68.4 kB in 0s (196 kB/s)\r\n",
      "debconf: unable to initialize frontend: Dialog\r\n",
      "debconf: (TERM is not set, so the dialog frontend is not usable.)\r\n",
      "debconf: falling back to frontend: Readline\r\n",
      "Selecting previously unselected package netcat-traditional.\r\n",
      "(Reading database ... \r",
      "(Reading database ... 5%\r",
      "(Reading database ... 10%\r",
      "(Reading database ... 15%\r",
      "(Reading database ... 20%\r",
      "(Reading database ... 25%\r",
      "(Reading database ... 30%\r",
      "(Reading database ... 35%\r",
      "(Reading database ... 40%\r",
      "(Reading database ... 45%\r",
      "(Reading database ... 50%\r",
      "(Reading database ... 55%\r",
      "(Reading database ... 60%\r",
      "(Reading database ... 65%\r",
      "(Reading database ... 70%\r",
      "(Reading database ... 75%\r",
      "(Reading database ... 80%\r",
      "(Reading database ... 85%\r",
      "(Reading database ... 90%\r",
      "(Reading database ... 95%\r",
      "(Reading database ... 100%\r",
      "(Reading database ... 28216 files and directories currently installed.)\r\n",
      "Preparing to unpack .../netcat-traditional_1.10-40_amd64.deb ...\r\n",
      "Unpacking netcat-traditional (1.10-40) ...\r\n",
      "Selecting previously unselected package netcat.\r\n",
      "Preparing to unpack .../netcat_1.10-40_all.deb ...\r\n",
      "Unpacking netcat (1.10-40) ...\r\n",
      "Setting up netcat-traditional (1.10-40) ...\r\n",
      "update-alternatives: using /bin/nc.traditional to provide /bin/nc (nc) in auto mode\r\n",
      "Setting up netcat (1.10-40) ...\r\n"
     ]
    }
   ],
   "source": [
    "apt-get install -y netcat"
   ]
  },
  {
   "cell_type": "markdown",
   "metadata": {},
   "source": [
    "-y选项表示安装过程中所有的交互式问题都以yes的方式回答。运行结果显示，安装包是从源空间 http://mirrors.ustc.edu.cn/ubuntu/ 上下载的，跟netcat相关的netcat-traditional包也被安装成功。"
   ]
  },
  {
   "cell_type": "markdown",
   "metadata": {},
   "source": [
    "3) 验证"
   ]
  },
  {
   "cell_type": "code",
   "execution_count": 19,
   "metadata": {
    "collapsed": false
   },
   "outputs": [
    {
     "name": "stdout",
     "output_type": "stream",
     "text": [
      "Desired=Unknown/Install/Remove/Purge/Hold\r\n",
      "| Status=Not/Inst/Conf-files/Unpacked/halF-conf/Half-inst/trig-aWait/Trig-pend\r\n",
      "|/ Err?=(none)/Reinst-required (Status,Err: uppercase=bad)\r\n",
      "||/ Name           Version      Architecture Description\r\n",
      "+++-==============-============-============-=================================\r\n",
      "ii  netcat         1.10-40      all          TCP/IP swiss army knife -- transi\r\n"
     ]
    }
   ],
   "source": [
    "dpkg -l netcat"
   ]
  },
  {
   "cell_type": "code",
   "execution_count": 20,
   "metadata": {
    "collapsed": false
   },
   "outputs": [
    {
     "name": "stdout",
     "output_type": "stream",
     "text": [
      "Desired=Unknown/Install/Remove/Purge/Hold\r\n",
      "| Status=Not/Inst/Conf-files/Unpacked/halF-conf/Half-inst/trig-aWait/Trig-pend\r\n",
      "|/ Err?=(none)/Reinst-required (Status,Err: uppercase=bad)\r\n",
      "||/ Name           Version      Architecture Description\r\n",
      "+++-==============-============-============-=================================\r\n",
      "ii  netcat-traditi 1.10-40      amd64        TCP/IP swiss army knife\r\n"
     ]
    }
   ],
   "source": [
    "dpkg -l netcat-traditional"
   ]
  },
  {
   "cell_type": "markdown",
   "metadata": {},
   "source": [
    "上述命令列出netcat包的名称、安装状态等信息。"
   ]
  },
  {
   "cell_type": "code",
   "execution_count": 58,
   "metadata": {
    "collapsed": false
   },
   "outputs": [
    {
     "name": "stdout",
     "output_type": "stream",
     "text": [
      "/.\r\n",
      "/usr\r\n",
      "/usr/share\r\n",
      "/usr/share/doc\r\n",
      "/usr/share/doc/netcat\r\n",
      "/usr/share/doc/netcat/copyright\r\n",
      "/usr/share/doc/netcat/changelog.Debian.gz\r\n"
     ]
    }
   ],
   "source": [
    "dpkg -L netcat"
   ]
  },
  {
   "cell_type": "code",
   "execution_count": 59,
   "metadata": {
    "collapsed": false
   },
   "outputs": [
    {
     "name": "stdout",
     "output_type": "stream",
     "text": [
      "/.\r\n",
      "/usr\r\n",
      "/usr/share\r\n",
      "/usr/share/man\r\n",
      "/usr/share/man/man1\r\n",
      "/usr/share/man/man1/nc.traditional.1.gz\r\n",
      "/usr/share/doc\r\n",
      "/usr/share/doc/netcat-traditional\r\n",
      "/usr/share/doc/netcat-traditional/README.Debian\r\n",
      "/usr/share/doc/netcat-traditional/README.gz\r\n",
      "/usr/share/doc/netcat-traditional/copyright\r\n",
      "/usr/share/doc/netcat-traditional/examples\r\n",
      "/usr/share/doc/netcat-traditional/examples/contrib\r\n",
      "/usr/share/doc/netcat-traditional/examples/contrib/ncmeter\r\n",
      "/usr/share/doc/netcat-traditional/examples/scripts\r\n",
      "/usr/share/doc/netcat-traditional/examples/scripts/README\r\n",
      "/usr/share/doc/netcat-traditional/examples/scripts/probe\r\n",
      "/usr/share/doc/netcat-traditional/examples/scripts/iscan\r\n",
      "/usr/share/doc/netcat-traditional/examples/scripts/bsh\r\n",
      "/usr/share/doc/netcat-traditional/examples/scripts/ncp\r\n",
      "/usr/share/doc/netcat-traditional/examples/scripts/irc\r\n",
      "/usr/share/doc/netcat-traditional/examples/scripts/alta\r\n",
      "/usr/share/doc/netcat-traditional/examples/scripts/webproxy\r\n",
      "/usr/share/doc/netcat-traditional/examples/scripts/webrelay\r\n",
      "/usr/share/doc/netcat-traditional/examples/scripts/websearch\r\n",
      "/usr/share/doc/netcat-traditional/examples/scripts/web\r\n",
      "/usr/share/doc/netcat-traditional/examples/scripts/dist.sh\r\n",
      "/usr/share/doc/netcat-traditional/examples/data\r\n",
      "/usr/share/doc/netcat-traditional/examples/data/data.c\r\n",
      "/usr/share/doc/netcat-traditional/examples/data/README\r\n",
      "/usr/share/doc/netcat-traditional/examples/data/dns-any.d\r\n",
      "/usr/share/doc/netcat-traditional/examples/data/showmount.d\r\n",
      "/usr/share/doc/netcat-traditional/examples/data/xor.c\r\n",
      "/usr/share/doc/netcat-traditional/examples/data/pmap-mnt.d\r\n",
      "/usr/share/doc/netcat-traditional/examples/data/Makefile\r\n",
      "/usr/share/doc/netcat-traditional/examples/data/pm.d\r\n",
      "/usr/share/doc/netcat-traditional/examples/data/pmap-dump.d\r\n",
      "/usr/share/doc/netcat-traditional/examples/data/rip.d\r\n",
      "/usr/share/doc/netcat-traditional/examples/data/rservice.c\r\n",
      "/usr/share/doc/netcat-traditional/examples/data/nfs-0.d\r\n",
      "/usr/share/doc/netcat-traditional/changelog.Debian.gz\r\n",
      "/bin\r\n",
      "/bin/nc.traditional\r\n"
     ]
    }
   ],
   "source": [
    "dpkg -L netcat-traditional"
   ]
  },
  {
   "cell_type": "markdown",
   "metadata": {},
   "source": [
    "上述命令列出netcat包到底安装了哪些文件到系统中。"
   ]
  },
  {
   "cell_type": "code",
   "execution_count": 21,
   "metadata": {
    "collapsed": false
   },
   "outputs": [
    {
     "name": "stdout",
     "output_type": "stream",
     "text": [
      "[v1.10-40]\r\n",
      "connect to somewhere:\tnc [-options] hostname port[s] [ports] ... \r\n",
      "listen for inbound:\tnc -l -p port [-options] [hostname] [port]\r\n",
      "options:\r\n",
      "\t-c shell commands\tas `-e'; use /bin/sh to exec [dangerous!!]\r\n",
      "\t-e filename\t\tprogram to exec after connect [dangerous!!]\r\n",
      "\t-b\t\t\tallow broadcasts\r\n",
      "\t-g gateway\t\tsource-routing hop point[s], up to 8\r\n",
      "\t-G num\t\t\tsource-routing pointer: 4, 8, 12, ...\r\n",
      "\t-h\t\t\tthis cruft\r\n",
      "\t-i secs\t\t\tdelay interval for lines sent, ports scanned\r\n",
      "        -k                      set keepalive option on socket\r\n",
      "\t-l\t\t\tlisten mode, for inbound connects\r\n",
      "\t-n\t\t\tnumeric-only IP addresses, no DNS\r\n",
      "\t-o file\t\t\thex dump of traffic\r\n",
      "\t-p port\t\t\tlocal port number\r\n",
      "\t-r\t\t\trandomize local and remote ports\r\n",
      "\t-q secs\t\t\tquit after EOF on stdin and delay of secs\r\n",
      "\t-s addr\t\t\tlocal source address\r\n",
      "\t-T tos\t\t\tset Type Of Service\r\n",
      "\t-t\t\t\tanswer TELNET negotiation\r\n",
      "\t-u\t\t\tUDP mode\r\n",
      "\t-v\t\t\tverbose [use twice to be more verbose]\r\n",
      "\t-w secs\t\t\ttimeout for connects and final net reads\r\n",
      "\t-z\t\t\tzero-I/O mode [used for scanning]\r\n",
      "port numbers can be individual or ranges: lo-hi [inclusive];\r\n",
      "hyphens in port names must be backslash escaped (e.g. 'ftp\\-data').\r\n"
     ]
    }
   ],
   "source": [
    "/bin/netcat -h"
   ]
  },
  {
   "cell_type": "markdown",
   "metadata": {},
   "source": [
    "运行结果表明，netcat命令已存在，因此netcat包安装成功。"
   ]
  },
  {
   "cell_type": "markdown",
   "metadata": {},
   "source": [
    "# 8. 实验任务\n",
    "\n",
    "访问[这里](/terminals/1)打开一个命令行窗口，完成如下任务：\n",
    "\n",
    "在容器中完成tomcat, mysql服务的网络安装，回答如下问题：\n",
    "\n",
    "1) 安装过程中，如何确定这两个服务的安装包名称？\n",
    "\n",
    "2) 如何验证这两个服务是否安装成功？\n",
    "\n",
    "3) tomcat服务包安装到系统中的文件有哪些？"
   ]
  },
  {
   "cell_type": "markdown",
   "metadata": {},
   "source": [
    "# 9. 实验思考\n",
    "\n",
    "1、如何完成.tar.gz包的软件卸载？能查询已安装过的.tar.gz包吗？"
   ]
  }
 ],
 "metadata": {
  "kernelspec": {
   "display_name": "Bash",
   "language": "bash",
   "name": "bash"
  },
  "language_info": {
   "codemirror_mode": "shell",
   "file_extension": ".sh",
   "mimetype": "text/x-sh",
   "name": "bash"
  }
 },
 "nbformat": 4,
 "nbformat_minor": 0
}
